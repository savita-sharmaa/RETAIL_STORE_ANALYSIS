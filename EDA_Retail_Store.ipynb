{
 "cells": [
  {
   "cell_type": "markdown",
   "id": "4300feaf-db3b-4e84-a62d-6ea8e01b466c",
   "metadata": {},
   "source": [
    "**First importing numpy,pandas,matplotlib,ydataprofiling & seaborn libraries**"
   ]
  },
  {
   "cell_type": "code",
   "execution_count": 1,
   "id": "93304008",
   "metadata": {},
   "outputs": [],
   "source": [
    "import numpy as np\n",
    "import pandas as pd\n",
    "import ydata_profiling    #pandas data profiling is now ydata profiling\n",
    "import matplotlib.pyplot as plt\n",
    "import getpass\n",
    "import seaborn as sns\n",
    "%matplotlib inline\n",
    "import snowflake.connector"
   ]
  },
  {
   "cell_type": "markdown",
   "id": "08eea959-3598-4f97-84b9-dda42e6feb46",
   "metadata": {},
   "source": [
    "**Connecting to snowflake**"
   ]
  },
  {
   "cell_type": "code",
   "execution_count": 2,
   "id": "10e01249",
   "metadata": {},
   "outputs": [
    {
     "name": "stdout",
     "output_type": "stream",
     "text": [
      "your snowflake password is: ········\n"
     ]
    }
   ],
   "source": [
    "conn= snowflake.connector.connect(\n",
    "user = 'your username',\n",
    "##password = getpass.getpass('your snowflake password is: '), \n",
    "password = 'your password',\n",
    "account = 'nmemvzg-rl71029',           ##https://nmemvzg-rl71029.snowflakecomputing.com\n",
    "database = 'RETAILS',\n",
    "schema = 'PUBLIC',\n",
    "warehouse = 'COMPUTE_WH'    \n",
    ")"
   ]
  },
  {
   "cell_type": "markdown",
   "id": "6e46598e-6628-4360-a743-2a8801d4fea9",
   "metadata": {},
   "source": [
    "**Setting interaction with databases**"
   ]
  },
  {
   "cell_type": "code",
   "execution_count": 4,
   "id": "59a87f20",
   "metadata": {},
   "outputs": [],
   "source": [
    "cur = conn.cursor()"
   ]
  },
  {
   "cell_type": "markdown",
   "id": "de321437-9daa-4415-9abe-61b9f175c17b",
   "metadata": {},
   "source": [
    "**Obtaining all the rows and columns from tables in snowflake**"
   ]
  },
  {
   "cell_type": "code",
   "execution_count": 5,
   "id": "3c27ef16",
   "metadata": {},
   "outputs": [],
   "source": [
    "select_demographic_RAW = 'select * from demographic_RAW'\n",
    "select_CAMPAIGN_DESC_RAW = 'select * from CAMPAIGN_DESC_RAW'\n",
    "select_CAMPAIGN_RAW = 'select * from CAMPAIGN_RAW'\n",
    "select_PRODUCT_RAW = 'select * from PRODUCT_RAW'\n",
    "select_COUPON_RAW = 'select * from COUPON_RAW'\n",
    "select_COUPON_REDEMPT_RAW = 'select * from COUPON_REDEMPT_RAW'\n",
    "select_TRANSACTION_RAW = 'select * from TRANSACTION_RAW'"
   ]
  },
  {
   "cell_type": "markdown",
   "id": "96928c3a-ba92-4a15-96de-064aaa801ea8",
   "metadata": {},
   "source": [
    "**fetching data from a database & returns data as a pandas dataframe.** "
   ]
  },
  {
   "cell_type": "code",
   "execution_count": 6,
   "id": "471a936d",
   "metadata": {},
   "outputs": [],
   "source": [
    "cur.execute(select_demographic_RAW)\n",
    "demographic_RAW = cur.fetch_pandas_all()"
   ]
  },
  {
   "cell_type": "code",
   "execution_count": 7,
   "id": "1a8a1418",
   "metadata": {},
   "outputs": [],
   "source": [
    "cur.execute(select_CAMPAIGN_DESC_RAW)\n",
    "CAMPAIGN_DESC_RAW = cur.fetch_pandas_all()"
   ]
  },
  {
   "cell_type": "code",
   "execution_count": 8,
   "id": "b5258635",
   "metadata": {},
   "outputs": [],
   "source": [
    "cur.execute(select_CAMPAIGN_RAW)\n",
    "CAMPAIGN_RAW = cur.fetch_pandas_all()"
   ]
  },
  {
   "cell_type": "code",
   "execution_count": 9,
   "id": "2fabede7",
   "metadata": {},
   "outputs": [],
   "source": [
    "cur.execute(select_PRODUCT_RAW)\n",
    "PRODUCT_RAW = cur.fetch_pandas_all()"
   ]
  },
  {
   "cell_type": "code",
   "execution_count": 10,
   "id": "b6c347c9",
   "metadata": {},
   "outputs": [],
   "source": [
    "cur.execute(select_COUPON_RAW)\n",
    "COUPON_RAW = cur.fetch_pandas_all()"
   ]
  },
  {
   "cell_type": "code",
   "execution_count": 11,
   "id": "2a67616e",
   "metadata": {},
   "outputs": [],
   "source": [
    "cur.execute(select_COUPON_REDEMPT_RAW)\n",
    "COUPON_REDEMPT_RAW = cur.fetch_pandas_all()"
   ]
  },
  {
   "cell_type": "code",
   "execution_count": 12,
   "id": "4867a9e5",
   "metadata": {},
   "outputs": [],
   "source": [
    "cur.execute(select_TRANSACTION_RAW)\n",
    "TRANSACTION_RAW = cur.fetch_pandas_all()"
   ]
  },
  {
   "cell_type": "code",
   "execution_count": 13,
   "id": "9595fd69",
   "metadata": {},
   "outputs": [],
   "source": [
    "cur.close()\n",
    "conn.close()"
   ]
  },
  {
   "cell_type": "markdown",
   "id": "77dd7d15-843a-4283-b8f2-0e65ac2d6b58",
   "metadata": {
    "tags": []
   },
   "source": [
    "**Viewing first 5 rows of demographic table**"
   ]
  },
  {
   "cell_type": "code",
   "execution_count": 15,
   "id": "f8686038",
   "metadata": {},
   "outputs": [
    {
     "data": {
      "text/html": [
       "<div>\n",
       "<style scoped>\n",
       "    .dataframe tbody tr th:only-of-type {\n",
       "        vertical-align: middle;\n",
       "    }\n",
       "\n",
       "    .dataframe tbody tr th {\n",
       "        vertical-align: top;\n",
       "    }\n",
       "\n",
       "    .dataframe thead th {\n",
       "        text-align: right;\n",
       "    }\n",
       "</style>\n",
       "<table border=\"1\" class=\"dataframe\">\n",
       "  <thead>\n",
       "    <tr style=\"text-align: right;\">\n",
       "      <th></th>\n",
       "      <th>AGE_DESC</th>\n",
       "      <th>MARITAL_STATUS_CODE</th>\n",
       "      <th>INCOME_DESC</th>\n",
       "      <th>HOMEOWNER_DESC</th>\n",
       "      <th>HH_COMP_DESC</th>\n",
       "      <th>HOUSEHOLD_SIZE_DESC</th>\n",
       "      <th>KID_CATEGORY_DESC</th>\n",
       "      <th>HOUSEHOLD_KEY</th>\n",
       "    </tr>\n",
       "  </thead>\n",
       "  <tbody>\n",
       "    <tr>\n",
       "      <th>0</th>\n",
       "      <td>65+</td>\n",
       "      <td>A</td>\n",
       "      <td>35-49K</td>\n",
       "      <td>Homeowner</td>\n",
       "      <td>2 Adults No Kids</td>\n",
       "      <td>2</td>\n",
       "      <td>None/Unknown</td>\n",
       "      <td>1</td>\n",
       "    </tr>\n",
       "    <tr>\n",
       "      <th>1</th>\n",
       "      <td>45-54</td>\n",
       "      <td>A</td>\n",
       "      <td>50-74K</td>\n",
       "      <td>Homeowner</td>\n",
       "      <td>2 Adults No Kids</td>\n",
       "      <td>2</td>\n",
       "      <td>None/Unknown</td>\n",
       "      <td>7</td>\n",
       "    </tr>\n",
       "    <tr>\n",
       "      <th>2</th>\n",
       "      <td>25-34</td>\n",
       "      <td>U</td>\n",
       "      <td>25-34K</td>\n",
       "      <td>Unknown</td>\n",
       "      <td>2 Adults Kids</td>\n",
       "      <td>3</td>\n",
       "      <td>1</td>\n",
       "      <td>8</td>\n",
       "    </tr>\n",
       "    <tr>\n",
       "      <th>3</th>\n",
       "      <td>25-34</td>\n",
       "      <td>U</td>\n",
       "      <td>75-99K</td>\n",
       "      <td>Homeowner</td>\n",
       "      <td>2 Adults Kids</td>\n",
       "      <td>4</td>\n",
       "      <td>2</td>\n",
       "      <td>13</td>\n",
       "    </tr>\n",
       "    <tr>\n",
       "      <th>4</th>\n",
       "      <td>45-54</td>\n",
       "      <td>B</td>\n",
       "      <td>50-74K</td>\n",
       "      <td>Homeowner</td>\n",
       "      <td>Single Female</td>\n",
       "      <td>1</td>\n",
       "      <td>None/Unknown</td>\n",
       "      <td>16</td>\n",
       "    </tr>\n",
       "  </tbody>\n",
       "</table>\n",
       "</div>"
      ],
      "text/plain": [
       "  AGE_DESC MARITAL_STATUS_CODE INCOME_DESC HOMEOWNER_DESC      HH_COMP_DESC  \\\n",
       "0      65+                   A      35-49K      Homeowner  2 Adults No Kids   \n",
       "1    45-54                   A      50-74K      Homeowner  2 Adults No Kids   \n",
       "2    25-34                   U      25-34K        Unknown     2 Adults Kids   \n",
       "3    25-34                   U      75-99K      Homeowner     2 Adults Kids   \n",
       "4    45-54                   B      50-74K      Homeowner     Single Female   \n",
       "\n",
       "  HOUSEHOLD_SIZE_DESC KID_CATEGORY_DESC  HOUSEHOLD_KEY  \n",
       "0                   2      None/Unknown              1  \n",
       "1                   2      None/Unknown              7  \n",
       "2                   3                 1              8  \n",
       "3                   4                 2             13  \n",
       "4                   1      None/Unknown             16  "
      ]
     },
     "execution_count": 15,
     "metadata": {},
     "output_type": "execute_result"
    }
   ],
   "source": [
    "demographic_RAW.head(5)"
   ]
  },
  {
   "cell_type": "code",
   "execution_count": 16,
   "id": "01377c79",
   "metadata": {},
   "outputs": [
    {
     "data": {
      "text/html": [
       "<div>\n",
       "<style scoped>\n",
       "    .dataframe tbody tr th:only-of-type {\n",
       "        vertical-align: middle;\n",
       "    }\n",
       "\n",
       "    .dataframe tbody tr th {\n",
       "        vertical-align: top;\n",
       "    }\n",
       "\n",
       "    .dataframe thead th {\n",
       "        text-align: right;\n",
       "    }\n",
       "</style>\n",
       "<table border=\"1\" class=\"dataframe\">\n",
       "  <thead>\n",
       "    <tr style=\"text-align: right;\">\n",
       "      <th></th>\n",
       "      <th>DESCRIPTION</th>\n",
       "      <th>CAMPAIGN</th>\n",
       "      <th>START_DAY</th>\n",
       "      <th>END_DAY</th>\n",
       "    </tr>\n",
       "  </thead>\n",
       "  <tbody>\n",
       "    <tr>\n",
       "      <th>0</th>\n",
       "      <td>TypeB</td>\n",
       "      <td>24</td>\n",
       "      <td>659</td>\n",
       "      <td>719</td>\n",
       "    </tr>\n",
       "    <tr>\n",
       "      <th>1</th>\n",
       "      <td>TypeC</td>\n",
       "      <td>15</td>\n",
       "      <td>547</td>\n",
       "      <td>708</td>\n",
       "    </tr>\n",
       "    <tr>\n",
       "      <th>2</th>\n",
       "      <td>TypeB</td>\n",
       "      <td>25</td>\n",
       "      <td>659</td>\n",
       "      <td>691</td>\n",
       "    </tr>\n",
       "    <tr>\n",
       "      <th>3</th>\n",
       "      <td>TypeC</td>\n",
       "      <td>20</td>\n",
       "      <td>615</td>\n",
       "      <td>685</td>\n",
       "    </tr>\n",
       "    <tr>\n",
       "      <th>4</th>\n",
       "      <td>TypeB</td>\n",
       "      <td>23</td>\n",
       "      <td>646</td>\n",
       "      <td>684</td>\n",
       "    </tr>\n",
       "  </tbody>\n",
       "</table>\n",
       "</div>"
      ],
      "text/plain": [
       "  DESCRIPTION  CAMPAIGN  START_DAY  END_DAY\n",
       "0       TypeB        24        659      719\n",
       "1       TypeC        15        547      708\n",
       "2       TypeB        25        659      691\n",
       "3       TypeC        20        615      685\n",
       "4       TypeB        23        646      684"
      ]
     },
     "execution_count": 16,
     "metadata": {},
     "output_type": "execute_result"
    }
   ],
   "source": [
    "CAMPAIGN_DESC_RAW.head(5)"
   ]
  },
  {
   "cell_type": "code",
   "execution_count": 27,
   "id": "4e745d6e",
   "metadata": {},
   "outputs": [
    {
     "data": {
      "text/html": [
       "<div>\n",
       "<style scoped>\n",
       "    .dataframe tbody tr th:only-of-type {\n",
       "        vertical-align: middle;\n",
       "    }\n",
       "\n",
       "    .dataframe tbody tr th {\n",
       "        vertical-align: top;\n",
       "    }\n",
       "\n",
       "    .dataframe thead th {\n",
       "        text-align: right;\n",
       "    }\n",
       "</style>\n",
       "<table border=\"1\" class=\"dataframe\">\n",
       "  <thead>\n",
       "    <tr style=\"text-align: right;\">\n",
       "      <th></th>\n",
       "      <th>DESCRIPTION</th>\n",
       "      <th>HOUSEHOLD_KEY</th>\n",
       "      <th>CAMPAIGN</th>\n",
       "    </tr>\n",
       "  </thead>\n",
       "  <tbody>\n",
       "    <tr>\n",
       "      <th>0</th>\n",
       "      <td>TypeA</td>\n",
       "      <td>17</td>\n",
       "      <td>26</td>\n",
       "    </tr>\n",
       "    <tr>\n",
       "      <th>1</th>\n",
       "      <td>TypeA</td>\n",
       "      <td>27</td>\n",
       "      <td>26</td>\n",
       "    </tr>\n",
       "    <tr>\n",
       "      <th>2</th>\n",
       "      <td>TypeA</td>\n",
       "      <td>212</td>\n",
       "      <td>26</td>\n",
       "    </tr>\n",
       "    <tr>\n",
       "      <th>3</th>\n",
       "      <td>TypeA</td>\n",
       "      <td>208</td>\n",
       "      <td>26</td>\n",
       "    </tr>\n",
       "    <tr>\n",
       "      <th>4</th>\n",
       "      <td>TypeA</td>\n",
       "      <td>192</td>\n",
       "      <td>26</td>\n",
       "    </tr>\n",
       "  </tbody>\n",
       "</table>\n",
       "</div>"
      ],
      "text/plain": [
       "  DESCRIPTION  HOUSEHOLD_KEY  CAMPAIGN\n",
       "0       TypeA             17        26\n",
       "1       TypeA             27        26\n",
       "2       TypeA            212        26\n",
       "3       TypeA            208        26\n",
       "4       TypeA            192        26"
      ]
     },
     "execution_count": 27,
     "metadata": {},
     "output_type": "execute_result"
    }
   ],
   "source": [
    "CAMPAIGN_RAW.head(5)"
   ]
  },
  {
   "cell_type": "code",
   "execution_count": 28,
   "id": "703450c0",
   "metadata": {},
   "outputs": [
    {
     "data": {
      "text/html": [
       "<div>\n",
       "<style scoped>\n",
       "    .dataframe tbody tr th:only-of-type {\n",
       "        vertical-align: middle;\n",
       "    }\n",
       "\n",
       "    .dataframe tbody tr th {\n",
       "        vertical-align: top;\n",
       "    }\n",
       "\n",
       "    .dataframe thead th {\n",
       "        text-align: right;\n",
       "    }\n",
       "</style>\n",
       "<table border=\"1\" class=\"dataframe\">\n",
       "  <thead>\n",
       "    <tr style=\"text-align: right;\">\n",
       "      <th></th>\n",
       "      <th>PRODUCT_ID</th>\n",
       "      <th>MANUFACTURER</th>\n",
       "      <th>DEPARTMENT</th>\n",
       "      <th>BRAND</th>\n",
       "      <th>COMMODITY_DESC</th>\n",
       "      <th>SUB_COMMODITY_DESC</th>\n",
       "      <th>CURR_SIZE_OF_PRODUCT</th>\n",
       "    </tr>\n",
       "  </thead>\n",
       "  <tbody>\n",
       "    <tr>\n",
       "      <th>0</th>\n",
       "      <td>25671</td>\n",
       "      <td>2</td>\n",
       "      <td>GROCERY</td>\n",
       "      <td>National</td>\n",
       "      <td>FRZN ICE</td>\n",
       "      <td>ICE - CRUSHED/CUBED</td>\n",
       "      <td>22 LB</td>\n",
       "    </tr>\n",
       "    <tr>\n",
       "      <th>1</th>\n",
       "      <td>26081</td>\n",
       "      <td>2</td>\n",
       "      <td>MISC. TRANS.</td>\n",
       "      <td>National</td>\n",
       "      <td>NO COMMODITY DESCRIPTION</td>\n",
       "      <td>NO SUBCOMMODITY DESCRIPTION</td>\n",
       "      <td></td>\n",
       "    </tr>\n",
       "    <tr>\n",
       "      <th>2</th>\n",
       "      <td>26093</td>\n",
       "      <td>69</td>\n",
       "      <td>PASTRY</td>\n",
       "      <td>Private</td>\n",
       "      <td>BREAD</td>\n",
       "      <td>BREAD:ITALIAN/FRENCH</td>\n",
       "      <td></td>\n",
       "    </tr>\n",
       "    <tr>\n",
       "      <th>3</th>\n",
       "      <td>26190</td>\n",
       "      <td>69</td>\n",
       "      <td>GROCERY</td>\n",
       "      <td>Private</td>\n",
       "      <td>FRUIT - SHELF STABLE</td>\n",
       "      <td>APPLE SAUCE</td>\n",
       "      <td>50 OZ</td>\n",
       "    </tr>\n",
       "    <tr>\n",
       "      <th>4</th>\n",
       "      <td>26355</td>\n",
       "      <td>69</td>\n",
       "      <td>GROCERY</td>\n",
       "      <td>Private</td>\n",
       "      <td>COOKIES/CONES</td>\n",
       "      <td>SPECIALTY COOKIES</td>\n",
       "      <td>14 OZ</td>\n",
       "    </tr>\n",
       "  </tbody>\n",
       "</table>\n",
       "</div>"
      ],
      "text/plain": [
       "   PRODUCT_ID  MANUFACTURER    DEPARTMENT     BRAND            COMMODITY_DESC  \\\n",
       "0       25671             2       GROCERY  National                  FRZN ICE   \n",
       "1       26081             2  MISC. TRANS.  National  NO COMMODITY DESCRIPTION   \n",
       "2       26093            69        PASTRY   Private                     BREAD   \n",
       "3       26190            69       GROCERY   Private      FRUIT - SHELF STABLE   \n",
       "4       26355            69       GROCERY   Private             COOKIES/CONES   \n",
       "\n",
       "            SUB_COMMODITY_DESC CURR_SIZE_OF_PRODUCT  \n",
       "0          ICE - CRUSHED/CUBED                22 LB  \n",
       "1  NO SUBCOMMODITY DESCRIPTION                       \n",
       "2         BREAD:ITALIAN/FRENCH                       \n",
       "3                  APPLE SAUCE                50 OZ  \n",
       "4            SPECIALTY COOKIES                14 OZ  "
      ]
     },
     "execution_count": 28,
     "metadata": {},
     "output_type": "execute_result"
    }
   ],
   "source": [
    "PRODUCT_RAW.head(5)"
   ]
  },
  {
   "cell_type": "code",
   "execution_count": 29,
   "id": "010db38a",
   "metadata": {},
   "outputs": [
    {
     "data": {
      "text/html": [
       "<div>\n",
       "<style scoped>\n",
       "    .dataframe tbody tr th:only-of-type {\n",
       "        vertical-align: middle;\n",
       "    }\n",
       "\n",
       "    .dataframe tbody tr th {\n",
       "        vertical-align: top;\n",
       "    }\n",
       "\n",
       "    .dataframe thead th {\n",
       "        text-align: right;\n",
       "    }\n",
       "</style>\n",
       "<table border=\"1\" class=\"dataframe\">\n",
       "  <thead>\n",
       "    <tr style=\"text-align: right;\">\n",
       "      <th></th>\n",
       "      <th>COUPON_UPC</th>\n",
       "      <th>PRODUCT_ID</th>\n",
       "      <th>CAMPAIGN</th>\n",
       "    </tr>\n",
       "  </thead>\n",
       "  <tbody>\n",
       "    <tr>\n",
       "      <th>0</th>\n",
       "      <td>10000089061</td>\n",
       "      <td>27160</td>\n",
       "      <td>4</td>\n",
       "    </tr>\n",
       "    <tr>\n",
       "      <th>1</th>\n",
       "      <td>10000089064</td>\n",
       "      <td>27754</td>\n",
       "      <td>9</td>\n",
       "    </tr>\n",
       "    <tr>\n",
       "      <th>2</th>\n",
       "      <td>10000089073</td>\n",
       "      <td>28897</td>\n",
       "      <td>12</td>\n",
       "    </tr>\n",
       "    <tr>\n",
       "      <th>3</th>\n",
       "      <td>51800009050</td>\n",
       "      <td>28919</td>\n",
       "      <td>28</td>\n",
       "    </tr>\n",
       "    <tr>\n",
       "      <th>4</th>\n",
       "      <td>52100000076</td>\n",
       "      <td>28929</td>\n",
       "      <td>25</td>\n",
       "    </tr>\n",
       "  </tbody>\n",
       "</table>\n",
       "</div>"
      ],
      "text/plain": [
       "    COUPON_UPC  PRODUCT_ID  CAMPAIGN\n",
       "0  10000089061       27160         4\n",
       "1  10000089064       27754         9\n",
       "2  10000089073       28897        12\n",
       "3  51800009050       28919        28\n",
       "4  52100000076       28929        25"
      ]
     },
     "execution_count": 29,
     "metadata": {},
     "output_type": "execute_result"
    }
   ],
   "source": [
    "COUPON_RAW.head(5)"
   ]
  },
  {
   "cell_type": "code",
   "execution_count": 30,
   "id": "3f72d6e4",
   "metadata": {},
   "outputs": [
    {
     "data": {
      "text/html": [
       "<div>\n",
       "<style scoped>\n",
       "    .dataframe tbody tr th:only-of-type {\n",
       "        vertical-align: middle;\n",
       "    }\n",
       "\n",
       "    .dataframe tbody tr th {\n",
       "        vertical-align: top;\n",
       "    }\n",
       "\n",
       "    .dataframe thead th {\n",
       "        text-align: right;\n",
       "    }\n",
       "</style>\n",
       "<table border=\"1\" class=\"dataframe\">\n",
       "  <thead>\n",
       "    <tr style=\"text-align: right;\">\n",
       "      <th></th>\n",
       "      <th>HOUSEHOLD_KEY</th>\n",
       "      <th>DAY</th>\n",
       "      <th>COUPON_UPC</th>\n",
       "      <th>CAMPAIGN</th>\n",
       "    </tr>\n",
       "  </thead>\n",
       "  <tbody>\n",
       "    <tr>\n",
       "      <th>0</th>\n",
       "      <td>1</td>\n",
       "      <td>421</td>\n",
       "      <td>10000085364</td>\n",
       "      <td>8</td>\n",
       "    </tr>\n",
       "    <tr>\n",
       "      <th>1</th>\n",
       "      <td>1</td>\n",
       "      <td>421</td>\n",
       "      <td>51700010076</td>\n",
       "      <td>8</td>\n",
       "    </tr>\n",
       "    <tr>\n",
       "      <th>2</th>\n",
       "      <td>1</td>\n",
       "      <td>427</td>\n",
       "      <td>54200000033</td>\n",
       "      <td>8</td>\n",
       "    </tr>\n",
       "    <tr>\n",
       "      <th>3</th>\n",
       "      <td>1</td>\n",
       "      <td>597</td>\n",
       "      <td>10000085476</td>\n",
       "      <td>18</td>\n",
       "    </tr>\n",
       "    <tr>\n",
       "      <th>4</th>\n",
       "      <td>1</td>\n",
       "      <td>597</td>\n",
       "      <td>54200029176</td>\n",
       "      <td>18</td>\n",
       "    </tr>\n",
       "  </tbody>\n",
       "</table>\n",
       "</div>"
      ],
      "text/plain": [
       "   HOUSEHOLD_KEY  DAY   COUPON_UPC  CAMPAIGN\n",
       "0              1  421  10000085364         8\n",
       "1              1  421  51700010076         8\n",
       "2              1  427  54200000033         8\n",
       "3              1  597  10000085476        18\n",
       "4              1  597  54200029176        18"
      ]
     },
     "execution_count": 30,
     "metadata": {},
     "output_type": "execute_result"
    }
   ],
   "source": [
    "COUPON_REDEMPT_RAW.head(5)"
   ]
  },
  {
   "cell_type": "code",
   "execution_count": 31,
   "id": "ecf5c127",
   "metadata": {},
   "outputs": [
    {
     "data": {
      "text/html": [
       "<div>\n",
       "<style scoped>\n",
       "    .dataframe tbody tr th:only-of-type {\n",
       "        vertical-align: middle;\n",
       "    }\n",
       "\n",
       "    .dataframe tbody tr th {\n",
       "        vertical-align: top;\n",
       "    }\n",
       "\n",
       "    .dataframe thead th {\n",
       "        text-align: right;\n",
       "    }\n",
       "</style>\n",
       "<table border=\"1\" class=\"dataframe\">\n",
       "  <thead>\n",
       "    <tr style=\"text-align: right;\">\n",
       "      <th></th>\n",
       "      <th>HOUSEHOLD_KEY</th>\n",
       "      <th>BASKET_ID</th>\n",
       "      <th>DAY</th>\n",
       "      <th>PRODUCT_ID</th>\n",
       "      <th>QUANTITY</th>\n",
       "      <th>SALES_VALUE</th>\n",
       "      <th>STORE_ID</th>\n",
       "      <th>RETAIL_DISC</th>\n",
       "      <th>TRANS_TIME</th>\n",
       "      <th>WEEK_NO</th>\n",
       "      <th>COUPON_DISC</th>\n",
       "      <th>COUPON_MATCH_DISC</th>\n",
       "    </tr>\n",
       "  </thead>\n",
       "  <tbody>\n",
       "    <tr>\n",
       "      <th>0</th>\n",
       "      <td>2375</td>\n",
       "      <td>26984851472</td>\n",
       "      <td>1</td>\n",
       "      <td>1004906</td>\n",
       "      <td>1</td>\n",
       "      <td>1.39</td>\n",
       "      <td>364</td>\n",
       "      <td>-0.60</td>\n",
       "      <td>1631</td>\n",
       "      <td>1</td>\n",
       "      <td>0</td>\n",
       "      <td>0</td>\n",
       "    </tr>\n",
       "    <tr>\n",
       "      <th>1</th>\n",
       "      <td>2375</td>\n",
       "      <td>26984851472</td>\n",
       "      <td>1</td>\n",
       "      <td>1033142</td>\n",
       "      <td>1</td>\n",
       "      <td>0.82</td>\n",
       "      <td>364</td>\n",
       "      <td>0.00</td>\n",
       "      <td>1631</td>\n",
       "      <td>1</td>\n",
       "      <td>0</td>\n",
       "      <td>0</td>\n",
       "    </tr>\n",
       "    <tr>\n",
       "      <th>2</th>\n",
       "      <td>2375</td>\n",
       "      <td>26984851472</td>\n",
       "      <td>1</td>\n",
       "      <td>1036325</td>\n",
       "      <td>1</td>\n",
       "      <td>0.99</td>\n",
       "      <td>364</td>\n",
       "      <td>-0.30</td>\n",
       "      <td>1631</td>\n",
       "      <td>1</td>\n",
       "      <td>0</td>\n",
       "      <td>0</td>\n",
       "    </tr>\n",
       "    <tr>\n",
       "      <th>3</th>\n",
       "      <td>2375</td>\n",
       "      <td>26984851472</td>\n",
       "      <td>1</td>\n",
       "      <td>1082185</td>\n",
       "      <td>1</td>\n",
       "      <td>1.21</td>\n",
       "      <td>364</td>\n",
       "      <td>0.00</td>\n",
       "      <td>1631</td>\n",
       "      <td>1</td>\n",
       "      <td>0</td>\n",
       "      <td>0</td>\n",
       "    </tr>\n",
       "    <tr>\n",
       "      <th>4</th>\n",
       "      <td>2375</td>\n",
       "      <td>26984851472</td>\n",
       "      <td>1</td>\n",
       "      <td>8160430</td>\n",
       "      <td>1</td>\n",
       "      <td>1.50</td>\n",
       "      <td>364</td>\n",
       "      <td>-0.39</td>\n",
       "      <td>1631</td>\n",
       "      <td>1</td>\n",
       "      <td>0</td>\n",
       "      <td>0</td>\n",
       "    </tr>\n",
       "  </tbody>\n",
       "</table>\n",
       "</div>"
      ],
      "text/plain": [
       "   HOUSEHOLD_KEY    BASKET_ID  DAY  PRODUCT_ID  QUANTITY  SALES_VALUE  \\\n",
       "0           2375  26984851472    1     1004906         1         1.39   \n",
       "1           2375  26984851472    1     1033142         1         0.82   \n",
       "2           2375  26984851472    1     1036325         1         0.99   \n",
       "3           2375  26984851472    1     1082185         1         1.21   \n",
       "4           2375  26984851472    1     8160430         1         1.50   \n",
       "\n",
       "   STORE_ID  RETAIL_DISC  TRANS_TIME  WEEK_NO  COUPON_DISC  COUPON_MATCH_DISC  \n",
       "0       364        -0.60        1631        1            0                  0  \n",
       "1       364         0.00        1631        1            0                  0  \n",
       "2       364        -0.30        1631        1            0                  0  \n",
       "3       364         0.00        1631        1            0                  0  \n",
       "4       364        -0.39        1631        1            0                  0  "
      ]
     },
     "execution_count": 31,
     "metadata": {},
     "output_type": "execute_result"
    }
   ],
   "source": [
    "TRANSACTION_RAW.head(5)"
   ]
  },
  {
   "cell_type": "markdown",
   "id": "d55eb626-b713-44fe-b545-fc7cead4edcc",
   "metadata": {},
   "source": [
    "**viewing number of rows and columns in tables**"
   ]
  },
  {
   "cell_type": "code",
   "execution_count": 32,
   "id": "b3740802",
   "metadata": {},
   "outputs": [
    {
     "data": {
      "text/plain": [
       "(450416, 12)"
      ]
     },
     "execution_count": 32,
     "metadata": {},
     "output_type": "execute_result"
    }
   ],
   "source": [
    "TRANSACTION_RAW.shape"
   ]
  },
  {
   "cell_type": "code",
   "execution_count": 33,
   "id": "4bde8154",
   "metadata": {},
   "outputs": [
    {
     "data": {
      "text/plain": [
       "(2318, 4)"
      ]
     },
     "execution_count": 33,
     "metadata": {},
     "output_type": "execute_result"
    }
   ],
   "source": [
    "COUPON_REDEMPT_RAW.shape"
   ]
  },
  {
   "cell_type": "code",
   "execution_count": 34,
   "id": "3a4a712d",
   "metadata": {},
   "outputs": [
    {
     "data": {
      "text/plain": [
       "(124548, 3)"
      ]
     },
     "execution_count": 34,
     "metadata": {},
     "output_type": "execute_result"
    }
   ],
   "source": [
    "COUPON_RAW.shape"
   ]
  },
  {
   "cell_type": "code",
   "execution_count": 35,
   "id": "78e4f02c",
   "metadata": {},
   "outputs": [
    {
     "data": {
      "text/plain": [
       "(92353, 7)"
      ]
     },
     "execution_count": 35,
     "metadata": {},
     "output_type": "execute_result"
    }
   ],
   "source": [
    "PRODUCT_RAW.shape"
   ]
  },
  {
   "cell_type": "code",
   "execution_count": 36,
   "id": "2d1228f1",
   "metadata": {},
   "outputs": [
    {
     "data": {
      "text/plain": [
       "(7208, 3)"
      ]
     },
     "execution_count": 36,
     "metadata": {},
     "output_type": "execute_result"
    }
   ],
   "source": [
    "CAMPAIGN_RAW.shape"
   ]
  },
  {
   "cell_type": "code",
   "execution_count": 37,
   "id": "9e113793",
   "metadata": {},
   "outputs": [
    {
     "data": {
      "text/plain": [
       "(30, 4)"
      ]
     },
     "execution_count": 37,
     "metadata": {},
     "output_type": "execute_result"
    }
   ],
   "source": [
    "CAMPAIGN_DESC_RAW.shape"
   ]
  },
  {
   "cell_type": "code",
   "execution_count": 38,
   "id": "b332496a",
   "metadata": {},
   "outputs": [
    {
     "data": {
      "text/plain": [
       "(2500, 8)"
      ]
     },
     "execution_count": 38,
     "metadata": {},
     "output_type": "execute_result"
    }
   ],
   "source": [
    "demographic_RAW.shape"
   ]
  },
  {
   "cell_type": "markdown",
   "id": "ce816702-56e6-4358-9b85-d9d5f547acc4",
   "metadata": {},
   "source": [
    "**Checking if there is any null value in table**"
   ]
  },
  {
   "cell_type": "code",
   "execution_count": 39,
   "id": "4d9856b2",
   "metadata": {},
   "outputs": [
    {
     "data": {
      "text/plain": [
       "AGE_DESC               0\n",
       "MARITAL_STATUS_CODE    0\n",
       "INCOME_DESC            0\n",
       "HOMEOWNER_DESC         0\n",
       "HH_COMP_DESC           0\n",
       "HOUSEHOLD_SIZE_DESC    0\n",
       "KID_CATEGORY_DESC      0\n",
       "HOUSEHOLD_KEY          0\n",
       "dtype: int64"
      ]
     },
     "execution_count": 39,
     "metadata": {},
     "output_type": "execute_result"
    }
   ],
   "source": [
    "demographic_RAW.isnull().sum()"
   ]
  },
  {
   "cell_type": "markdown",
   "id": "31aefc71-6a52-4921-b9fe-9e82af89547f",
   "metadata": {},
   "source": [
    "**observing statistical information about the columns in table**"
   ]
  },
  {
   "cell_type": "code",
   "execution_count": 44,
   "id": "bcf86d1f",
   "metadata": {},
   "outputs": [
    {
     "data": {
      "text/html": [
       "<div>\n",
       "<style scoped>\n",
       "    .dataframe tbody tr th:only-of-type {\n",
       "        vertical-align: middle;\n",
       "    }\n",
       "\n",
       "    .dataframe tbody tr th {\n",
       "        vertical-align: top;\n",
       "    }\n",
       "\n",
       "    .dataframe thead th {\n",
       "        text-align: right;\n",
       "    }\n",
       "</style>\n",
       "<table border=\"1\" class=\"dataframe\">\n",
       "  <thead>\n",
       "    <tr style=\"text-align: right;\">\n",
       "      <th></th>\n",
       "      <th>HOUSEHOLD_KEY</th>\n",
       "    </tr>\n",
       "  </thead>\n",
       "  <tbody>\n",
       "    <tr>\n",
       "      <th>count</th>\n",
       "      <td>2500.00000</td>\n",
       "    </tr>\n",
       "    <tr>\n",
       "      <th>mean</th>\n",
       "      <td>1250.50000</td>\n",
       "    </tr>\n",
       "    <tr>\n",
       "      <th>std</th>\n",
       "      <td>721.83216</td>\n",
       "    </tr>\n",
       "    <tr>\n",
       "      <th>min</th>\n",
       "      <td>1.00000</td>\n",
       "    </tr>\n",
       "    <tr>\n",
       "      <th>25%</th>\n",
       "      <td>625.75000</td>\n",
       "    </tr>\n",
       "    <tr>\n",
       "      <th>50%</th>\n",
       "      <td>1250.50000</td>\n",
       "    </tr>\n",
       "    <tr>\n",
       "      <th>75%</th>\n",
       "      <td>1875.25000</td>\n",
       "    </tr>\n",
       "    <tr>\n",
       "      <th>max</th>\n",
       "      <td>2500.00000</td>\n",
       "    </tr>\n",
       "  </tbody>\n",
       "</table>\n",
       "</div>"
      ],
      "text/plain": [
       "       HOUSEHOLD_KEY\n",
       "count     2500.00000\n",
       "mean      1250.50000\n",
       "std        721.83216\n",
       "min          1.00000\n",
       "25%        625.75000\n",
       "50%       1250.50000\n",
       "75%       1875.25000\n",
       "max       2500.00000"
      ]
     },
     "execution_count": 44,
     "metadata": {},
     "output_type": "execute_result"
    }
   ],
   "source": [
    "demographic_RAW.describe()"
   ]
  },
  {
   "cell_type": "code",
   "execution_count": 40,
   "id": "e6c91015",
   "metadata": {},
   "outputs": [
    {
     "data": {
      "text/plain": [
       "DESCRIPTION    0\n",
       "CAMPAIGN       0\n",
       "START_DAY      0\n",
       "END_DAY        0\n",
       "dtype: int64"
      ]
     },
     "execution_count": 40,
     "metadata": {},
     "output_type": "execute_result"
    }
   ],
   "source": [
    "CAMPAIGN_DESC_RAW.isnull().sum()"
   ]
  },
  {
   "cell_type": "code",
   "execution_count": 45,
   "id": "beda18ee",
   "metadata": {},
   "outputs": [
    {
     "data": {
      "text/html": [
       "<div>\n",
       "<style scoped>\n",
       "    .dataframe tbody tr th:only-of-type {\n",
       "        vertical-align: middle;\n",
       "    }\n",
       "\n",
       "    .dataframe tbody tr th {\n",
       "        vertical-align: top;\n",
       "    }\n",
       "\n",
       "    .dataframe thead th {\n",
       "        text-align: right;\n",
       "    }\n",
       "</style>\n",
       "<table border=\"1\" class=\"dataframe\">\n",
       "  <thead>\n",
       "    <tr style=\"text-align: right;\">\n",
       "      <th></th>\n",
       "      <th>CAMPAIGN</th>\n",
       "      <th>START_DAY</th>\n",
       "      <th>END_DAY</th>\n",
       "    </tr>\n",
       "  </thead>\n",
       "  <tbody>\n",
       "    <tr>\n",
       "      <th>count</th>\n",
       "      <td>30.000000</td>\n",
       "      <td>30.000000</td>\n",
       "      <td>30.000000</td>\n",
       "    </tr>\n",
       "    <tr>\n",
       "      <th>mean</th>\n",
       "      <td>15.500000</td>\n",
       "      <td>463.866667</td>\n",
       "      <td>510.466667</td>\n",
       "    </tr>\n",
       "    <tr>\n",
       "      <th>std</th>\n",
       "      <td>8.803408</td>\n",
       "      <td>134.488490</td>\n",
       "      <td>137.730555</td>\n",
       "    </tr>\n",
       "    <tr>\n",
       "      <th>min</th>\n",
       "      <td>1.000000</td>\n",
       "      <td>224.000000</td>\n",
       "      <td>264.000000</td>\n",
       "    </tr>\n",
       "    <tr>\n",
       "      <th>25%</th>\n",
       "      <td>8.250000</td>\n",
       "      <td>360.000000</td>\n",
       "      <td>405.750000</td>\n",
       "    </tr>\n",
       "    <tr>\n",
       "      <th>50%</th>\n",
       "      <td>15.500000</td>\n",
       "      <td>470.000000</td>\n",
       "      <td>502.000000</td>\n",
       "    </tr>\n",
       "    <tr>\n",
       "      <th>75%</th>\n",
       "      <td>22.750000</td>\n",
       "      <td>584.000000</td>\n",
       "      <td>640.250000</td>\n",
       "    </tr>\n",
       "    <tr>\n",
       "      <th>max</th>\n",
       "      <td>30.000000</td>\n",
       "      <td>659.000000</td>\n",
       "      <td>719.000000</td>\n",
       "    </tr>\n",
       "  </tbody>\n",
       "</table>\n",
       "</div>"
      ],
      "text/plain": [
       "        CAMPAIGN   START_DAY     END_DAY\n",
       "count  30.000000   30.000000   30.000000\n",
       "mean   15.500000  463.866667  510.466667\n",
       "std     8.803408  134.488490  137.730555\n",
       "min     1.000000  224.000000  264.000000\n",
       "25%     8.250000  360.000000  405.750000\n",
       "50%    15.500000  470.000000  502.000000\n",
       "75%    22.750000  584.000000  640.250000\n",
       "max    30.000000  659.000000  719.000000"
      ]
     },
     "execution_count": 45,
     "metadata": {},
     "output_type": "execute_result"
    }
   ],
   "source": [
    "CAMPAIGN_DESC_RAW.describe()"
   ]
  },
  {
   "cell_type": "code",
   "execution_count": 41,
   "id": "2ecb40b1",
   "metadata": {},
   "outputs": [
    {
     "data": {
      "text/plain": [
       "DESCRIPTION      0\n",
       "HOUSEHOLD_KEY    0\n",
       "CAMPAIGN         0\n",
       "dtype: int64"
      ]
     },
     "execution_count": 41,
     "metadata": {},
     "output_type": "execute_result"
    }
   ],
   "source": [
    "CAMPAIGN_RAW.isnull().sum()"
   ]
  },
  {
   "cell_type": "code",
   "execution_count": 46,
   "id": "3e103b0b",
   "metadata": {},
   "outputs": [
    {
     "data": {
      "text/html": [
       "<div>\n",
       "<style scoped>\n",
       "    .dataframe tbody tr th:only-of-type {\n",
       "        vertical-align: middle;\n",
       "    }\n",
       "\n",
       "    .dataframe tbody tr th {\n",
       "        vertical-align: top;\n",
       "    }\n",
       "\n",
       "    .dataframe thead th {\n",
       "        text-align: right;\n",
       "    }\n",
       "</style>\n",
       "<table border=\"1\" class=\"dataframe\">\n",
       "  <thead>\n",
       "    <tr style=\"text-align: right;\">\n",
       "      <th></th>\n",
       "      <th>HOUSEHOLD_KEY</th>\n",
       "      <th>CAMPAIGN</th>\n",
       "    </tr>\n",
       "  </thead>\n",
       "  <tbody>\n",
       "    <tr>\n",
       "      <th>count</th>\n",
       "      <td>7208.000000</td>\n",
       "      <td>7208.000000</td>\n",
       "    </tr>\n",
       "    <tr>\n",
       "      <th>mean</th>\n",
       "      <td>1268.696726</td>\n",
       "      <td>15.659545</td>\n",
       "    </tr>\n",
       "    <tr>\n",
       "      <th>std</th>\n",
       "      <td>731.936391</td>\n",
       "      <td>6.949705</td>\n",
       "    </tr>\n",
       "    <tr>\n",
       "      <th>min</th>\n",
       "      <td>1.000000</td>\n",
       "      <td>1.000000</td>\n",
       "    </tr>\n",
       "    <tr>\n",
       "      <th>25%</th>\n",
       "      <td>644.000000</td>\n",
       "      <td>9.000000</td>\n",
       "    </tr>\n",
       "    <tr>\n",
       "      <th>50%</th>\n",
       "      <td>1263.000000</td>\n",
       "      <td>14.000000</td>\n",
       "    </tr>\n",
       "    <tr>\n",
       "      <th>75%</th>\n",
       "      <td>1924.000000</td>\n",
       "      <td>20.000000</td>\n",
       "    </tr>\n",
       "    <tr>\n",
       "      <th>max</th>\n",
       "      <td>2500.000000</td>\n",
       "      <td>30.000000</td>\n",
       "    </tr>\n",
       "  </tbody>\n",
       "</table>\n",
       "</div>"
      ],
      "text/plain": [
       "       HOUSEHOLD_KEY     CAMPAIGN\n",
       "count    7208.000000  7208.000000\n",
       "mean     1268.696726    15.659545\n",
       "std       731.936391     6.949705\n",
       "min         1.000000     1.000000\n",
       "25%       644.000000     9.000000\n",
       "50%      1263.000000    14.000000\n",
       "75%      1924.000000    20.000000\n",
       "max      2500.000000    30.000000"
      ]
     },
     "execution_count": 46,
     "metadata": {},
     "output_type": "execute_result"
    }
   ],
   "source": [
    "CAMPAIGN_RAW.describe()"
   ]
  },
  {
   "cell_type": "code",
   "execution_count": 47,
   "id": "127d5157",
   "metadata": {},
   "outputs": [
    {
     "data": {
      "text/plain": [
       "PRODUCT_ID              0\n",
       "MANUFACTURER            0\n",
       "DEPARTMENT              0\n",
       "BRAND                   0\n",
       "COMMODITY_DESC          0\n",
       "SUB_COMMODITY_DESC      0\n",
       "CURR_SIZE_OF_PRODUCT    0\n",
       "dtype: int64"
      ]
     },
     "execution_count": 47,
     "metadata": {},
     "output_type": "execute_result"
    }
   ],
   "source": [
    "PRODUCT_RAW.isnull().sum()"
   ]
  },
  {
   "cell_type": "code",
   "execution_count": 48,
   "id": "36362787",
   "metadata": {},
   "outputs": [
    {
     "data": {
      "text/html": [
       "<div>\n",
       "<style scoped>\n",
       "    .dataframe tbody tr th:only-of-type {\n",
       "        vertical-align: middle;\n",
       "    }\n",
       "\n",
       "    .dataframe tbody tr th {\n",
       "        vertical-align: top;\n",
       "    }\n",
       "\n",
       "    .dataframe thead th {\n",
       "        text-align: right;\n",
       "    }\n",
       "</style>\n",
       "<table border=\"1\" class=\"dataframe\">\n",
       "  <thead>\n",
       "    <tr style=\"text-align: right;\">\n",
       "      <th></th>\n",
       "      <th>PRODUCT_ID</th>\n",
       "      <th>MANUFACTURER</th>\n",
       "    </tr>\n",
       "  </thead>\n",
       "  <tbody>\n",
       "    <tr>\n",
       "      <th>count</th>\n",
       "      <td>9.235300e+04</td>\n",
       "      <td>92353.00000</td>\n",
       "    </tr>\n",
       "    <tr>\n",
       "      <th>mean</th>\n",
       "      <td>5.328353e+06</td>\n",
       "      <td>1739.22833</td>\n",
       "    </tr>\n",
       "    <tr>\n",
       "      <th>std</th>\n",
       "      <td>5.359937e+06</td>\n",
       "      <td>1818.26957</td>\n",
       "    </tr>\n",
       "    <tr>\n",
       "      <th>min</th>\n",
       "      <td>2.567100e+04</td>\n",
       "      <td>1.00000</td>\n",
       "    </tr>\n",
       "    <tr>\n",
       "      <th>25%</th>\n",
       "      <td>9.706280e+05</td>\n",
       "      <td>328.00000</td>\n",
       "    </tr>\n",
       "    <tr>\n",
       "      <th>50%</th>\n",
       "      <td>1.621091e+06</td>\n",
       "      <td>1094.00000</td>\n",
       "    </tr>\n",
       "    <tr>\n",
       "      <th>75%</th>\n",
       "      <td>9.704770e+06</td>\n",
       "      <td>2264.00000</td>\n",
       "    </tr>\n",
       "    <tr>\n",
       "      <th>max</th>\n",
       "      <td>1.831630e+07</td>\n",
       "      <td>6477.00000</td>\n",
       "    </tr>\n",
       "  </tbody>\n",
       "</table>\n",
       "</div>"
      ],
      "text/plain": [
       "         PRODUCT_ID  MANUFACTURER\n",
       "count  9.235300e+04   92353.00000\n",
       "mean   5.328353e+06    1739.22833\n",
       "std    5.359937e+06    1818.26957\n",
       "min    2.567100e+04       1.00000\n",
       "25%    9.706280e+05     328.00000\n",
       "50%    1.621091e+06    1094.00000\n",
       "75%    9.704770e+06    2264.00000\n",
       "max    1.831630e+07    6477.00000"
      ]
     },
     "execution_count": 48,
     "metadata": {},
     "output_type": "execute_result"
    }
   ],
   "source": [
    "PRODUCT_RAW.describe()"
   ]
  },
  {
   "cell_type": "code",
   "execution_count": 49,
   "id": "74430ad5",
   "metadata": {},
   "outputs": [
    {
     "data": {
      "text/plain": [
       "COUPON_UPC    0\n",
       "PRODUCT_ID    0\n",
       "CAMPAIGN      0\n",
       "dtype: int64"
      ]
     },
     "execution_count": 49,
     "metadata": {},
     "output_type": "execute_result"
    }
   ],
   "source": [
    "COUPON_RAW.isnull().sum()"
   ]
  },
  {
   "cell_type": "code",
   "execution_count": 50,
   "id": "d55ab0c0",
   "metadata": {},
   "outputs": [
    {
     "data": {
      "text/html": [
       "<div>\n",
       "<style scoped>\n",
       "    .dataframe tbody tr th:only-of-type {\n",
       "        vertical-align: middle;\n",
       "    }\n",
       "\n",
       "    .dataframe tbody tr th {\n",
       "        vertical-align: top;\n",
       "    }\n",
       "\n",
       "    .dataframe thead th {\n",
       "        text-align: right;\n",
       "    }\n",
       "</style>\n",
       "<table border=\"1\" class=\"dataframe\">\n",
       "  <thead>\n",
       "    <tr style=\"text-align: right;\">\n",
       "      <th></th>\n",
       "      <th>COUPON_UPC</th>\n",
       "      <th>PRODUCT_ID</th>\n",
       "      <th>CAMPAIGN</th>\n",
       "    </tr>\n",
       "  </thead>\n",
       "  <tbody>\n",
       "    <tr>\n",
       "      <th>count</th>\n",
       "      <td>1.245480e+05</td>\n",
       "      <td>1.245480e+05</td>\n",
       "      <td>124548.000000</td>\n",
       "    </tr>\n",
       "    <tr>\n",
       "      <th>mean</th>\n",
       "      <td>2.198225e+10</td>\n",
       "      <td>4.651277e+06</td>\n",
       "      <td>15.855935</td>\n",
       "    </tr>\n",
       "    <tr>\n",
       "      <th>std</th>\n",
       "      <td>1.961641e+10</td>\n",
       "      <td>4.843450e+06</td>\n",
       "      <td>6.015524</td>\n",
       "    </tr>\n",
       "    <tr>\n",
       "      <th>min</th>\n",
       "      <td>1.000009e+10</td>\n",
       "      <td>2.567100e+04</td>\n",
       "      <td>1.000000</td>\n",
       "    </tr>\n",
       "    <tr>\n",
       "      <th>25%</th>\n",
       "      <td>1.000009e+10</td>\n",
       "      <td>9.593030e+05</td>\n",
       "      <td>13.000000</td>\n",
       "    </tr>\n",
       "    <tr>\n",
       "      <th>50%</th>\n",
       "      <td>1.000009e+10</td>\n",
       "      <td>1.411451e+06</td>\n",
       "      <td>14.000000</td>\n",
       "    </tr>\n",
       "    <tr>\n",
       "      <th>75%</th>\n",
       "      <td>5.111108e+10</td>\n",
       "      <td>8.357538e+06</td>\n",
       "      <td>18.000000</td>\n",
       "    </tr>\n",
       "    <tr>\n",
       "      <th>max</th>\n",
       "      <td>5.998660e+10</td>\n",
       "      <td>1.814854e+07</td>\n",
       "      <td>30.000000</td>\n",
       "    </tr>\n",
       "  </tbody>\n",
       "</table>\n",
       "</div>"
      ],
      "text/plain": [
       "         COUPON_UPC    PRODUCT_ID       CAMPAIGN\n",
       "count  1.245480e+05  1.245480e+05  124548.000000\n",
       "mean   2.198225e+10  4.651277e+06      15.855935\n",
       "std    1.961641e+10  4.843450e+06       6.015524\n",
       "min    1.000009e+10  2.567100e+04       1.000000\n",
       "25%    1.000009e+10  9.593030e+05      13.000000\n",
       "50%    1.000009e+10  1.411451e+06      14.000000\n",
       "75%    5.111108e+10  8.357538e+06      18.000000\n",
       "max    5.998660e+10  1.814854e+07      30.000000"
      ]
     },
     "execution_count": 50,
     "metadata": {},
     "output_type": "execute_result"
    }
   ],
   "source": [
    "COUPON_RAW.describe()"
   ]
  },
  {
   "cell_type": "code",
   "execution_count": 51,
   "id": "d3e5a83a",
   "metadata": {},
   "outputs": [
    {
     "data": {
      "text/plain": [
       "HOUSEHOLD_KEY    0\n",
       "DAY              0\n",
       "COUPON_UPC       0\n",
       "CAMPAIGN         0\n",
       "dtype: int64"
      ]
     },
     "execution_count": 51,
     "metadata": {},
     "output_type": "execute_result"
    }
   ],
   "source": [
    "COUPON_REDEMPT_RAW.isnull().sum()"
   ]
  },
  {
   "cell_type": "code",
   "execution_count": 52,
   "id": "628809a2",
   "metadata": {},
   "outputs": [
    {
     "data": {
      "text/html": [
       "<div>\n",
       "<style scoped>\n",
       "    .dataframe tbody tr th:only-of-type {\n",
       "        vertical-align: middle;\n",
       "    }\n",
       "\n",
       "    .dataframe tbody tr th {\n",
       "        vertical-align: top;\n",
       "    }\n",
       "\n",
       "    .dataframe thead th {\n",
       "        text-align: right;\n",
       "    }\n",
       "</style>\n",
       "<table border=\"1\" class=\"dataframe\">\n",
       "  <thead>\n",
       "    <tr style=\"text-align: right;\">\n",
       "      <th></th>\n",
       "      <th>HOUSEHOLD_KEY</th>\n",
       "      <th>DAY</th>\n",
       "      <th>COUPON_UPC</th>\n",
       "      <th>CAMPAIGN</th>\n",
       "    </tr>\n",
       "  </thead>\n",
       "  <tbody>\n",
       "    <tr>\n",
       "      <th>count</th>\n",
       "      <td>2318.000000</td>\n",
       "      <td>2318.000000</td>\n",
       "      <td>2.318000e+03</td>\n",
       "      <td>2318.000000</td>\n",
       "    </tr>\n",
       "    <tr>\n",
       "      <th>mean</th>\n",
       "      <td>1302.816652</td>\n",
       "      <td>528.217429</td>\n",
       "      <td>4.123049e+10</td>\n",
       "      <td>15.551337</td>\n",
       "    </tr>\n",
       "    <tr>\n",
       "      <th>std</th>\n",
       "      <td>783.002545</td>\n",
       "      <td>100.360985</td>\n",
       "      <td>1.986068e+10</td>\n",
       "      <td>5.716636</td>\n",
       "    </tr>\n",
       "    <tr>\n",
       "      <th>min</th>\n",
       "      <td>1.000000</td>\n",
       "      <td>225.000000</td>\n",
       "      <td>1.000009e+10</td>\n",
       "      <td>1.000000</td>\n",
       "    </tr>\n",
       "    <tr>\n",
       "      <th>25%</th>\n",
       "      <td>588.000000</td>\n",
       "      <td>458.250000</td>\n",
       "      <td>1.000009e+10</td>\n",
       "      <td>13.000000</td>\n",
       "    </tr>\n",
       "    <tr>\n",
       "      <th>50%</th>\n",
       "      <td>1396.500000</td>\n",
       "      <td>532.000000</td>\n",
       "      <td>5.234003e+10</td>\n",
       "      <td>14.000000</td>\n",
       "    </tr>\n",
       "    <tr>\n",
       "      <th>75%</th>\n",
       "      <td>2004.000000</td>\n",
       "      <td>605.000000</td>\n",
       "      <td>5.430002e+10</td>\n",
       "      <td>18.000000</td>\n",
       "    </tr>\n",
       "    <tr>\n",
       "      <th>max</th>\n",
       "      <td>2500.000000</td>\n",
       "      <td>704.000000</td>\n",
       "      <td>5.897850e+10</td>\n",
       "      <td>30.000000</td>\n",
       "    </tr>\n",
       "  </tbody>\n",
       "</table>\n",
       "</div>"
      ],
      "text/plain": [
       "       HOUSEHOLD_KEY          DAY    COUPON_UPC     CAMPAIGN\n",
       "count    2318.000000  2318.000000  2.318000e+03  2318.000000\n",
       "mean     1302.816652   528.217429  4.123049e+10    15.551337\n",
       "std       783.002545   100.360985  1.986068e+10     5.716636\n",
       "min         1.000000   225.000000  1.000009e+10     1.000000\n",
       "25%       588.000000   458.250000  1.000009e+10    13.000000\n",
       "50%      1396.500000   532.000000  5.234003e+10    14.000000\n",
       "75%      2004.000000   605.000000  5.430002e+10    18.000000\n",
       "max      2500.000000   704.000000  5.897850e+10    30.000000"
      ]
     },
     "execution_count": 52,
     "metadata": {},
     "output_type": "execute_result"
    }
   ],
   "source": [
    "COUPON_REDEMPT_RAW.describe()"
   ]
  },
  {
   "cell_type": "code",
   "execution_count": 53,
   "id": "3719b729",
   "metadata": {},
   "outputs": [
    {
     "data": {
      "text/plain": [
       "HOUSEHOLD_KEY        0\n",
       "BASKET_ID            0\n",
       "DAY                  0\n",
       "PRODUCT_ID           0\n",
       "QUANTITY             0\n",
       "SALES_VALUE          0\n",
       "STORE_ID             0\n",
       "RETAIL_DISC          0\n",
       "TRANS_TIME           0\n",
       "WEEK_NO              0\n",
       "COUPON_DISC          0\n",
       "COUPON_MATCH_DISC    0\n",
       "dtype: int64"
      ]
     },
     "execution_count": 53,
     "metadata": {},
     "output_type": "execute_result"
    }
   ],
   "source": [
    "TRANSACTION_RAW.isnull().sum()"
   ]
  },
  {
   "cell_type": "markdown",
   "id": "1829a318-d3b8-42cc-a88a-398acf08cfd4",
   "metadata": {},
   "source": [
    "**importing datetime and timedelta functions from datetime module**\n",
    "**Then a variable is created which stores the date '2020-01-01' in datetime format**"
   ]
  },
  {
   "cell_type": "code",
   "execution_count": 14,
   "id": "3d616f9b",
   "metadata": {},
   "outputs": [],
   "source": [
    "from datetime import datetime,timedelta"
   ]
  },
  {
   "cell_type": "code",
   "execution_count": 15,
   "id": "67b6bbca",
   "metadata": {},
   "outputs": [],
   "source": [
    "start_date = pd.to_datetime('2020-01-01')"
   ]
  },
  {
   "cell_type": "code",
   "execution_count": 17,
   "id": "e51576b6",
   "metadata": {},
   "outputs": [
    {
     "data": {
      "text/plain": [
       "Timestamp('2020-01-01 00:00:00')"
      ]
     },
     "execution_count": 17,
     "metadata": {},
     "output_type": "execute_result"
    }
   ],
   "source": [
    "start_date"
   ]
  },
  {
   "cell_type": "code",
   "execution_count": 57,
   "id": "7917a4af",
   "metadata": {},
   "outputs": [
    {
     "data": {
      "text/html": [
       "<div>\n",
       "<style scoped>\n",
       "    .dataframe tbody tr th:only-of-type {\n",
       "        vertical-align: middle;\n",
       "    }\n",
       "\n",
       "    .dataframe tbody tr th {\n",
       "        vertical-align: top;\n",
       "    }\n",
       "\n",
       "    .dataframe thead th {\n",
       "        text-align: right;\n",
       "    }\n",
       "</style>\n",
       "<table border=\"1\" class=\"dataframe\">\n",
       "  <thead>\n",
       "    <tr style=\"text-align: right;\">\n",
       "      <th></th>\n",
       "      <th>HOUSEHOLD_KEY</th>\n",
       "      <th>BASKET_ID</th>\n",
       "      <th>DAY</th>\n",
       "      <th>PRODUCT_ID</th>\n",
       "      <th>QUANTITY</th>\n",
       "      <th>SALES_VALUE</th>\n",
       "      <th>STORE_ID</th>\n",
       "      <th>RETAIL_DISC</th>\n",
       "      <th>TRANS_TIME</th>\n",
       "      <th>WEEK_NO</th>\n",
       "      <th>COUPON_DISC</th>\n",
       "      <th>COUPON_MATCH_DISC</th>\n",
       "    </tr>\n",
       "  </thead>\n",
       "  <tbody>\n",
       "    <tr>\n",
       "      <th>0</th>\n",
       "      <td>2375</td>\n",
       "      <td>26984851472</td>\n",
       "      <td>1</td>\n",
       "      <td>1004906</td>\n",
       "      <td>1</td>\n",
       "      <td>1.39</td>\n",
       "      <td>364</td>\n",
       "      <td>-0.60</td>\n",
       "      <td>1631</td>\n",
       "      <td>1</td>\n",
       "      <td>0</td>\n",
       "      <td>0</td>\n",
       "    </tr>\n",
       "    <tr>\n",
       "      <th>1</th>\n",
       "      <td>2375</td>\n",
       "      <td>26984851472</td>\n",
       "      <td>1</td>\n",
       "      <td>1033142</td>\n",
       "      <td>1</td>\n",
       "      <td>0.82</td>\n",
       "      <td>364</td>\n",
       "      <td>0.00</td>\n",
       "      <td>1631</td>\n",
       "      <td>1</td>\n",
       "      <td>0</td>\n",
       "      <td>0</td>\n",
       "    </tr>\n",
       "    <tr>\n",
       "      <th>2</th>\n",
       "      <td>2375</td>\n",
       "      <td>26984851472</td>\n",
       "      <td>1</td>\n",
       "      <td>1036325</td>\n",
       "      <td>1</td>\n",
       "      <td>0.99</td>\n",
       "      <td>364</td>\n",
       "      <td>-0.30</td>\n",
       "      <td>1631</td>\n",
       "      <td>1</td>\n",
       "      <td>0</td>\n",
       "      <td>0</td>\n",
       "    </tr>\n",
       "    <tr>\n",
       "      <th>3</th>\n",
       "      <td>2375</td>\n",
       "      <td>26984851472</td>\n",
       "      <td>1</td>\n",
       "      <td>1082185</td>\n",
       "      <td>1</td>\n",
       "      <td>1.21</td>\n",
       "      <td>364</td>\n",
       "      <td>0.00</td>\n",
       "      <td>1631</td>\n",
       "      <td>1</td>\n",
       "      <td>0</td>\n",
       "      <td>0</td>\n",
       "    </tr>\n",
       "    <tr>\n",
       "      <th>4</th>\n",
       "      <td>2375</td>\n",
       "      <td>26984851472</td>\n",
       "      <td>1</td>\n",
       "      <td>8160430</td>\n",
       "      <td>1</td>\n",
       "      <td>1.50</td>\n",
       "      <td>364</td>\n",
       "      <td>-0.39</td>\n",
       "      <td>1631</td>\n",
       "      <td>1</td>\n",
       "      <td>0</td>\n",
       "      <td>0</td>\n",
       "    </tr>\n",
       "    <tr>\n",
       "      <th>5</th>\n",
       "      <td>2375</td>\n",
       "      <td>26984851516</td>\n",
       "      <td>1</td>\n",
       "      <td>826249</td>\n",
       "      <td>2</td>\n",
       "      <td>1.98</td>\n",
       "      <td>364</td>\n",
       "      <td>-0.60</td>\n",
       "      <td>1642</td>\n",
       "      <td>1</td>\n",
       "      <td>0</td>\n",
       "      <td>0</td>\n",
       "    </tr>\n",
       "    <tr>\n",
       "      <th>6</th>\n",
       "      <td>2375</td>\n",
       "      <td>26984851516</td>\n",
       "      <td>1</td>\n",
       "      <td>1043142</td>\n",
       "      <td>1</td>\n",
       "      <td>1.57</td>\n",
       "      <td>364</td>\n",
       "      <td>-0.68</td>\n",
       "      <td>1642</td>\n",
       "      <td>1</td>\n",
       "      <td>0</td>\n",
       "      <td>0</td>\n",
       "    </tr>\n",
       "    <tr>\n",
       "      <th>7</th>\n",
       "      <td>2375</td>\n",
       "      <td>26984851516</td>\n",
       "      <td>1</td>\n",
       "      <td>1085983</td>\n",
       "      <td>1</td>\n",
       "      <td>2.99</td>\n",
       "      <td>364</td>\n",
       "      <td>-0.40</td>\n",
       "      <td>1642</td>\n",
       "      <td>1</td>\n",
       "      <td>0</td>\n",
       "      <td>0</td>\n",
       "    </tr>\n",
       "    <tr>\n",
       "      <th>8</th>\n",
       "      <td>2375</td>\n",
       "      <td>26984851516</td>\n",
       "      <td>1</td>\n",
       "      <td>1102651</td>\n",
       "      <td>1</td>\n",
       "      <td>1.89</td>\n",
       "      <td>364</td>\n",
       "      <td>0.00</td>\n",
       "      <td>1642</td>\n",
       "      <td>1</td>\n",
       "      <td>0</td>\n",
       "      <td>0</td>\n",
       "    </tr>\n",
       "    <tr>\n",
       "      <th>9</th>\n",
       "      <td>2375</td>\n",
       "      <td>26984851516</td>\n",
       "      <td>1</td>\n",
       "      <td>6423775</td>\n",
       "      <td>1</td>\n",
       "      <td>2.00</td>\n",
       "      <td>364</td>\n",
       "      <td>-0.79</td>\n",
       "      <td>1642</td>\n",
       "      <td>1</td>\n",
       "      <td>0</td>\n",
       "      <td>0</td>\n",
       "    </tr>\n",
       "  </tbody>\n",
       "</table>\n",
       "</div>"
      ],
      "text/plain": [
       "   HOUSEHOLD_KEY    BASKET_ID  DAY  PRODUCT_ID  QUANTITY  SALES_VALUE  \\\n",
       "0           2375  26984851472    1     1004906         1         1.39   \n",
       "1           2375  26984851472    1     1033142         1         0.82   \n",
       "2           2375  26984851472    1     1036325         1         0.99   \n",
       "3           2375  26984851472    1     1082185         1         1.21   \n",
       "4           2375  26984851472    1     8160430         1         1.50   \n",
       "5           2375  26984851516    1      826249         2         1.98   \n",
       "6           2375  26984851516    1     1043142         1         1.57   \n",
       "7           2375  26984851516    1     1085983         1         2.99   \n",
       "8           2375  26984851516    1     1102651         1         1.89   \n",
       "9           2375  26984851516    1     6423775         1         2.00   \n",
       "\n",
       "   STORE_ID  RETAIL_DISC  TRANS_TIME  WEEK_NO  COUPON_DISC  COUPON_MATCH_DISC  \n",
       "0       364        -0.60        1631        1            0                  0  \n",
       "1       364         0.00        1631        1            0                  0  \n",
       "2       364        -0.30        1631        1            0                  0  \n",
       "3       364         0.00        1631        1            0                  0  \n",
       "4       364        -0.39        1631        1            0                  0  \n",
       "5       364        -0.60        1642        1            0                  0  \n",
       "6       364        -0.68        1642        1            0                  0  \n",
       "7       364        -0.40        1642        1            0                  0  \n",
       "8       364         0.00        1642        1            0                  0  \n",
       "9       364        -0.79        1642        1            0                  0  "
      ]
     },
     "execution_count": 57,
     "metadata": {},
     "output_type": "execute_result"
    }
   ],
   "source": [
    "TRANSACTION_RAW.head(10)"
   ]
  },
  {
   "cell_type": "markdown",
   "id": "e3790b04",
   "metadata": {},
   "source": [
    "**As there is no date column so we will insert a column and fill this column by converting day into date and time.**"
   ]
  },
  {
   "cell_type": "code",
   "execution_count": 16,
   "id": "51b3e861",
   "metadata": {},
   "outputs": [],
   "source": [
    "TRANSACTION_RAW['Date'] = start_date + pd.to_timedelta(TRANSACTION_RAW['DAY'], unit='D')"
   ]
  },
  {
   "cell_type": "markdown",
   "id": "9bd7c4d0-c8e4-42a1-86a1-c5d69480d1a6",
   "metadata": {},
   "source": [
    "**Viewing first 10 rows of Date column**"
   ]
  },
  {
   "cell_type": "code",
   "execution_count": 60,
   "id": "6918e741",
   "metadata": {},
   "outputs": [
    {
     "data": {
      "text/plain": [
       "0   2020-01-02\n",
       "1   2020-01-02\n",
       "2   2020-01-02\n",
       "3   2020-01-02\n",
       "4   2020-01-02\n",
       "5   2020-01-02\n",
       "6   2020-01-02\n",
       "7   2020-01-02\n",
       "8   2020-01-02\n",
       "9   2020-01-02\n",
       "Name: Date, dtype: datetime64[ns]"
      ]
     },
     "execution_count": 60,
     "metadata": {},
     "output_type": "execute_result"
    }
   ],
   "source": [
    "TRANSACTION_RAW['Date'].head(10)"
   ]
  },
  {
   "cell_type": "markdown",
   "id": "00029655-3dd6-47ff-bdb4-59ab0ed863b6",
   "metadata": {},
   "source": [
    "**Checking datatypes of all the columns in Transaction_Raw table.**"
   ]
  },
  {
   "cell_type": "code",
   "execution_count": 37,
   "id": "6e4273c7",
   "metadata": {},
   "outputs": [
    {
     "data": {
      "text/plain": [
       "HOUSEHOLD_KEY                 int16\n",
       "BASKET_ID                     int64\n",
       "DAY                           int16\n",
       "PRODUCT_ID                    int32\n",
       "QUANTITY                      int32\n",
       "SALES_VALUE                 float64\n",
       "STORE_ID                      int16\n",
       "RETAIL_DISC                 float64\n",
       "TRANS_TIME                    int16\n",
       "WEEK_NO                        int8\n",
       "COUPON_DISC                    int8\n",
       "COUPON_MATCH_DISC              int8\n",
       "Date                 datetime64[ns]\n",
       "dtype: object"
      ]
     },
     "execution_count": 37,
     "metadata": {},
     "output_type": "execute_result"
    }
   ],
   "source": [
    "TRANSACTION_RAW.dtypes"
   ]
  },
  {
   "cell_type": "markdown",
   "id": "1b65f2fe-2bcf-4330-92ed-12d54f1067fb",
   "metadata": {},
   "source": [
    "**Converting days into date and time.**"
   ]
  },
  {
   "cell_type": "code",
   "execution_count": 17,
   "id": "4e9cc7f6",
   "metadata": {},
   "outputs": [],
   "source": [
    "CAMPAIGN_DESC_RAW['start_date'] = start_date + pd.to_timedelta(CAMPAIGN_DESC_RAW['START_DAY'], unit='D' )"
   ]
  },
  {
   "cell_type": "code",
   "execution_count": 18,
   "id": "30f892e0",
   "metadata": {},
   "outputs": [],
   "source": [
    "CAMPAIGN_DESC_RAW['end_date'] = start_date + pd.to_timedelta(CAMPAIGN_DESC_RAW['END_DAY'], unit ='D')"
   ]
  },
  {
   "cell_type": "code",
   "execution_count": 65,
   "id": "bee0854e",
   "metadata": {},
   "outputs": [
    {
     "data": {
      "text/html": [
       "<div>\n",
       "<style scoped>\n",
       "    .dataframe tbody tr th:only-of-type {\n",
       "        vertical-align: middle;\n",
       "    }\n",
       "\n",
       "    .dataframe tbody tr th {\n",
       "        vertical-align: top;\n",
       "    }\n",
       "\n",
       "    .dataframe thead th {\n",
       "        text-align: right;\n",
       "    }\n",
       "</style>\n",
       "<table border=\"1\" class=\"dataframe\">\n",
       "  <thead>\n",
       "    <tr style=\"text-align: right;\">\n",
       "      <th></th>\n",
       "      <th>DESCRIPTION</th>\n",
       "      <th>CAMPAIGN</th>\n",
       "      <th>START_DAY</th>\n",
       "      <th>END_DAY</th>\n",
       "      <th>start_date</th>\n",
       "      <th>end_date</th>\n",
       "    </tr>\n",
       "  </thead>\n",
       "  <tbody>\n",
       "    <tr>\n",
       "      <th>0</th>\n",
       "      <td>TypeB</td>\n",
       "      <td>24</td>\n",
       "      <td>659</td>\n",
       "      <td>719</td>\n",
       "      <td>2021-10-21</td>\n",
       "      <td>2021-12-20</td>\n",
       "    </tr>\n",
       "    <tr>\n",
       "      <th>1</th>\n",
       "      <td>TypeC</td>\n",
       "      <td>15</td>\n",
       "      <td>547</td>\n",
       "      <td>708</td>\n",
       "      <td>2021-07-01</td>\n",
       "      <td>2021-12-09</td>\n",
       "    </tr>\n",
       "    <tr>\n",
       "      <th>2</th>\n",
       "      <td>TypeB</td>\n",
       "      <td>25</td>\n",
       "      <td>659</td>\n",
       "      <td>691</td>\n",
       "      <td>2021-10-21</td>\n",
       "      <td>2021-11-22</td>\n",
       "    </tr>\n",
       "    <tr>\n",
       "      <th>3</th>\n",
       "      <td>TypeC</td>\n",
       "      <td>20</td>\n",
       "      <td>615</td>\n",
       "      <td>685</td>\n",
       "      <td>2021-09-07</td>\n",
       "      <td>2021-11-16</td>\n",
       "    </tr>\n",
       "    <tr>\n",
       "      <th>4</th>\n",
       "      <td>TypeB</td>\n",
       "      <td>23</td>\n",
       "      <td>646</td>\n",
       "      <td>684</td>\n",
       "      <td>2021-10-08</td>\n",
       "      <td>2021-11-15</td>\n",
       "    </tr>\n",
       "    <tr>\n",
       "      <th>5</th>\n",
       "      <td>TypeB</td>\n",
       "      <td>21</td>\n",
       "      <td>624</td>\n",
       "      <td>656</td>\n",
       "      <td>2021-09-16</td>\n",
       "      <td>2021-10-18</td>\n",
       "    </tr>\n",
       "    <tr>\n",
       "      <th>6</th>\n",
       "      <td>TypeB</td>\n",
       "      <td>22</td>\n",
       "      <td>624</td>\n",
       "      <td>656</td>\n",
       "      <td>2021-09-16</td>\n",
       "      <td>2021-10-18</td>\n",
       "    </tr>\n",
       "    <tr>\n",
       "      <th>7</th>\n",
       "      <td>TypeA</td>\n",
       "      <td>18</td>\n",
       "      <td>587</td>\n",
       "      <td>642</td>\n",
       "      <td>2021-08-10</td>\n",
       "      <td>2021-10-04</td>\n",
       "    </tr>\n",
       "    <tr>\n",
       "      <th>8</th>\n",
       "      <td>TypeB</td>\n",
       "      <td>19</td>\n",
       "      <td>603</td>\n",
       "      <td>635</td>\n",
       "      <td>2021-08-26</td>\n",
       "      <td>2021-09-27</td>\n",
       "    </tr>\n",
       "    <tr>\n",
       "      <th>9</th>\n",
       "      <td>TypeB</td>\n",
       "      <td>17</td>\n",
       "      <td>575</td>\n",
       "      <td>607</td>\n",
       "      <td>2021-07-29</td>\n",
       "      <td>2021-08-30</td>\n",
       "    </tr>\n",
       "  </tbody>\n",
       "</table>\n",
       "</div>"
      ],
      "text/plain": [
       "  DESCRIPTION  CAMPAIGN  START_DAY  END_DAY start_date   end_date\n",
       "0       TypeB        24        659      719 2021-10-21 2021-12-20\n",
       "1       TypeC        15        547      708 2021-07-01 2021-12-09\n",
       "2       TypeB        25        659      691 2021-10-21 2021-11-22\n",
       "3       TypeC        20        615      685 2021-09-07 2021-11-16\n",
       "4       TypeB        23        646      684 2021-10-08 2021-11-15\n",
       "5       TypeB        21        624      656 2021-09-16 2021-10-18\n",
       "6       TypeB        22        624      656 2021-09-16 2021-10-18\n",
       "7       TypeA        18        587      642 2021-08-10 2021-10-04\n",
       "8       TypeB        19        603      635 2021-08-26 2021-09-27\n",
       "9       TypeB        17        575      607 2021-07-29 2021-08-30"
      ]
     },
     "execution_count": 65,
     "metadata": {},
     "output_type": "execute_result"
    }
   ],
   "source": [
    "CAMPAIGN_DESC_RAW.head(10)"
   ]
  },
  {
   "cell_type": "markdown",
   "id": "2bb51281-0100-4305-803c-6c2cd070c66b",
   "metadata": {},
   "source": [
    "**Finding the duration of campaign and storing it ina new column 'campaign_duration'**"
   ]
  },
  {
   "cell_type": "code",
   "execution_count": 19,
   "id": "9767c59b",
   "metadata": {},
   "outputs": [],
   "source": [
    "CAMPAIGN_DESC_RAW['campaign_duration'] = CAMPAIGN_DESC_RAW['END_DAY'] - CAMPAIGN_DESC_RAW['START_DAY']"
   ]
  },
  {
   "cell_type": "code",
   "execution_count": 22,
   "id": "c1d838d8",
   "metadata": {},
   "outputs": [
    {
     "data": {
      "text/html": [
       "<div>\n",
       "<style scoped>\n",
       "    .dataframe tbody tr th:only-of-type {\n",
       "        vertical-align: middle;\n",
       "    }\n",
       "\n",
       "    .dataframe tbody tr th {\n",
       "        vertical-align: top;\n",
       "    }\n",
       "\n",
       "    .dataframe thead th {\n",
       "        text-align: right;\n",
       "    }\n",
       "</style>\n",
       "<table border=\"1\" class=\"dataframe\">\n",
       "  <thead>\n",
       "    <tr style=\"text-align: right;\">\n",
       "      <th></th>\n",
       "      <th>DESCRIPTION</th>\n",
       "      <th>CAMPAIGN</th>\n",
       "      <th>START_DAY</th>\n",
       "      <th>END_DAY</th>\n",
       "      <th>start_date</th>\n",
       "      <th>end_date</th>\n",
       "      <th>campaign_duration</th>\n",
       "    </tr>\n",
       "  </thead>\n",
       "  <tbody>\n",
       "    <tr>\n",
       "      <th>0</th>\n",
       "      <td>TypeB</td>\n",
       "      <td>24</td>\n",
       "      <td>659</td>\n",
       "      <td>719</td>\n",
       "      <td>2021-10-21</td>\n",
       "      <td>2021-12-20</td>\n",
       "      <td>60</td>\n",
       "    </tr>\n",
       "    <tr>\n",
       "      <th>1</th>\n",
       "      <td>TypeC</td>\n",
       "      <td>15</td>\n",
       "      <td>547</td>\n",
       "      <td>708</td>\n",
       "      <td>2021-07-01</td>\n",
       "      <td>2021-12-09</td>\n",
       "      <td>161</td>\n",
       "    </tr>\n",
       "    <tr>\n",
       "      <th>2</th>\n",
       "      <td>TypeB</td>\n",
       "      <td>25</td>\n",
       "      <td>659</td>\n",
       "      <td>691</td>\n",
       "      <td>2021-10-21</td>\n",
       "      <td>2021-11-22</td>\n",
       "      <td>32</td>\n",
       "    </tr>\n",
       "    <tr>\n",
       "      <th>3</th>\n",
       "      <td>TypeC</td>\n",
       "      <td>20</td>\n",
       "      <td>615</td>\n",
       "      <td>685</td>\n",
       "      <td>2021-09-07</td>\n",
       "      <td>2021-11-16</td>\n",
       "      <td>70</td>\n",
       "    </tr>\n",
       "    <tr>\n",
       "      <th>4</th>\n",
       "      <td>TypeB</td>\n",
       "      <td>23</td>\n",
       "      <td>646</td>\n",
       "      <td>684</td>\n",
       "      <td>2021-10-08</td>\n",
       "      <td>2021-11-15</td>\n",
       "      <td>38</td>\n",
       "    </tr>\n",
       "    <tr>\n",
       "      <th>5</th>\n",
       "      <td>TypeB</td>\n",
       "      <td>21</td>\n",
       "      <td>624</td>\n",
       "      <td>656</td>\n",
       "      <td>2021-09-16</td>\n",
       "      <td>2021-10-18</td>\n",
       "      <td>32</td>\n",
       "    </tr>\n",
       "    <tr>\n",
       "      <th>6</th>\n",
       "      <td>TypeB</td>\n",
       "      <td>22</td>\n",
       "      <td>624</td>\n",
       "      <td>656</td>\n",
       "      <td>2021-09-16</td>\n",
       "      <td>2021-10-18</td>\n",
       "      <td>32</td>\n",
       "    </tr>\n",
       "    <tr>\n",
       "      <th>7</th>\n",
       "      <td>TypeA</td>\n",
       "      <td>18</td>\n",
       "      <td>587</td>\n",
       "      <td>642</td>\n",
       "      <td>2021-08-10</td>\n",
       "      <td>2021-10-04</td>\n",
       "      <td>55</td>\n",
       "    </tr>\n",
       "    <tr>\n",
       "      <th>8</th>\n",
       "      <td>TypeB</td>\n",
       "      <td>19</td>\n",
       "      <td>603</td>\n",
       "      <td>635</td>\n",
       "      <td>2021-08-26</td>\n",
       "      <td>2021-09-27</td>\n",
       "      <td>32</td>\n",
       "    </tr>\n",
       "    <tr>\n",
       "      <th>9</th>\n",
       "      <td>TypeB</td>\n",
       "      <td>17</td>\n",
       "      <td>575</td>\n",
       "      <td>607</td>\n",
       "      <td>2021-07-29</td>\n",
       "      <td>2021-08-30</td>\n",
       "      <td>32</td>\n",
       "    </tr>\n",
       "  </tbody>\n",
       "</table>\n",
       "</div>"
      ],
      "text/plain": [
       "  DESCRIPTION  CAMPAIGN  START_DAY  END_DAY start_date   end_date  \\\n",
       "0       TypeB        24        659      719 2021-10-21 2021-12-20   \n",
       "1       TypeC        15        547      708 2021-07-01 2021-12-09   \n",
       "2       TypeB        25        659      691 2021-10-21 2021-11-22   \n",
       "3       TypeC        20        615      685 2021-09-07 2021-11-16   \n",
       "4       TypeB        23        646      684 2021-10-08 2021-11-15   \n",
       "5       TypeB        21        624      656 2021-09-16 2021-10-18   \n",
       "6       TypeB        22        624      656 2021-09-16 2021-10-18   \n",
       "7       TypeA        18        587      642 2021-08-10 2021-10-04   \n",
       "8       TypeB        19        603      635 2021-08-26 2021-09-27   \n",
       "9       TypeB        17        575      607 2021-07-29 2021-08-30   \n",
       "\n",
       "   campaign_duration  \n",
       "0                 60  \n",
       "1                161  \n",
       "2                 32  \n",
       "3                 70  \n",
       "4                 38  \n",
       "5                 32  \n",
       "6                 32  \n",
       "7                 55  \n",
       "8                 32  \n",
       "9                 32  "
      ]
     },
     "execution_count": 22,
     "metadata": {},
     "output_type": "execute_result"
    }
   ],
   "source": [
    "CAMPAIGN_DESC_RAW.head(10)"
   ]
  },
  {
   "cell_type": "code",
   "execution_count": 20,
   "id": "ad005c7d",
   "metadata": {},
   "outputs": [],
   "source": [
    "COUPON_REDEMPT_RAW['Date'] = start_date + pd.to_timedelta(COUPON_REDEMPT_RAW['DAY'], unit ='D')"
   ]
  },
  {
   "cell_type": "code",
   "execution_count": 69,
   "id": "7c8c584f",
   "metadata": {},
   "outputs": [
    {
     "data": {
      "text/html": [
       "<div>\n",
       "<style scoped>\n",
       "    .dataframe tbody tr th:only-of-type {\n",
       "        vertical-align: middle;\n",
       "    }\n",
       "\n",
       "    .dataframe tbody tr th {\n",
       "        vertical-align: top;\n",
       "    }\n",
       "\n",
       "    .dataframe thead th {\n",
       "        text-align: right;\n",
       "    }\n",
       "</style>\n",
       "<table border=\"1\" class=\"dataframe\">\n",
       "  <thead>\n",
       "    <tr style=\"text-align: right;\">\n",
       "      <th></th>\n",
       "      <th>HOUSEHOLD_KEY</th>\n",
       "      <th>DAY</th>\n",
       "      <th>COUPON_UPC</th>\n",
       "      <th>CAMPAIGN</th>\n",
       "      <th>Date</th>\n",
       "    </tr>\n",
       "  </thead>\n",
       "  <tbody>\n",
       "    <tr>\n",
       "      <th>0</th>\n",
       "      <td>1</td>\n",
       "      <td>421</td>\n",
       "      <td>10000085364</td>\n",
       "      <td>8</td>\n",
       "      <td>2021-02-25</td>\n",
       "    </tr>\n",
       "    <tr>\n",
       "      <th>1</th>\n",
       "      <td>1</td>\n",
       "      <td>421</td>\n",
       "      <td>51700010076</td>\n",
       "      <td>8</td>\n",
       "      <td>2021-02-25</td>\n",
       "    </tr>\n",
       "    <tr>\n",
       "      <th>2</th>\n",
       "      <td>1</td>\n",
       "      <td>427</td>\n",
       "      <td>54200000033</td>\n",
       "      <td>8</td>\n",
       "      <td>2021-03-03</td>\n",
       "    </tr>\n",
       "    <tr>\n",
       "      <th>3</th>\n",
       "      <td>1</td>\n",
       "      <td>597</td>\n",
       "      <td>10000085476</td>\n",
       "      <td>18</td>\n",
       "      <td>2021-08-20</td>\n",
       "    </tr>\n",
       "    <tr>\n",
       "      <th>4</th>\n",
       "      <td>1</td>\n",
       "      <td>597</td>\n",
       "      <td>54200029176</td>\n",
       "      <td>18</td>\n",
       "      <td>2021-08-20</td>\n",
       "    </tr>\n",
       "    <tr>\n",
       "      <th>5</th>\n",
       "      <td>8</td>\n",
       "      <td>422</td>\n",
       "      <td>53600000078</td>\n",
       "      <td>8</td>\n",
       "      <td>2021-02-26</td>\n",
       "    </tr>\n",
       "    <tr>\n",
       "      <th>6</th>\n",
       "      <td>13</td>\n",
       "      <td>396</td>\n",
       "      <td>53700048182</td>\n",
       "      <td>5</td>\n",
       "      <td>2021-01-31</td>\n",
       "    </tr>\n",
       "    <tr>\n",
       "      <th>7</th>\n",
       "      <td>13</td>\n",
       "      <td>424</td>\n",
       "      <td>10000085364</td>\n",
       "      <td>8</td>\n",
       "      <td>2021-02-28</td>\n",
       "    </tr>\n",
       "    <tr>\n",
       "      <th>8</th>\n",
       "      <td>13</td>\n",
       "      <td>434</td>\n",
       "      <td>53600000078</td>\n",
       "      <td>8</td>\n",
       "      <td>2021-03-10</td>\n",
       "    </tr>\n",
       "    <tr>\n",
       "      <th>9</th>\n",
       "      <td>13</td>\n",
       "      <td>447</td>\n",
       "      <td>52370020076</td>\n",
       "      <td>8</td>\n",
       "      <td>2021-03-23</td>\n",
       "    </tr>\n",
       "  </tbody>\n",
       "</table>\n",
       "</div>"
      ],
      "text/plain": [
       "   HOUSEHOLD_KEY  DAY   COUPON_UPC  CAMPAIGN       Date\n",
       "0              1  421  10000085364         8 2021-02-25\n",
       "1              1  421  51700010076         8 2021-02-25\n",
       "2              1  427  54200000033         8 2021-03-03\n",
       "3              1  597  10000085476        18 2021-08-20\n",
       "4              1  597  54200029176        18 2021-08-20\n",
       "5              8  422  53600000078         8 2021-02-26\n",
       "6             13  396  53700048182         5 2021-01-31\n",
       "7             13  424  10000085364         8 2021-02-28\n",
       "8             13  434  53600000078         8 2021-03-10\n",
       "9             13  447  52370020076         8 2021-03-23"
      ]
     },
     "execution_count": 69,
     "metadata": {},
     "output_type": "execute_result"
    }
   ],
   "source": [
    "COUPON_REDEMPT_RAW.head(10)"
   ]
  },
  {
   "cell_type": "markdown",
   "id": "4cd5b316-3d01-4b48-9715-a0e929fb1b4f",
   "metadata": {},
   "source": [
    "**Checking last date in table**"
   ]
  },
  {
   "cell_type": "code",
   "execution_count": 70,
   "id": "65a034ef",
   "metadata": {},
   "outputs": [
    {
     "data": {
      "text/plain": [
       "Timestamp('2021-12-05 00:00:00')"
      ]
     },
     "execution_count": 70,
     "metadata": {},
     "output_type": "execute_result"
    }
   ],
   "source": [
    "COUPON_REDEMPT_RAW['Date'].max()"
   ]
  },
  {
   "cell_type": "code",
   "execution_count": 72,
   "id": "4c366b4d",
   "metadata": {},
   "outputs": [
    {
     "data": {
      "text/plain": [
       "Timestamp('2021-12-20 00:00:00')"
      ]
     },
     "execution_count": 72,
     "metadata": {},
     "output_type": "execute_result"
    }
   ],
   "source": [
    "CAMPAIGN_DESC_RAW['end_date'].max()"
   ]
  },
  {
   "cell_type": "code",
   "execution_count": 73,
   "id": "0d99726f",
   "metadata": {},
   "outputs": [
    {
     "data": {
      "text/plain": [
       "Timestamp('2020-06-25 00:00:00')"
      ]
     },
     "execution_count": 73,
     "metadata": {},
     "output_type": "execute_result"
    }
   ],
   "source": [
    "TRANSACTION_RAW['Date'].max()"
   ]
  },
  {
   "cell_type": "markdown",
   "id": "c7c2fbed-9cf4-4998-8b27-a5b8c982d01b",
   "metadata": {},
   "source": [
    "**Understanding tables**"
   ]
  },
  {
   "cell_type": "code",
   "execution_count": 74,
   "id": "c17d0dfa",
   "metadata": {},
   "outputs": [
    {
     "data": {
      "text/plain": [
       "AGE_DESC               object\n",
       "MARITAL_STATUS_CODE    object\n",
       "INCOME_DESC            object\n",
       "HOMEOWNER_DESC         object\n",
       "HH_COMP_DESC           object\n",
       "HOUSEHOLD_SIZE_DESC    object\n",
       "KID_CATEGORY_DESC      object\n",
       "HOUSEHOLD_KEY           int16\n",
       "dtype: object"
      ]
     },
     "execution_count": 74,
     "metadata": {},
     "output_type": "execute_result"
    }
   ],
   "source": [
    "demographic_RAW.dtypes"
   ]
  },
  {
   "cell_type": "markdown",
   "id": "9da8f685-6400-4771-9ade-d01d3634dfc3",
   "metadata": {},
   "source": [
    "**Distribution of data age wise.\n",
    "Total number of customers in each age group**"
   ]
  },
  {
   "cell_type": "code",
   "execution_count": 75,
   "id": "0112ef60",
   "metadata": {},
   "outputs": [
    {
     "data": {
      "text/plain": [
       "45-54    901\n",
       "35-44    594\n",
       "25-34    445\n",
       "65+      230\n",
       "55-64    187\n",
       "19-24    143\n",
       "Name: AGE_DESC, dtype: int64"
      ]
     },
     "execution_count": 75,
     "metadata": {},
     "output_type": "execute_result"
    }
   ],
   "source": [
    "demographic_RAW['AGE_DESC'].value_counts()"
   ]
  },
  {
   "cell_type": "markdown",
   "id": "47053b48-4693-4f9d-82d3-4cade76744de",
   "metadata": {},
   "source": [
    "**Counts the households by household size.**"
   ]
  },
  {
   "cell_type": "code",
   "execution_count": 76,
   "id": "563a5558",
   "metadata": {},
   "outputs": [
    {
     "data": {
      "text/plain": [
       "2     1004\n",
       "1      783\n",
       "3      338\n",
       "5+     206\n",
       "4      169\n",
       "Name: HOUSEHOLD_SIZE_DESC, dtype: int64"
      ]
     },
     "execution_count": 76,
     "metadata": {},
     "output_type": "execute_result"
    }
   ],
   "source": [
    "demographic_RAW['HOUSEHOLD_SIZE_DESC'].value_counts()"
   ]
  },
  {
   "cell_type": "code",
   "execution_count": 26,
   "id": "62d50f26",
   "metadata": {},
   "outputs": [
    {
     "data": {
      "text/html": [
       "<div>\n",
       "<style scoped>\n",
       "    .dataframe tbody tr th:only-of-type {\n",
       "        vertical-align: middle;\n",
       "    }\n",
       "\n",
       "    .dataframe tbody tr th {\n",
       "        vertical-align: top;\n",
       "    }\n",
       "\n",
       "    .dataframe thead th {\n",
       "        text-align: right;\n",
       "    }\n",
       "</style>\n",
       "<table border=\"1\" class=\"dataframe\">\n",
       "  <thead>\n",
       "    <tr style=\"text-align: right;\">\n",
       "      <th></th>\n",
       "      <th>DESCRIPTION</th>\n",
       "      <th>CAMPAIGN</th>\n",
       "      <th>START_DAY</th>\n",
       "      <th>END_DAY</th>\n",
       "      <th>start_date</th>\n",
       "      <th>end_date</th>\n",
       "      <th>campaign_duration</th>\n",
       "    </tr>\n",
       "  </thead>\n",
       "  <tbody>\n",
       "    <tr>\n",
       "      <th>0</th>\n",
       "      <td>TypeB</td>\n",
       "      <td>24</td>\n",
       "      <td>659</td>\n",
       "      <td>719</td>\n",
       "      <td>2021-10-21</td>\n",
       "      <td>2021-12-20</td>\n",
       "      <td>60</td>\n",
       "    </tr>\n",
       "    <tr>\n",
       "      <th>1</th>\n",
       "      <td>TypeC</td>\n",
       "      <td>15</td>\n",
       "      <td>547</td>\n",
       "      <td>708</td>\n",
       "      <td>2021-07-01</td>\n",
       "      <td>2021-12-09</td>\n",
       "      <td>161</td>\n",
       "    </tr>\n",
       "    <tr>\n",
       "      <th>2</th>\n",
       "      <td>TypeB</td>\n",
       "      <td>25</td>\n",
       "      <td>659</td>\n",
       "      <td>691</td>\n",
       "      <td>2021-10-21</td>\n",
       "      <td>2021-11-22</td>\n",
       "      <td>32</td>\n",
       "    </tr>\n",
       "    <tr>\n",
       "      <th>3</th>\n",
       "      <td>TypeC</td>\n",
       "      <td>20</td>\n",
       "      <td>615</td>\n",
       "      <td>685</td>\n",
       "      <td>2021-09-07</td>\n",
       "      <td>2021-11-16</td>\n",
       "      <td>70</td>\n",
       "    </tr>\n",
       "    <tr>\n",
       "      <th>4</th>\n",
       "      <td>TypeB</td>\n",
       "      <td>23</td>\n",
       "      <td>646</td>\n",
       "      <td>684</td>\n",
       "      <td>2021-10-08</td>\n",
       "      <td>2021-11-15</td>\n",
       "      <td>38</td>\n",
       "    </tr>\n",
       "    <tr>\n",
       "      <th>5</th>\n",
       "      <td>TypeB</td>\n",
       "      <td>21</td>\n",
       "      <td>624</td>\n",
       "      <td>656</td>\n",
       "      <td>2021-09-16</td>\n",
       "      <td>2021-10-18</td>\n",
       "      <td>32</td>\n",
       "    </tr>\n",
       "    <tr>\n",
       "      <th>6</th>\n",
       "      <td>TypeB</td>\n",
       "      <td>22</td>\n",
       "      <td>624</td>\n",
       "      <td>656</td>\n",
       "      <td>2021-09-16</td>\n",
       "      <td>2021-10-18</td>\n",
       "      <td>32</td>\n",
       "    </tr>\n",
       "    <tr>\n",
       "      <th>7</th>\n",
       "      <td>TypeA</td>\n",
       "      <td>18</td>\n",
       "      <td>587</td>\n",
       "      <td>642</td>\n",
       "      <td>2021-08-10</td>\n",
       "      <td>2021-10-04</td>\n",
       "      <td>55</td>\n",
       "    </tr>\n",
       "    <tr>\n",
       "      <th>8</th>\n",
       "      <td>TypeB</td>\n",
       "      <td>19</td>\n",
       "      <td>603</td>\n",
       "      <td>635</td>\n",
       "      <td>2021-08-26</td>\n",
       "      <td>2021-09-27</td>\n",
       "      <td>32</td>\n",
       "    </tr>\n",
       "    <tr>\n",
       "      <th>9</th>\n",
       "      <td>TypeB</td>\n",
       "      <td>17</td>\n",
       "      <td>575</td>\n",
       "      <td>607</td>\n",
       "      <td>2021-07-29</td>\n",
       "      <td>2021-08-30</td>\n",
       "      <td>32</td>\n",
       "    </tr>\n",
       "  </tbody>\n",
       "</table>\n",
       "</div>"
      ],
      "text/plain": [
       "  DESCRIPTION  CAMPAIGN  START_DAY  END_DAY start_date   end_date  \\\n",
       "0       TypeB        24        659      719 2021-10-21 2021-12-20   \n",
       "1       TypeC        15        547      708 2021-07-01 2021-12-09   \n",
       "2       TypeB        25        659      691 2021-10-21 2021-11-22   \n",
       "3       TypeC        20        615      685 2021-09-07 2021-11-16   \n",
       "4       TypeB        23        646      684 2021-10-08 2021-11-15   \n",
       "5       TypeB        21        624      656 2021-09-16 2021-10-18   \n",
       "6       TypeB        22        624      656 2021-09-16 2021-10-18   \n",
       "7       TypeA        18        587      642 2021-08-10 2021-10-04   \n",
       "8       TypeB        19        603      635 2021-08-26 2021-09-27   \n",
       "9       TypeB        17        575      607 2021-07-29 2021-08-30   \n",
       "\n",
       "   campaign_duration  \n",
       "0                 60  \n",
       "1                161  \n",
       "2                 32  \n",
       "3                 70  \n",
       "4                 38  \n",
       "5                 32  \n",
       "6                 32  \n",
       "7                 55  \n",
       "8                 32  \n",
       "9                 32  "
      ]
     },
     "execution_count": 26,
     "metadata": {},
     "output_type": "execute_result"
    }
   ],
   "source": [
    "CAMPAIGN_DESC_RAW.head(10)"
   ]
  },
  {
   "cell_type": "markdown",
   "id": "90616402-5088-43b8-890f-d578a2a0d9d1",
   "metadata": {},
   "source": [
    "**Finding mean value of campaign duration in table CAMPAIGN_DESC_RAW**"
   ]
  },
  {
   "cell_type": "code",
   "execution_count": 27,
   "id": "4ad52a84",
   "metadata": {},
   "outputs": [
    {
     "data": {
      "text/plain": [
       "46.6"
      ]
     },
     "execution_count": 27,
     "metadata": {},
     "output_type": "execute_result"
    }
   ],
   "source": [
    "CAMPAIGN_DESC_RAW['campaign_duration'].mean()"
   ]
  },
  {
   "cell_type": "code",
   "execution_count": 28,
   "id": "50829ec4",
   "metadata": {},
   "outputs": [
    {
     "data": {
      "text/plain": [
       "DESCRIPTION                  object\n",
       "CAMPAIGN                       int8\n",
       "START_DAY                     int16\n",
       "END_DAY                       int16\n",
       "start_date           datetime64[ns]\n",
       "end_date             datetime64[ns]\n",
       "campaign_duration             int16\n",
       "dtype: object"
      ]
     },
     "execution_count": 28,
     "metadata": {},
     "output_type": "execute_result"
    }
   ],
   "source": [
    "CAMPAIGN_DESC_RAW.dtypes"
   ]
  },
  {
   "cell_type": "markdown",
   "id": "5fc2b5a8-5574-42d1-92ca-531f4029580e",
   "metadata": {},
   "source": [
    "**constructing bar graph between variables campaign and campaign duration**\n",
    "**using matplot and seaborn libraries**"
   ]
  },
  {
   "cell_type": "code",
   "execution_count": 30,
   "id": "247bd88d",
   "metadata": {},
   "outputs": [
    {
     "data": {
      "text/plain": [
       "<Axes: xlabel='CAMPAIGN', ylabel='campaign_duration'>"
      ]
     },
     "execution_count": 30,
     "metadata": {},
     "output_type": "execute_result"
    },
    {
     "data": {
      "image/png": "[encoded data removed]",
      "text/plain": [
       "<Figure size 1000x500 with 1 Axes>"
      ]
     },
     "metadata": {},
     "output_type": "display_data"
    }
   ],
   "source": [
    "plt.figure(figsize=(10,5))\n",
    "sns.barplot(x='CAMPAIGN', y = 'campaign_duration', data = CAMPAIGN_DESC_RAW)"
   ]
  },
  {
   "cell_type": "markdown",
   "id": "0f8f5a85-7236-41ba-87b6-0ca226402bfc",
   "metadata": {},
   "source": [
    "**Finding number of campaigns and mean of campaign_duration under different campaign types using groupby function**"
   ]
  },
  {
   "cell_type": "code",
   "execution_count": 32,
   "id": "0a5038e1",
   "metadata": {},
   "outputs": [
    {
     "data": {
      "text/html": [
       "<div>\n",
       "<style scoped>\n",
       "    .dataframe tbody tr th:only-of-type {\n",
       "        vertical-align: middle;\n",
       "    }\n",
       "\n",
       "    .dataframe tbody tr th {\n",
       "        vertical-align: top;\n",
       "    }\n",
       "\n",
       "    .dataframe thead th {\n",
       "        text-align: right;\n",
       "    }\n",
       "</style>\n",
       "<table border=\"1\" class=\"dataframe\">\n",
       "  <thead>\n",
       "    <tr style=\"text-align: right;\">\n",
       "      <th></th>\n",
       "      <th>CAMPAIGN</th>\n",
       "      <th>campaign_duration</th>\n",
       "    </tr>\n",
       "    <tr>\n",
       "      <th>DESCRIPTION</th>\n",
       "      <th></th>\n",
       "      <th></th>\n",
       "    </tr>\n",
       "  </thead>\n",
       "  <tbody>\n",
       "    <tr>\n",
       "      <th>TypeA</th>\n",
       "      <td>5</td>\n",
       "      <td>47.200000</td>\n",
       "    </tr>\n",
       "    <tr>\n",
       "      <th>TypeB</th>\n",
       "      <td>19</td>\n",
       "      <td>37.631579</td>\n",
       "    </tr>\n",
       "    <tr>\n",
       "      <th>TypeC</th>\n",
       "      <td>6</td>\n",
       "      <td>74.500000</td>\n",
       "    </tr>\n",
       "  </tbody>\n",
       "</table>\n",
       "</div>"
      ],
      "text/plain": [
       "             CAMPAIGN  campaign_duration\n",
       "DESCRIPTION                             \n",
       "TypeA               5          47.200000\n",
       "TypeB              19          37.631579\n",
       "TypeC               6          74.500000"
      ]
     },
     "execution_count": 32,
     "metadata": {},
     "output_type": "execute_result"
    }
   ],
   "source": [
    "CAMPAIGN_DESC_RAW.groupby('DESCRIPTION').aggregate({'CAMPAIGN':'count','campaign_duration':'mean'})"
   ]
  },
  {
   "cell_type": "markdown",
   "id": "cdc031bf-02fb-4930-8739-5a43894369ad",
   "metadata": {},
   "source": [
    "**Extracting month & year from date columns and storing them in new columns.**"
   ]
  },
  {
   "cell_type": "code",
   "execution_count": 21,
   "id": "a4160304",
   "metadata": {},
   "outputs": [],
   "source": [
    "CAMPAIGN_DESC_RAW['start_month'] = CAMPAIGN_DESC_RAW['start_date'].dt.strftime('%m')"
   ]
  },
  {
   "cell_type": "code",
   "execution_count": 22,
   "id": "b7dfb5b7",
   "metadata": {},
   "outputs": [],
   "source": [
    "CAMPAIGN_DESC_RAW['end_month'] = CAMPAIGN_DESC_RAW['end_date'].dt.strftime('%m')"
   ]
  },
  {
   "cell_type": "code",
   "execution_count": 23,
   "id": "08ebb6dd",
   "metadata": {},
   "outputs": [],
   "source": [
    "CAMPAIGN_DESC_RAW['start_year'] = CAMPAIGN_DESC_RAW['start_date'].dt.strftime('%Y')"
   ]
  },
  {
   "cell_type": "code",
   "execution_count": 24,
   "id": "ce0999e4",
   "metadata": {},
   "outputs": [],
   "source": [
    "CAMPAIGN_DESC_RAW['end_year'] = CAMPAIGN_DESC_RAW['end_date'].dt.strftime('%Y')"
   ]
  },
  {
   "cell_type": "markdown",
   "id": "99a190c4-440e-46cf-b6e5-be3d1c146354",
   "metadata": {
    "tags": []
   },
   "source": [
    "**Checking for the new columns added**"
   ]
  },
  {
   "cell_type": "code",
   "execution_count": 75,
   "id": "ba10d9ba",
   "metadata": {},
   "outputs": [
    {
     "data": {
      "text/html": [
       "<div>\n",
       "<style scoped>\n",
       "    .dataframe tbody tr th:only-of-type {\n",
       "        vertical-align: middle;\n",
       "    }\n",
       "\n",
       "    .dataframe tbody tr th {\n",
       "        vertical-align: top;\n",
       "    }\n",
       "\n",
       "    .dataframe thead th {\n",
       "        text-align: right;\n",
       "    }\n",
       "</style>\n",
       "<table border=\"1\" class=\"dataframe\">\n",
       "  <thead>\n",
       "    <tr style=\"text-align: right;\">\n",
       "      <th></th>\n",
       "      <th>DESCRIPTION</th>\n",
       "      <th>CAMPAIGN</th>\n",
       "      <th>START_DAY</th>\n",
       "      <th>END_DAY</th>\n",
       "      <th>start_date</th>\n",
       "      <th>end_date</th>\n",
       "      <th>campaign_duration</th>\n",
       "      <th>start_month</th>\n",
       "      <th>end_month</th>\n",
       "      <th>start_year</th>\n",
       "      <th>end_year</th>\n",
       "    </tr>\n",
       "  </thead>\n",
       "  <tbody>\n",
       "    <tr>\n",
       "      <th>0</th>\n",
       "      <td>TypeB</td>\n",
       "      <td>24</td>\n",
       "      <td>659</td>\n",
       "      <td>719</td>\n",
       "      <td>2021-10-21</td>\n",
       "      <td>2021-12-20</td>\n",
       "      <td>60</td>\n",
       "      <td>10</td>\n",
       "      <td>12</td>\n",
       "      <td>2021</td>\n",
       "      <td>2021</td>\n",
       "    </tr>\n",
       "    <tr>\n",
       "      <th>1</th>\n",
       "      <td>TypeC</td>\n",
       "      <td>15</td>\n",
       "      <td>547</td>\n",
       "      <td>708</td>\n",
       "      <td>2021-07-01</td>\n",
       "      <td>2021-12-09</td>\n",
       "      <td>161</td>\n",
       "      <td>07</td>\n",
       "      <td>12</td>\n",
       "      <td>2021</td>\n",
       "      <td>2021</td>\n",
       "    </tr>\n",
       "    <tr>\n",
       "      <th>2</th>\n",
       "      <td>TypeB</td>\n",
       "      <td>25</td>\n",
       "      <td>659</td>\n",
       "      <td>691</td>\n",
       "      <td>2021-10-21</td>\n",
       "      <td>2021-11-22</td>\n",
       "      <td>32</td>\n",
       "      <td>10</td>\n",
       "      <td>11</td>\n",
       "      <td>2021</td>\n",
       "      <td>2021</td>\n",
       "    </tr>\n",
       "    <tr>\n",
       "      <th>3</th>\n",
       "      <td>TypeC</td>\n",
       "      <td>20</td>\n",
       "      <td>615</td>\n",
       "      <td>685</td>\n",
       "      <td>2021-09-07</td>\n",
       "      <td>2021-11-16</td>\n",
       "      <td>70</td>\n",
       "      <td>09</td>\n",
       "      <td>11</td>\n",
       "      <td>2021</td>\n",
       "      <td>2021</td>\n",
       "    </tr>\n",
       "    <tr>\n",
       "      <th>4</th>\n",
       "      <td>TypeB</td>\n",
       "      <td>23</td>\n",
       "      <td>646</td>\n",
       "      <td>684</td>\n",
       "      <td>2021-10-08</td>\n",
       "      <td>2021-11-15</td>\n",
       "      <td>38</td>\n",
       "      <td>10</td>\n",
       "      <td>11</td>\n",
       "      <td>2021</td>\n",
       "      <td>2021</td>\n",
       "    </tr>\n",
       "  </tbody>\n",
       "</table>\n",
       "</div>"
      ],
      "text/plain": [
       "  DESCRIPTION  CAMPAIGN  START_DAY  END_DAY start_date   end_date  \\\n",
       "0       TypeB        24        659      719 2021-10-21 2021-12-20   \n",
       "1       TypeC        15        547      708 2021-07-01 2021-12-09   \n",
       "2       TypeB        25        659      691 2021-10-21 2021-11-22   \n",
       "3       TypeC        20        615      685 2021-09-07 2021-11-16   \n",
       "4       TypeB        23        646      684 2021-10-08 2021-11-15   \n",
       "\n",
       "   campaign_duration start_month end_month start_year end_year  \n",
       "0                 60          10        12       2021     2021  \n",
       "1                161          07        12       2021     2021  \n",
       "2                 32          10        11       2021     2021  \n",
       "3                 70          09        11       2021     2021  \n",
       "4                 38          10        11       2021     2021  "
      ]
     },
     "execution_count": 75,
     "metadata": {},
     "output_type": "execute_result"
    }
   ],
   "source": [
    "CAMPAIGN_DESC_RAW.head(5)"
   ]
  },
  {
   "cell_type": "markdown",
   "id": "187e466a-1faf-47dc-b2ea-08dadd52f840",
   "metadata": {},
   "source": [
    "**Understanding CAMPAIGN_DESC_RAW table**"
   ]
  },
  {
   "cell_type": "code",
   "execution_count": 43,
   "id": "33771ef8",
   "metadata": {},
   "outputs": [
    {
     "data": {
      "text/plain": [
       "DESCRIPTION                  object\n",
       "CAMPAIGN                       int8\n",
       "START_DAY                     int16\n",
       "END_DAY                       int16\n",
       "start_date           datetime64[ns]\n",
       "end_date             datetime64[ns]\n",
       "campaign_duration             int16\n",
       "start_month                  object\n",
       "end_month                    object\n",
       "start_year                   object\n",
       "dtype: object"
      ]
     },
     "execution_count": 43,
     "metadata": {},
     "output_type": "execute_result"
    }
   ],
   "source": [
    "CAMPAIGN_DESC_RAW.dtypes"
   ]
  },
  {
   "cell_type": "code",
   "execution_count": 76,
   "id": "87ff345e",
   "metadata": {},
   "outputs": [
    {
     "data": {
      "text/plain": [
       "(30, 11)"
      ]
     },
     "execution_count": 76,
     "metadata": {},
     "output_type": "execute_result"
    }
   ],
   "source": [
    "CAMPAIGN_DESC_RAW.shape"
   ]
  },
  {
   "cell_type": "code",
   "execution_count": 45,
   "id": "d2b08407",
   "metadata": {},
   "outputs": [
    {
     "data": {
      "text/plain": [
       "Index(['DESCRIPTION', 'HOUSEHOLD_KEY', 'CAMPAIGN'], dtype='object')"
      ]
     },
     "execution_count": 45,
     "metadata": {},
     "output_type": "execute_result"
    }
   ],
   "source": [
    "CAMPAIGN_RAW.columns"
   ]
  },
  {
   "cell_type": "code",
   "execution_count": 47,
   "id": "f6f16459",
   "metadata": {},
   "outputs": [
    {
     "data": {
      "text/plain": [
       "DESCRIPTION      7208\n",
       "HOUSEHOLD_KEY    7208\n",
       "CAMPAIGN         7208\n",
       "dtype: int64"
      ]
     },
     "execution_count": 47,
     "metadata": {},
     "output_type": "execute_result"
    }
   ],
   "source": [
    "CAMPAIGN_RAW.count()"
   ]
  },
  {
   "cell_type": "markdown",
   "id": "7a1a9604-dc24-4d08-b240-a262685e0a7a",
   "metadata": {},
   "source": [
    "**Checking for how many households have participated in the campaign.**"
   ]
  },
  {
   "cell_type": "code",
   "execution_count": 48,
   "id": "bf4685c7",
   "metadata": {},
   "outputs": [
    {
     "data": {
      "text/plain": [
       "1584"
      ]
     },
     "execution_count": 48,
     "metadata": {},
     "output_type": "execute_result"
    }
   ],
   "source": [
    "CAMPAIGN_RAW['HOUSEHOLD_KEY'].nunique()"
   ]
  },
  {
   "cell_type": "markdown",
   "id": "3cd44905-760d-4c71-a277-8bf66bc7eb3f",
   "metadata": {},
   "source": [
    "**Checking In how many campaigns the households have participated**"
   ]
  },
  {
   "cell_type": "code",
   "execution_count": 51,
   "id": "8b47dd91",
   "metadata": {},
   "outputs": [
    {
     "data": {
      "text/plain": [
       "HOUSEHOLD_KEY\n",
       "1       8\n",
       "2       1\n",
       "3       3\n",
       "4       1\n",
       "6       4\n",
       "       ..\n",
       "2496    5\n",
       "2497    3\n",
       "2498    6\n",
       "2499    2\n",
       "2500    8\n",
       "Name: CAMPAIGN, Length: 1584, dtype: int64"
      ]
     },
     "execution_count": 51,
     "metadata": {},
     "output_type": "execute_result"
    }
   ],
   "source": [
    "CAMPAIGN_RAW.groupby('HOUSEHOLD_KEY')['CAMPAIGN'].count()"
   ]
  },
  {
   "cell_type": "markdown",
   "id": "8f7b77ea-9ba6-4273-9b4a-0cd4e3dfa263",
   "metadata": {},
   "source": [
    "**Constructing bar graph to have a look on participation of households in campaigns.**"
   ]
  },
  {
   "cell_type": "code",
   "execution_count": 57,
   "id": "85f63693",
   "metadata": {},
   "outputs": [
    {
     "data": {
      "image/png": "[encoded data removed]",
      "text/plain": [
       "<Figure size 1500x500 with 1 Axes>"
      ]
     },
     "metadata": {},
     "output_type": "display_data"
    }
   ],
   "source": [
    "plt.figure(figsize=(15,5))\n",
    "CAMPAIGN_RAW.groupby('CAMPAIGN')['HOUSEHOLD_KEY'].count().plot.bar()\n",
    "plt.ylabel='Number of household reached to'"
   ]
  },
  {
   "cell_type": "markdown",
   "id": "a1d3c379",
   "metadata": {},
   "source": [
    "** Maximun number of households participated in campaign 18"
   ]
  },
  {
   "cell_type": "markdown",
   "id": "000dfc81-0136-4108-a1b8-f253451fd448",
   "metadata": {},
   "source": [
    "**Understanding coupon_raw table**"
   ]
  },
  {
   "cell_type": "code",
   "execution_count": 58,
   "id": "d46680f8",
   "metadata": {},
   "outputs": [
    {
     "data": {
      "text/plain": [
       "(124548, 3)"
      ]
     },
     "execution_count": 58,
     "metadata": {},
     "output_type": "execute_result"
    }
   ],
   "source": [
    "COUPON_RAW.shape"
   ]
  },
  {
   "cell_type": "code",
   "execution_count": 59,
   "id": "91d0251a",
   "metadata": {},
   "outputs": [
    {
     "data": {
      "text/plain": [
       "Index(['COUPON_UPC', 'PRODUCT_ID', 'CAMPAIGN'], dtype='object')"
      ]
     },
     "execution_count": 59,
     "metadata": {},
     "output_type": "execute_result"
    }
   ],
   "source": [
    "COUPON_RAW.columns"
   ]
  },
  {
   "cell_type": "markdown",
   "id": "588b87f2-2a49-4bf1-bdd7-39603d85e231",
   "metadata": {},
   "source": [
    "**Finding Total number of coupons distributed**"
   ]
  },
  {
   "cell_type": "code",
   "execution_count": 60,
   "id": "6991839a",
   "metadata": {},
   "outputs": [
    {
     "data": {
      "text/plain": [
       "1135"
      ]
     },
     "execution_count": 60,
     "metadata": {},
     "output_type": "execute_result"
    }
   ],
   "source": [
    "COUPON_RAW['COUPON_UPC'].nunique()"
   ]
  },
  {
   "cell_type": "markdown",
   "id": "5f317ae5-9b36-4c2f-a7cb-296808b415ad",
   "metadata": {
    "tags": []
   },
   "source": [
    "**Finding number of coupons given against  total products in each campaign. Then storing the result in a variable 'Coupon_Given'**"
   ]
  },
  {
   "cell_type": "code",
   "execution_count": 25,
   "id": "70c60ab5",
   "metadata": {},
   "outputs": [],
   "source": [
    "Coupon_Given = COUPON_RAW.groupby('CAMPAIGN').aggregate(Total_products = ('PRODUCT_ID','nunique'),\n",
    "                                         Total_coupon_given= ('COUPON_UPC','nunique'))"
   ]
  },
  {
   "cell_type": "code",
   "execution_count": 84,
   "id": "30de9215",
   "metadata": {},
   "outputs": [
    {
     "data": {
      "text/html": [
       "<div>\n",
       "<style scoped>\n",
       "    .dataframe tbody tr th:only-of-type {\n",
       "        vertical-align: middle;\n",
       "    }\n",
       "\n",
       "    .dataframe tbody tr th {\n",
       "        vertical-align: top;\n",
       "    }\n",
       "\n",
       "    .dataframe thead th {\n",
       "        text-align: right;\n",
       "    }\n",
       "</style>\n",
       "<table border=\"1\" class=\"dataframe\">\n",
       "  <thead>\n",
       "    <tr style=\"text-align: right;\">\n",
       "      <th></th>\n",
       "      <th>Total_products</th>\n",
       "      <th>Total_coupon_given</th>\n",
       "    </tr>\n",
       "    <tr>\n",
       "      <th>CAMPAIGN</th>\n",
       "      <th></th>\n",
       "      <th></th>\n",
       "    </tr>\n",
       "  </thead>\n",
       "  <tbody>\n",
       "    <tr>\n",
       "      <th>13</th>\n",
       "      <td>35616</td>\n",
       "      <td>207</td>\n",
       "    </tr>\n",
       "    <tr>\n",
       "      <th>18</th>\n",
       "      <td>35513</td>\n",
       "      <td>209</td>\n",
       "    </tr>\n",
       "    <tr>\n",
       "      <th>8</th>\n",
       "      <td>17178</td>\n",
       "      <td>209</td>\n",
       "    </tr>\n",
       "    <tr>\n",
       "      <th>26</th>\n",
       "      <td>3396</td>\n",
       "      <td>181</td>\n",
       "    </tr>\n",
       "    <tr>\n",
       "      <th>30</th>\n",
       "      <td>3205</td>\n",
       "      <td>181</td>\n",
       "    </tr>\n",
       "    <tr>\n",
       "      <th>22</th>\n",
       "      <td>1917</td>\n",
       "      <td>21</td>\n",
       "    </tr>\n",
       "    <tr>\n",
       "      <th>24</th>\n",
       "      <td>1887</td>\n",
       "      <td>2</td>\n",
       "    </tr>\n",
       "    <tr>\n",
       "      <th>16</th>\n",
       "      <td>1025</td>\n",
       "      <td>13</td>\n",
       "    </tr>\n",
       "    <tr>\n",
       "      <th>25</th>\n",
       "      <td>826</td>\n",
       "      <td>17</td>\n",
       "    </tr>\n",
       "    <tr>\n",
       "      <th>9</th>\n",
       "      <td>825</td>\n",
       "      <td>18</td>\n",
       "    </tr>\n",
       "  </tbody>\n",
       "</table>\n",
       "</div>"
      ],
      "text/plain": [
       "          Total_products  Total_coupon_given\n",
       "CAMPAIGN                                    \n",
       "13                 35616                 207\n",
       "18                 35513                 209\n",
       "8                  17178                 209\n",
       "26                  3396                 181\n",
       "30                  3205                 181\n",
       "22                  1917                  21\n",
       "24                  1887                   2\n",
       "16                  1025                  13\n",
       "25                   826                  17\n",
       "9                    825                  18"
      ]
     },
     "execution_count": 84,
     "metadata": {},
     "output_type": "execute_result"
    }
   ],
   "source": [
    "Coupon_Given.sort_values(by = 'Total_products', ascending = False).head(10)"
   ]
  },
  {
   "cell_type": "markdown",
   "id": "5dd012fc-4e31-4da7-81e0-0d52edfa4bc3",
   "metadata": {},
   "source": [
    "**Joining Coupon_Given and CAMPAIGN_DESC_RAW tables and naming mergerd table as Coupon_Given**"
   ]
  },
  {
   "cell_type": "code",
   "execution_count": 26,
   "id": "2103c03e",
   "metadata": {},
   "outputs": [],
   "source": [
    "Coupon_Given = Coupon_Given.merge(right = CAMPAIGN_DESC_RAW, on = 'CAMPAIGN', how='left')"
   ]
  },
  {
   "cell_type": "code",
   "execution_count": 87,
   "id": "ea77a6be",
   "metadata": {},
   "outputs": [
    {
     "data": {
      "text/html": [
       "<div>\n",
       "<style scoped>\n",
       "    .dataframe tbody tr th:only-of-type {\n",
       "        vertical-align: middle;\n",
       "    }\n",
       "\n",
       "    .dataframe tbody tr th {\n",
       "        vertical-align: top;\n",
       "    }\n",
       "\n",
       "    .dataframe thead th {\n",
       "        text-align: right;\n",
       "    }\n",
       "</style>\n",
       "<table border=\"1\" class=\"dataframe\">\n",
       "  <thead>\n",
       "    <tr style=\"text-align: right;\">\n",
       "      <th></th>\n",
       "      <th>CAMPAIGN</th>\n",
       "      <th>Total_products</th>\n",
       "      <th>Total_coupon_given</th>\n",
       "      <th>DESCRIPTION</th>\n",
       "      <th>START_DAY</th>\n",
       "      <th>END_DAY</th>\n",
       "      <th>start_date</th>\n",
       "      <th>end_date</th>\n",
       "      <th>campaign_duration</th>\n",
       "      <th>start_month</th>\n",
       "      <th>end_month</th>\n",
       "      <th>start_year</th>\n",
       "      <th>end_year</th>\n",
       "    </tr>\n",
       "  </thead>\n",
       "  <tbody>\n",
       "    <tr>\n",
       "      <th>0</th>\n",
       "      <td>1</td>\n",
       "      <td>383</td>\n",
       "      <td>11</td>\n",
       "      <td>TypeB</td>\n",
       "      <td>346</td>\n",
       "      <td>383</td>\n",
       "      <td>2020-12-12</td>\n",
       "      <td>2021-01-18</td>\n",
       "      <td>37</td>\n",
       "      <td>12</td>\n",
       "      <td>01</td>\n",
       "      <td>2021</td>\n",
       "      <td>2021</td>\n",
       "    </tr>\n",
       "    <tr>\n",
       "      <th>1</th>\n",
       "      <td>2</td>\n",
       "      <td>301</td>\n",
       "      <td>16</td>\n",
       "      <td>TypeB</td>\n",
       "      <td>351</td>\n",
       "      <td>383</td>\n",
       "      <td>2020-12-17</td>\n",
       "      <td>2021-01-18</td>\n",
       "      <td>32</td>\n",
       "      <td>12</td>\n",
       "      <td>01</td>\n",
       "      <td>2021</td>\n",
       "      <td>2021</td>\n",
       "    </tr>\n",
       "    <tr>\n",
       "      <th>2</th>\n",
       "      <td>3</td>\n",
       "      <td>506</td>\n",
       "      <td>34</td>\n",
       "      <td>TypeC</td>\n",
       "      <td>356</td>\n",
       "      <td>412</td>\n",
       "      <td>2020-12-22</td>\n",
       "      <td>2021-02-16</td>\n",
       "      <td>56</td>\n",
       "      <td>12</td>\n",
       "      <td>02</td>\n",
       "      <td>2021</td>\n",
       "      <td>2021</td>\n",
       "    </tr>\n",
       "    <tr>\n",
       "      <th>3</th>\n",
       "      <td>4</td>\n",
       "      <td>200</td>\n",
       "      <td>12</td>\n",
       "      <td>TypeB</td>\n",
       "      <td>372</td>\n",
       "      <td>404</td>\n",
       "      <td>2021-01-07</td>\n",
       "      <td>2021-02-08</td>\n",
       "      <td>32</td>\n",
       "      <td>01</td>\n",
       "      <td>02</td>\n",
       "      <td>2021</td>\n",
       "      <td>2021</td>\n",
       "    </tr>\n",
       "    <tr>\n",
       "      <th>4</th>\n",
       "      <td>5</td>\n",
       "      <td>443</td>\n",
       "      <td>11</td>\n",
       "      <td>TypeB</td>\n",
       "      <td>377</td>\n",
       "      <td>411</td>\n",
       "      <td>2021-01-12</td>\n",
       "      <td>2021-02-15</td>\n",
       "      <td>34</td>\n",
       "      <td>01</td>\n",
       "      <td>02</td>\n",
       "      <td>2021</td>\n",
       "      <td>2021</td>\n",
       "    </tr>\n",
       "  </tbody>\n",
       "</table>\n",
       "</div>"
      ],
      "text/plain": [
       "   CAMPAIGN  Total_products  Total_coupon_given DESCRIPTION  START_DAY  \\\n",
       "0         1             383                  11       TypeB        346   \n",
       "1         2             301                  16       TypeB        351   \n",
       "2         3             506                  34       TypeC        356   \n",
       "3         4             200                  12       TypeB        372   \n",
       "4         5             443                  11       TypeB        377   \n",
       "\n",
       "   END_DAY start_date   end_date  campaign_duration start_month end_month  \\\n",
       "0      383 2020-12-12 2021-01-18                 37          12        01   \n",
       "1      383 2020-12-17 2021-01-18                 32          12        01   \n",
       "2      412 2020-12-22 2021-02-16                 56          12        02   \n",
       "3      404 2021-01-07 2021-02-08                 32          01        02   \n",
       "4      411 2021-01-12 2021-02-15                 34          01        02   \n",
       "\n",
       "  start_year end_year  \n",
       "0       2021     2021  \n",
       "1       2021     2021  \n",
       "2       2021     2021  \n",
       "3       2021     2021  \n",
       "4       2021     2021  "
      ]
     },
     "execution_count": 87,
     "metadata": {},
     "output_type": "execute_result"
    }
   ],
   "source": [
    "Coupon_Given.head(5)"
   ]
  },
  {
   "cell_type": "code",
   "execution_count": 88,
   "id": "65c14f27",
   "metadata": {},
   "outputs": [
    {
     "data": {
      "text/plain": [
       "Index(['CAMPAIGN', 'Total_products', 'Total_coupon_given', 'DESCRIPTION',\n",
       "       'START_DAY', 'END_DAY', 'start_date', 'end_date', 'campaign_duration',\n",
       "       'start_month', 'end_month', 'start_year', 'end_year'],\n",
       "      dtype='object')"
      ]
     },
     "execution_count": 88,
     "metadata": {},
     "output_type": "execute_result"
    }
   ],
   "source": [
    "Coupon_Given.columns"
   ]
  },
  {
   "cell_type": "markdown",
   "id": "1941b65f-48d2-4d55-b39f-634f9febe547",
   "metadata": {},
   "source": [
    "**Giving first 10  rows and specified columns of table Coupon_Given sorted by 'Total_products'in descending order**"
   ]
  },
  {
   "cell_type": "code",
   "execution_count": 90,
   "id": "c6ba46b3",
   "metadata": {},
   "outputs": [
    {
     "data": {
      "text/html": [
       "<div>\n",
       "<style scoped>\n",
       "    .dataframe tbody tr th:only-of-type {\n",
       "        vertical-align: middle;\n",
       "    }\n",
       "\n",
       "    .dataframe tbody tr th {\n",
       "        vertical-align: top;\n",
       "    }\n",
       "\n",
       "    .dataframe thead th {\n",
       "        text-align: right;\n",
       "    }\n",
       "</style>\n",
       "<table border=\"1\" class=\"dataframe\">\n",
       "  <thead>\n",
       "    <tr style=\"text-align: right;\">\n",
       "      <th></th>\n",
       "      <th>CAMPAIGN</th>\n",
       "      <th>Total_products</th>\n",
       "      <th>Total_coupon_given</th>\n",
       "      <th>start_year</th>\n",
       "      <th>end_year</th>\n",
       "      <th>start_month</th>\n",
       "      <th>end_month</th>\n",
       "      <th>DESCRIPTION</th>\n",
       "      <th>campaign_duration</th>\n",
       "    </tr>\n",
       "  </thead>\n",
       "  <tbody>\n",
       "    <tr>\n",
       "      <th>12</th>\n",
       "      <td>13</td>\n",
       "      <td>35616</td>\n",
       "      <td>207</td>\n",
       "      <td>2021</td>\n",
       "      <td>2021</td>\n",
       "      <td>05</td>\n",
       "      <td>07</td>\n",
       "      <td>TypeA</td>\n",
       "      <td>47</td>\n",
       "    </tr>\n",
       "    <tr>\n",
       "      <th>17</th>\n",
       "      <td>18</td>\n",
       "      <td>35513</td>\n",
       "      <td>209</td>\n",
       "      <td>2021</td>\n",
       "      <td>2021</td>\n",
       "      <td>08</td>\n",
       "      <td>10</td>\n",
       "      <td>TypeA</td>\n",
       "      <td>55</td>\n",
       "    </tr>\n",
       "    <tr>\n",
       "      <th>7</th>\n",
       "      <td>8</td>\n",
       "      <td>17178</td>\n",
       "      <td>209</td>\n",
       "      <td>2021</td>\n",
       "      <td>2021</td>\n",
       "      <td>02</td>\n",
       "      <td>04</td>\n",
       "      <td>TypeA</td>\n",
       "      <td>48</td>\n",
       "    </tr>\n",
       "    <tr>\n",
       "      <th>25</th>\n",
       "      <td>26</td>\n",
       "      <td>3396</td>\n",
       "      <td>181</td>\n",
       "      <td>2020</td>\n",
       "      <td>2020</td>\n",
       "      <td>08</td>\n",
       "      <td>09</td>\n",
       "      <td>TypeA</td>\n",
       "      <td>40</td>\n",
       "    </tr>\n",
       "    <tr>\n",
       "      <th>29</th>\n",
       "      <td>30</td>\n",
       "      <td>3205</td>\n",
       "      <td>181</td>\n",
       "      <td>2021</td>\n",
       "      <td>2021</td>\n",
       "      <td>11</td>\n",
       "      <td>01</td>\n",
       "      <td>TypeA</td>\n",
       "      <td>46</td>\n",
       "    </tr>\n",
       "    <tr>\n",
       "      <th>21</th>\n",
       "      <td>22</td>\n",
       "      <td>1917</td>\n",
       "      <td>21</td>\n",
       "      <td>2021</td>\n",
       "      <td>2021</td>\n",
       "      <td>09</td>\n",
       "      <td>10</td>\n",
       "      <td>TypeB</td>\n",
       "      <td>32</td>\n",
       "    </tr>\n",
       "    <tr>\n",
       "      <th>23</th>\n",
       "      <td>24</td>\n",
       "      <td>1887</td>\n",
       "      <td>2</td>\n",
       "      <td>2021</td>\n",
       "      <td>2021</td>\n",
       "      <td>10</td>\n",
       "      <td>12</td>\n",
       "      <td>TypeB</td>\n",
       "      <td>60</td>\n",
       "    </tr>\n",
       "    <tr>\n",
       "      <th>15</th>\n",
       "      <td>16</td>\n",
       "      <td>1025</td>\n",
       "      <td>13</td>\n",
       "      <td>2021</td>\n",
       "      <td>2021</td>\n",
       "      <td>07</td>\n",
       "      <td>08</td>\n",
       "      <td>TypeB</td>\n",
       "      <td>32</td>\n",
       "    </tr>\n",
       "    <tr>\n",
       "      <th>24</th>\n",
       "      <td>25</td>\n",
       "      <td>826</td>\n",
       "      <td>17</td>\n",
       "      <td>2021</td>\n",
       "      <td>2021</td>\n",
       "      <td>10</td>\n",
       "      <td>11</td>\n",
       "      <td>TypeB</td>\n",
       "      <td>32</td>\n",
       "    </tr>\n",
       "    <tr>\n",
       "      <th>8</th>\n",
       "      <td>9</td>\n",
       "      <td>825</td>\n",
       "      <td>18</td>\n",
       "      <td>2021</td>\n",
       "      <td>2021</td>\n",
       "      <td>03</td>\n",
       "      <td>04</td>\n",
       "      <td>TypeB</td>\n",
       "      <td>32</td>\n",
       "    </tr>\n",
       "  </tbody>\n",
       "</table>\n",
       "</div>"
      ],
      "text/plain": [
       "    CAMPAIGN  Total_products  Total_coupon_given start_year end_year  \\\n",
       "12        13           35616                 207       2021     2021   \n",
       "17        18           35513                 209       2021     2021   \n",
       "7          8           17178                 209       2021     2021   \n",
       "25        26            3396                 181       2020     2020   \n",
       "29        30            3205                 181       2021     2021   \n",
       "21        22            1917                  21       2021     2021   \n",
       "23        24            1887                   2       2021     2021   \n",
       "15        16            1025                  13       2021     2021   \n",
       "24        25             826                  17       2021     2021   \n",
       "8          9             825                  18       2021     2021   \n",
       "\n",
       "   start_month end_month DESCRIPTION  campaign_duration  \n",
       "12          05        07       TypeA                 47  \n",
       "17          08        10       TypeA                 55  \n",
       "7           02        04       TypeA                 48  \n",
       "25          08        09       TypeA                 40  \n",
       "29          11        01       TypeA                 46  \n",
       "21          09        10       TypeB                 32  \n",
       "23          10        12       TypeB                 60  \n",
       "15          07        08       TypeB                 32  \n",
       "24          10        11       TypeB                 32  \n",
       "8           03        04       TypeB                 32  "
      ]
     },
     "execution_count": 90,
     "metadata": {},
     "output_type": "execute_result"
    }
   ],
   "source": [
    "Coupon_Given.loc[:,('CAMPAIGN', 'Total_products', 'Total_coupon_given','start_year', 'end_year','start_month', 'end_month','DESCRIPTION',\n",
    "      'campaign_duration')].sort_values(by = 'Total_products', ascending = False).head(10)"
   ]
  },
  {
   "cell_type": "code",
   "execution_count": 92,
   "id": "1bc5767f",
   "metadata": {},
   "outputs": [
    {
     "data": {
      "text/html": [
       "<div>\n",
       "<style scoped>\n",
       "    .dataframe tbody tr th:only-of-type {\n",
       "        vertical-align: middle;\n",
       "    }\n",
       "\n",
       "    .dataframe tbody tr th {\n",
       "        vertical-align: top;\n",
       "    }\n",
       "\n",
       "    .dataframe thead th {\n",
       "        text-align: right;\n",
       "    }\n",
       "</style>\n",
       "<table border=\"1\" class=\"dataframe\">\n",
       "  <thead>\n",
       "    <tr style=\"text-align: right;\">\n",
       "      <th></th>\n",
       "      <th>COUPON_UPC</th>\n",
       "      <th>PRODUCT_ID</th>\n",
       "      <th>CAMPAIGN</th>\n",
       "    </tr>\n",
       "  </thead>\n",
       "  <tbody>\n",
       "    <tr>\n",
       "      <th>0</th>\n",
       "      <td>10000089061</td>\n",
       "      <td>27160</td>\n",
       "      <td>4</td>\n",
       "    </tr>\n",
       "    <tr>\n",
       "      <th>1</th>\n",
       "      <td>10000089064</td>\n",
       "      <td>27754</td>\n",
       "      <td>9</td>\n",
       "    </tr>\n",
       "    <tr>\n",
       "      <th>2</th>\n",
       "      <td>10000089073</td>\n",
       "      <td>28897</td>\n",
       "      <td>12</td>\n",
       "    </tr>\n",
       "    <tr>\n",
       "      <th>3</th>\n",
       "      <td>51800009050</td>\n",
       "      <td>28919</td>\n",
       "      <td>28</td>\n",
       "    </tr>\n",
       "    <tr>\n",
       "      <th>4</th>\n",
       "      <td>52100000076</td>\n",
       "      <td>28929</td>\n",
       "      <td>25</td>\n",
       "    </tr>\n",
       "  </tbody>\n",
       "</table>\n",
       "</div>"
      ],
      "text/plain": [
       "    COUPON_UPC  PRODUCT_ID  CAMPAIGN\n",
       "0  10000089061       27160         4\n",
       "1  10000089064       27754         9\n",
       "2  10000089073       28897        12\n",
       "3  51800009050       28919        28\n",
       "4  52100000076       28929        25"
      ]
     },
     "execution_count": 92,
     "metadata": {},
     "output_type": "execute_result"
    }
   ],
   "source": [
    "COUPON_RAW.head(5)"
   ]
  },
  {
   "cell_type": "code",
   "execution_count": 95,
   "id": "3fbfe7b6",
   "metadata": {},
   "outputs": [
    {
     "data": {
      "text/html": [
       "<div>\n",
       "<style scoped>\n",
       "    .dataframe tbody tr th:only-of-type {\n",
       "        vertical-align: middle;\n",
       "    }\n",
       "\n",
       "    .dataframe tbody tr th {\n",
       "        vertical-align: top;\n",
       "    }\n",
       "\n",
       "    .dataframe thead th {\n",
       "        text-align: right;\n",
       "    }\n",
       "</style>\n",
       "<table border=\"1\" class=\"dataframe\">\n",
       "  <thead>\n",
       "    <tr style=\"text-align: right;\">\n",
       "      <th></th>\n",
       "      <th>PRODUCT_ID</th>\n",
       "      <th>MANUFACTURER</th>\n",
       "      <th>DEPARTMENT</th>\n",
       "      <th>BRAND</th>\n",
       "      <th>COMMODITY_DESC</th>\n",
       "      <th>SUB_COMMODITY_DESC</th>\n",
       "      <th>CURR_SIZE_OF_PRODUCT</th>\n",
       "    </tr>\n",
       "  </thead>\n",
       "  <tbody>\n",
       "    <tr>\n",
       "      <th>0</th>\n",
       "      <td>25671</td>\n",
       "      <td>2</td>\n",
       "      <td>GROCERY</td>\n",
       "      <td>National</td>\n",
       "      <td>FRZN ICE</td>\n",
       "      <td>ICE - CRUSHED/CUBED</td>\n",
       "      <td>22 LB</td>\n",
       "    </tr>\n",
       "    <tr>\n",
       "      <th>1</th>\n",
       "      <td>26081</td>\n",
       "      <td>2</td>\n",
       "      <td>MISC. TRANS.</td>\n",
       "      <td>National</td>\n",
       "      <td>NO COMMODITY DESCRIPTION</td>\n",
       "      <td>NO SUBCOMMODITY DESCRIPTION</td>\n",
       "      <td></td>\n",
       "    </tr>\n",
       "    <tr>\n",
       "      <th>2</th>\n",
       "      <td>26093</td>\n",
       "      <td>69</td>\n",
       "      <td>PASTRY</td>\n",
       "      <td>Private</td>\n",
       "      <td>BREAD</td>\n",
       "      <td>BREAD:ITALIAN/FRENCH</td>\n",
       "      <td></td>\n",
       "    </tr>\n",
       "    <tr>\n",
       "      <th>3</th>\n",
       "      <td>26190</td>\n",
       "      <td>69</td>\n",
       "      <td>GROCERY</td>\n",
       "      <td>Private</td>\n",
       "      <td>FRUIT - SHELF STABLE</td>\n",
       "      <td>APPLE SAUCE</td>\n",
       "      <td>50 OZ</td>\n",
       "    </tr>\n",
       "    <tr>\n",
       "      <th>4</th>\n",
       "      <td>26355</td>\n",
       "      <td>69</td>\n",
       "      <td>GROCERY</td>\n",
       "      <td>Private</td>\n",
       "      <td>COOKIES/CONES</td>\n",
       "      <td>SPECIALTY COOKIES</td>\n",
       "      <td>14 OZ</td>\n",
       "    </tr>\n",
       "  </tbody>\n",
       "</table>\n",
       "</div>"
      ],
      "text/plain": [
       "   PRODUCT_ID  MANUFACTURER    DEPARTMENT     BRAND            COMMODITY_DESC  \\\n",
       "0       25671             2       GROCERY  National                  FRZN ICE   \n",
       "1       26081             2  MISC. TRANS.  National  NO COMMODITY DESCRIPTION   \n",
       "2       26093            69        PASTRY   Private                     BREAD   \n",
       "3       26190            69       GROCERY   Private      FRUIT - SHELF STABLE   \n",
       "4       26355            69       GROCERY   Private             COOKIES/CONES   \n",
       "\n",
       "            SUB_COMMODITY_DESC CURR_SIZE_OF_PRODUCT  \n",
       "0          ICE - CRUSHED/CUBED                22 LB  \n",
       "1  NO SUBCOMMODITY DESCRIPTION                       \n",
       "2         BREAD:ITALIAN/FRENCH                       \n",
       "3                  APPLE SAUCE                50 OZ  \n",
       "4            SPECIALTY COOKIES                14 OZ  "
      ]
     },
     "execution_count": 95,
     "metadata": {},
     "output_type": "execute_result"
    }
   ],
   "source": [
    "PRODUCT_RAW.head(5)"
   ]
  },
  {
   "cell_type": "markdown",
   "id": "15a4c260-c713-4022-b80b-0cec934660b3",
   "metadata": {},
   "source": [
    "**Joining tables COUPON_RAW and PRODUCT_RAW and naming newly created table as COUPON_PRODUCT.**"
   ]
  },
  {
   "cell_type": "code",
   "execution_count": 27,
   "id": "c1352b94",
   "metadata": {},
   "outputs": [],
   "source": [
    "COUPON_PRODUCT = COUPON_RAW.merge(right = PRODUCT_RAW, on  = 'PRODUCT_ID', how = 'left')"
   ]
  },
  {
   "cell_type": "code",
   "execution_count": 97,
   "id": "2c35ec18",
   "metadata": {},
   "outputs": [
    {
     "data": {
      "text/html": [
       "<div>\n",
       "<style scoped>\n",
       "    .dataframe tbody tr th:only-of-type {\n",
       "        vertical-align: middle;\n",
       "    }\n",
       "\n",
       "    .dataframe tbody tr th {\n",
       "        vertical-align: top;\n",
       "    }\n",
       "\n",
       "    .dataframe thead th {\n",
       "        text-align: right;\n",
       "    }\n",
       "</style>\n",
       "<table border=\"1\" class=\"dataframe\">\n",
       "  <thead>\n",
       "    <tr style=\"text-align: right;\">\n",
       "      <th></th>\n",
       "      <th>COUPON_UPC</th>\n",
       "      <th>PRODUCT_ID</th>\n",
       "      <th>CAMPAIGN</th>\n",
       "      <th>MANUFACTURER</th>\n",
       "      <th>DEPARTMENT</th>\n",
       "      <th>BRAND</th>\n",
       "      <th>COMMODITY_DESC</th>\n",
       "      <th>SUB_COMMODITY_DESC</th>\n",
       "      <th>CURR_SIZE_OF_PRODUCT</th>\n",
       "    </tr>\n",
       "  </thead>\n",
       "  <tbody>\n",
       "    <tr>\n",
       "      <th>0</th>\n",
       "      <td>10000089061</td>\n",
       "      <td>27160</td>\n",
       "      <td>4</td>\n",
       "      <td>69</td>\n",
       "      <td>GROCERY</td>\n",
       "      <td>Private</td>\n",
       "      <td>SHORTENING/OIL</td>\n",
       "      <td>VEGETABLE/SALAD OIL</td>\n",
       "      <td>48 OZ</td>\n",
       "    </tr>\n",
       "    <tr>\n",
       "      <th>1</th>\n",
       "      <td>10000089064</td>\n",
       "      <td>27754</td>\n",
       "      <td>9</td>\n",
       "      <td>69</td>\n",
       "      <td>GROCERY</td>\n",
       "      <td>Private</td>\n",
       "      <td>FRZN VEGETABLE/VEG DSH</td>\n",
       "      <td>FRZN BAGGED VEGETABLES - PLAIN</td>\n",
       "      <td>16 OZ</td>\n",
       "    </tr>\n",
       "    <tr>\n",
       "      <th>2</th>\n",
       "      <td>10000089073</td>\n",
       "      <td>28897</td>\n",
       "      <td>12</td>\n",
       "      <td>69</td>\n",
       "      <td>GROCERY</td>\n",
       "      <td>Private</td>\n",
       "      <td>EGGS</td>\n",
       "      <td>EGGS - X-LARGE</td>\n",
       "      <td>A D   1 DZ</td>\n",
       "    </tr>\n",
       "    <tr>\n",
       "      <th>3</th>\n",
       "      <td>51800009050</td>\n",
       "      <td>28919</td>\n",
       "      <td>28</td>\n",
       "      <td>236</td>\n",
       "      <td>GROCERY</td>\n",
       "      <td>National</td>\n",
       "      <td>REFRGRATD DOUGH PRODUCTS</td>\n",
       "      <td>REFRIGERATED COOKIES-CHUB</td>\n",
       "      <td>16.5 OZ</td>\n",
       "    </tr>\n",
       "    <tr>\n",
       "      <th>4</th>\n",
       "      <td>52100000076</td>\n",
       "      <td>28929</td>\n",
       "      <td>25</td>\n",
       "      <td>317</td>\n",
       "      <td>GROCERY</td>\n",
       "      <td>National</td>\n",
       "      <td>CHEESE</td>\n",
       "      <td>STRING CHEESE</td>\n",
       "      <td>AB    8 OZ</td>\n",
       "    </tr>\n",
       "  </tbody>\n",
       "</table>\n",
       "</div>"
      ],
      "text/plain": [
       "    COUPON_UPC  PRODUCT_ID  CAMPAIGN  MANUFACTURER DEPARTMENT     BRAND  \\\n",
       "0  10000089061       27160         4            69    GROCERY   Private   \n",
       "1  10000089064       27754         9            69    GROCERY   Private   \n",
       "2  10000089073       28897        12            69    GROCERY   Private   \n",
       "3  51800009050       28919        28           236    GROCERY  National   \n",
       "4  52100000076       28929        25           317    GROCERY  National   \n",
       "\n",
       "             COMMODITY_DESC              SUB_COMMODITY_DESC  \\\n",
       "0            SHORTENING/OIL             VEGETABLE/SALAD OIL   \n",
       "1    FRZN VEGETABLE/VEG DSH  FRZN BAGGED VEGETABLES - PLAIN   \n",
       "2                      EGGS                  EGGS - X-LARGE   \n",
       "3  REFRGRATD DOUGH PRODUCTS       REFRIGERATED COOKIES-CHUB   \n",
       "4                    CHEESE                   STRING CHEESE   \n",
       "\n",
       "  CURR_SIZE_OF_PRODUCT  \n",
       "0                48 OZ  \n",
       "1                16 OZ  \n",
       "2           A D   1 DZ  \n",
       "3              16.5 OZ  \n",
       "4           AB    8 OZ  "
      ]
     },
     "execution_count": 97,
     "metadata": {},
     "output_type": "execute_result"
    }
   ],
   "source": [
    "COUPON_PRODUCT.head(5)  "
   ]
  },
  {
   "cell_type": "markdown",
   "id": "c14aa935",
   "metadata": {},
   "source": [
    "**Finding Top 10 products on which coupon have been applied**"
   ]
  },
  {
   "cell_type": "code",
   "execution_count": 99,
   "id": "52decf7a",
   "metadata": {},
   "outputs": [
    {
     "data": {
      "text/plain": [
       "HAIR CARE PRODUCTS        6261\n",
       "MAKEUP AND TREATMENT      5585\n",
       "FRZN MEAT/MEAT DINNERS    4893\n",
       "FROZEN PIZZA              3658\n",
       "BEEF                      3314\n",
       "ICE CREAM/MILK/SHERBTS    3257\n",
       "CHEESE                    3146\n",
       "YOGURT                    2460\n",
       "ORAL HYGIENE PRODUCTS     2437\n",
       "LUNCHMEAT                 2425\n",
       "Name: COMMODITY_DESC, dtype: int64"
      ]
     },
     "execution_count": 99,
     "metadata": {},
     "output_type": "execute_result"
    }
   ],
   "source": [
    "COUPON_PRODUCT['COMMODITY_DESC'].value_counts().head(10)"
   ]
  },
  {
   "cell_type": "markdown",
   "id": "8f884bc3",
   "metadata": {},
   "source": [
    "** Most prominent products among coupons created are bathroom products such as hair care and makeup"
   ]
  },
  {
   "cell_type": "code",
   "execution_count": 110,
   "id": "4c25695b",
   "metadata": {},
   "outputs": [
    {
     "data": {
      "text/plain": [
       "1135"
      ]
     },
     "execution_count": 110,
     "metadata": {},
     "output_type": "execute_result"
    }
   ],
   "source": [
    "COUPON_RAW['COUPON_UPC'].nunique()"
   ]
  },
  {
   "cell_type": "code",
   "execution_count": 106,
   "id": "5bc8bc77",
   "metadata": {},
   "outputs": [
    {
     "data": {
      "text/plain": [
       "Index(['HOUSEHOLD_KEY', 'DAY', 'COUPON_UPC', 'CAMPAIGN', 'Date'], dtype='object')"
      ]
     },
     "execution_count": 106,
     "metadata": {},
     "output_type": "execute_result"
    }
   ],
   "source": [
    "COUPON_REDEMPT_RAW.columns"
   ]
  },
  {
   "cell_type": "markdown",
   "id": "2ed9c548-8c64-4573-a795-7ff654a1aec4",
   "metadata": {},
   "source": [
    "**Finding total number of coupons redeemed out of 1135 coupons(distributed)**"
   ]
  },
  {
   "cell_type": "code",
   "execution_count": 108,
   "id": "d2f5160c",
   "metadata": {},
   "outputs": [
    {
     "data": {
      "text/plain": [
       "556"
      ]
     },
     "execution_count": 108,
     "metadata": {},
     "output_type": "execute_result"
    }
   ],
   "source": [
    "COUPON_REDEMPT_RAW['COUPON_UPC'].nunique()"
   ]
  },
  {
   "cell_type": "markdown",
   "id": "52497c7c-fc56-43a3-b52f-2d85bab85789",
   "metadata": {},
   "source": [
    "**Showing through bar graph the coupons redeemed given during particular campaigns.**"
   ]
  },
  {
   "cell_type": "code",
   "execution_count": 115,
   "id": "8805c78e",
   "metadata": {},
   "outputs": [
    {
     "data": {
      "text/plain": [
       "<Axes: xlabel='CAMPAIGN'>"
      ]
     },
     "execution_count": 115,
     "metadata": {},
     "output_type": "execute_result"
    },
    {
     "data": {
      "image/png": "[encoded data removed]",
      "text/plain": [
       "<Figure size 640x480 with 1 Axes>"
      ]
     },
     "metadata": {},
     "output_type": "display_data"
    }
   ],
   "source": [
    "COUPON_REDEMPT_RAW.groupby('CAMPAIGN').aggregate(total_coupon_redeem = ('COUPON_UPC', 'nunique')).sort_values(\n",
    "    by ='total_coupon_redeem',ascending = False ).plot.bar()"
   ]
  },
  {
   "cell_type": "markdown",
   "id": "7f0f6106-a6c2-4487-b9b5-9475d7fa8eca",
   "metadata": {
    "tags": []
   },
   "source": [
    "** coupons of campaign 13 are mostly redeemed"
   ]
  },
  {
   "cell_type": "markdown",
   "id": "cdb715b5-d5de-41dc-a11a-b48fbc7fd1dc",
   "metadata": {},
   "source": [
    "**Showing first 5 records sorted by the coupons redeemed given during particular campaigns.**"
   ]
  },
  {
   "cell_type": "code",
   "execution_count": 28,
   "id": "7565e616",
   "metadata": {},
   "outputs": [
    {
     "data": {
      "text/html": [
       "<div>\n",
       "<style scoped>\n",
       "    .dataframe tbody tr th:only-of-type {\n",
       "        vertical-align: middle;\n",
       "    }\n",
       "\n",
       "    .dataframe tbody tr th {\n",
       "        vertical-align: top;\n",
       "    }\n",
       "\n",
       "    .dataframe thead th {\n",
       "        text-align: right;\n",
       "    }\n",
       "</style>\n",
       "<table border=\"1\" class=\"dataframe\">\n",
       "  <thead>\n",
       "    <tr style=\"text-align: right;\">\n",
       "      <th></th>\n",
       "      <th>total_coupon_redeem</th>\n",
       "    </tr>\n",
       "    <tr>\n",
       "      <th>CAMPAIGN</th>\n",
       "      <th></th>\n",
       "    </tr>\n",
       "  </thead>\n",
       "  <tbody>\n",
       "    <tr>\n",
       "      <th>13</th>\n",
       "      <td>129</td>\n",
       "    </tr>\n",
       "    <tr>\n",
       "      <th>18</th>\n",
       "      <td>121</td>\n",
       "    </tr>\n",
       "    <tr>\n",
       "      <th>8</th>\n",
       "      <td>105</td>\n",
       "    </tr>\n",
       "    <tr>\n",
       "      <th>26</th>\n",
       "      <td>53</td>\n",
       "    </tr>\n",
       "    <tr>\n",
       "      <th>30</th>\n",
       "      <td>41</td>\n",
       "    </tr>\n",
       "  </tbody>\n",
       "</table>\n",
       "</div>"
      ],
      "text/plain": [
       "          total_coupon_redeem\n",
       "CAMPAIGN                     \n",
       "13                        129\n",
       "18                        121\n",
       "8                         105\n",
       "26                         53\n",
       "30                         41"
      ]
     },
     "execution_count": 28,
     "metadata": {},
     "output_type": "execute_result"
    }
   ],
   "source": [
    "coupon_redeem = COUPON_REDEMPT_RAW.groupby('CAMPAIGN').aggregate(total_coupon_redeem = ('COUPON_UPC', 'nunique'))\n",
    "coupon_redeem.sort_values (by = 'total_coupon_redeem' ,ascending = False).head(5)"
   ]
  },
  {
   "cell_type": "markdown",
   "id": "9d254d8d",
   "metadata": {},
   "source": [
    "coupons of campaigns 13,18 and 8 are mostly redeemed."
   ]
  },
  {
   "cell_type": "code",
   "execution_count": 117,
   "id": "5434754f",
   "metadata": {},
   "outputs": [
    {
     "data": {
      "text/html": [
       "<div>\n",
       "<style scoped>\n",
       "    .dataframe tbody tr th:only-of-type {\n",
       "        vertical-align: middle;\n",
       "    }\n",
       "\n",
       "    .dataframe tbody tr th {\n",
       "        vertical-align: top;\n",
       "    }\n",
       "\n",
       "    .dataframe thead th {\n",
       "        text-align: right;\n",
       "    }\n",
       "</style>\n",
       "<table border=\"1\" class=\"dataframe\">\n",
       "  <thead>\n",
       "    <tr style=\"text-align: right;\">\n",
       "      <th></th>\n",
       "      <th>CAMPAIGN</th>\n",
       "      <th>Total_products</th>\n",
       "      <th>Total_coupon_given</th>\n",
       "      <th>DESCRIPTION</th>\n",
       "      <th>START_DAY</th>\n",
       "      <th>END_DAY</th>\n",
       "      <th>start_date</th>\n",
       "      <th>end_date</th>\n",
       "      <th>campaign_duration</th>\n",
       "      <th>start_month</th>\n",
       "      <th>end_month</th>\n",
       "      <th>start_year</th>\n",
       "      <th>end_year</th>\n",
       "    </tr>\n",
       "  </thead>\n",
       "  <tbody>\n",
       "    <tr>\n",
       "      <th>0</th>\n",
       "      <td>1</td>\n",
       "      <td>383</td>\n",
       "      <td>11</td>\n",
       "      <td>TypeB</td>\n",
       "      <td>346</td>\n",
       "      <td>383</td>\n",
       "      <td>2020-12-12</td>\n",
       "      <td>2021-01-18</td>\n",
       "      <td>37</td>\n",
       "      <td>12</td>\n",
       "      <td>01</td>\n",
       "      <td>2021</td>\n",
       "      <td>2021</td>\n",
       "    </tr>\n",
       "    <tr>\n",
       "      <th>1</th>\n",
       "      <td>2</td>\n",
       "      <td>301</td>\n",
       "      <td>16</td>\n",
       "      <td>TypeB</td>\n",
       "      <td>351</td>\n",
       "      <td>383</td>\n",
       "      <td>2020-12-17</td>\n",
       "      <td>2021-01-18</td>\n",
       "      <td>32</td>\n",
       "      <td>12</td>\n",
       "      <td>01</td>\n",
       "      <td>2021</td>\n",
       "      <td>2021</td>\n",
       "    </tr>\n",
       "    <tr>\n",
       "      <th>2</th>\n",
       "      <td>3</td>\n",
       "      <td>506</td>\n",
       "      <td>34</td>\n",
       "      <td>TypeC</td>\n",
       "      <td>356</td>\n",
       "      <td>412</td>\n",
       "      <td>2020-12-22</td>\n",
       "      <td>2021-02-16</td>\n",
       "      <td>56</td>\n",
       "      <td>12</td>\n",
       "      <td>02</td>\n",
       "      <td>2021</td>\n",
       "      <td>2021</td>\n",
       "    </tr>\n",
       "    <tr>\n",
       "      <th>3</th>\n",
       "      <td>4</td>\n",
       "      <td>200</td>\n",
       "      <td>12</td>\n",
       "      <td>TypeB</td>\n",
       "      <td>372</td>\n",
       "      <td>404</td>\n",
       "      <td>2021-01-07</td>\n",
       "      <td>2021-02-08</td>\n",
       "      <td>32</td>\n",
       "      <td>01</td>\n",
       "      <td>02</td>\n",
       "      <td>2021</td>\n",
       "      <td>2021</td>\n",
       "    </tr>\n",
       "    <tr>\n",
       "      <th>4</th>\n",
       "      <td>5</td>\n",
       "      <td>443</td>\n",
       "      <td>11</td>\n",
       "      <td>TypeB</td>\n",
       "      <td>377</td>\n",
       "      <td>411</td>\n",
       "      <td>2021-01-12</td>\n",
       "      <td>2021-02-15</td>\n",
       "      <td>34</td>\n",
       "      <td>01</td>\n",
       "      <td>02</td>\n",
       "      <td>2021</td>\n",
       "      <td>2021</td>\n",
       "    </tr>\n",
       "  </tbody>\n",
       "</table>\n",
       "</div>"
      ],
      "text/plain": [
       "   CAMPAIGN  Total_products  Total_coupon_given DESCRIPTION  START_DAY  \\\n",
       "0         1             383                  11       TypeB        346   \n",
       "1         2             301                  16       TypeB        351   \n",
       "2         3             506                  34       TypeC        356   \n",
       "3         4             200                  12       TypeB        372   \n",
       "4         5             443                  11       TypeB        377   \n",
       "\n",
       "   END_DAY start_date   end_date  campaign_duration start_month end_month  \\\n",
       "0      383 2020-12-12 2021-01-18                 37          12        01   \n",
       "1      383 2020-12-17 2021-01-18                 32          12        01   \n",
       "2      412 2020-12-22 2021-02-16                 56          12        02   \n",
       "3      404 2021-01-07 2021-02-08                 32          01        02   \n",
       "4      411 2021-01-12 2021-02-15                 34          01        02   \n",
       "\n",
       "  start_year end_year  \n",
       "0       2021     2021  \n",
       "1       2021     2021  \n",
       "2       2021     2021  \n",
       "3       2021     2021  \n",
       "4       2021     2021  "
      ]
     },
     "execution_count": 117,
     "metadata": {},
     "output_type": "execute_result"
    }
   ],
   "source": [
    "Coupon_Given.head()"
   ]
  },
  {
   "cell_type": "markdown",
   "id": "fcccb420-6e10-4473-9df5-5502b6575df7",
   "metadata": {},
   "source": [
    "**Joining two tables coupon_redeem and Coupon_Given and naming newly created table as coupon_redeem.**"
   ]
  },
  {
   "cell_type": "code",
   "execution_count": 29,
   "id": "3907ef5b",
   "metadata": {},
   "outputs": [],
   "source": [
    "coupon_redeem = coupon_redeem.merge(right = Coupon_Given, on ='CAMPAIGN', how = 'left')"
   ]
  },
  {
   "cell_type": "code",
   "execution_count": 120,
   "id": "e5ca175b",
   "metadata": {},
   "outputs": [
    {
     "data": {
      "text/html": [
       "<div>\n",
       "<style scoped>\n",
       "    .dataframe tbody tr th:only-of-type {\n",
       "        vertical-align: middle;\n",
       "    }\n",
       "\n",
       "    .dataframe tbody tr th {\n",
       "        vertical-align: top;\n",
       "    }\n",
       "\n",
       "    .dataframe thead th {\n",
       "        text-align: right;\n",
       "    }\n",
       "</style>\n",
       "<table border=\"1\" class=\"dataframe\">\n",
       "  <thead>\n",
       "    <tr style=\"text-align: right;\">\n",
       "      <th></th>\n",
       "      <th>CAMPAIGN</th>\n",
       "      <th>total_coupon_redeem</th>\n",
       "      <th>Total_products</th>\n",
       "      <th>Total_coupon_given</th>\n",
       "      <th>DESCRIPTION</th>\n",
       "      <th>START_DAY</th>\n",
       "      <th>END_DAY</th>\n",
       "      <th>start_date</th>\n",
       "      <th>end_date</th>\n",
       "      <th>campaign_duration</th>\n",
       "      <th>start_month</th>\n",
       "      <th>end_month</th>\n",
       "      <th>start_year</th>\n",
       "      <th>end_year</th>\n",
       "    </tr>\n",
       "  </thead>\n",
       "  <tbody>\n",
       "    <tr>\n",
       "      <th>0</th>\n",
       "      <td>1</td>\n",
       "      <td>1</td>\n",
       "      <td>383</td>\n",
       "      <td>11</td>\n",
       "      <td>TypeB</td>\n",
       "      <td>346</td>\n",
       "      <td>383</td>\n",
       "      <td>2020-12-12</td>\n",
       "      <td>2021-01-18</td>\n",
       "      <td>37</td>\n",
       "      <td>12</td>\n",
       "      <td>01</td>\n",
       "      <td>2021</td>\n",
       "      <td>2021</td>\n",
       "    </tr>\n",
       "    <tr>\n",
       "      <th>1</th>\n",
       "      <td>2</td>\n",
       "      <td>4</td>\n",
       "      <td>301</td>\n",
       "      <td>16</td>\n",
       "      <td>TypeB</td>\n",
       "      <td>351</td>\n",
       "      <td>383</td>\n",
       "      <td>2020-12-17</td>\n",
       "      <td>2021-01-18</td>\n",
       "      <td>32</td>\n",
       "      <td>12</td>\n",
       "      <td>01</td>\n",
       "      <td>2021</td>\n",
       "      <td>2021</td>\n",
       "    </tr>\n",
       "    <tr>\n",
       "      <th>2</th>\n",
       "      <td>3</td>\n",
       "      <td>2</td>\n",
       "      <td>506</td>\n",
       "      <td>34</td>\n",
       "      <td>TypeC</td>\n",
       "      <td>356</td>\n",
       "      <td>412</td>\n",
       "      <td>2020-12-22</td>\n",
       "      <td>2021-02-16</td>\n",
       "      <td>56</td>\n",
       "      <td>12</td>\n",
       "      <td>02</td>\n",
       "      <td>2021</td>\n",
       "      <td>2021</td>\n",
       "    </tr>\n",
       "    <tr>\n",
       "      <th>3</th>\n",
       "      <td>4</td>\n",
       "      <td>6</td>\n",
       "      <td>200</td>\n",
       "      <td>12</td>\n",
       "      <td>TypeB</td>\n",
       "      <td>372</td>\n",
       "      <td>404</td>\n",
       "      <td>2021-01-07</td>\n",
       "      <td>2021-02-08</td>\n",
       "      <td>32</td>\n",
       "      <td>01</td>\n",
       "      <td>02</td>\n",
       "      <td>2021</td>\n",
       "      <td>2021</td>\n",
       "    </tr>\n",
       "    <tr>\n",
       "      <th>4</th>\n",
       "      <td>5</td>\n",
       "      <td>5</td>\n",
       "      <td>443</td>\n",
       "      <td>11</td>\n",
       "      <td>TypeB</td>\n",
       "      <td>377</td>\n",
       "      <td>411</td>\n",
       "      <td>2021-01-12</td>\n",
       "      <td>2021-02-15</td>\n",
       "      <td>34</td>\n",
       "      <td>01</td>\n",
       "      <td>02</td>\n",
       "      <td>2021</td>\n",
       "      <td>2021</td>\n",
       "    </tr>\n",
       "  </tbody>\n",
       "</table>\n",
       "</div>"
      ],
      "text/plain": [
       "   CAMPAIGN  total_coupon_redeem  Total_products  Total_coupon_given  \\\n",
       "0         1                    1             383                  11   \n",
       "1         2                    4             301                  16   \n",
       "2         3                    2             506                  34   \n",
       "3         4                    6             200                  12   \n",
       "4         5                    5             443                  11   \n",
       "\n",
       "  DESCRIPTION  START_DAY  END_DAY start_date   end_date  campaign_duration  \\\n",
       "0       TypeB        346      383 2020-12-12 2021-01-18                 37   \n",
       "1       TypeB        351      383 2020-12-17 2021-01-18                 32   \n",
       "2       TypeC        356      412 2020-12-22 2021-02-16                 56   \n",
       "3       TypeB        372      404 2021-01-07 2021-02-08                 32   \n",
       "4       TypeB        377      411 2021-01-12 2021-02-15                 34   \n",
       "\n",
       "  start_month end_month start_year end_year  \n",
       "0          12        01       2021     2021  \n",
       "1          12        01       2021     2021  \n",
       "2          12        02       2021     2021  \n",
       "3          01        02       2021     2021  \n",
       "4          01        02       2021     2021  "
      ]
     },
     "execution_count": 120,
     "metadata": {},
     "output_type": "execute_result"
    }
   ],
   "source": [
    "coupon_redeem.head()"
   ]
  },
  {
   "cell_type": "markdown",
   "id": "27e5b486-4580-4d26-ba24-e446fa8c8a83",
   "metadata": {},
   "source": [
    "**Inserting a new column 'coupon_redeem_rate' along with calculated values in table coupon_redeem.**"
   ]
  },
  {
   "cell_type": "code",
   "execution_count": 30,
   "id": "3eb613d2",
   "metadata": {},
   "outputs": [],
   "source": [
    "coupon_redeem['coupon_redeem_rate'] = (coupon_redeem['total_coupon_redeem'] / coupon_redeem['Total_coupon_given'])*100"
   ]
  },
  {
   "cell_type": "markdown",
   "id": "5750a470-3742-48c1-8f0e-bbfd8011e629",
   "metadata": {},
   "source": [
    "**Sorting the table in descending order by coupon_redeem_rate**"
   ]
  },
  {
   "cell_type": "code",
   "execution_count": 123,
   "id": "f60b4b2a",
   "metadata": {},
   "outputs": [
    {
     "data": {
      "text/html": [
       "<div>\n",
       "<style scoped>\n",
       "    .dataframe tbody tr th:only-of-type {\n",
       "        vertical-align: middle;\n",
       "    }\n",
       "\n",
       "    .dataframe tbody tr th {\n",
       "        vertical-align: top;\n",
       "    }\n",
       "\n",
       "    .dataframe thead th {\n",
       "        text-align: right;\n",
       "    }\n",
       "</style>\n",
       "<table border=\"1\" class=\"dataframe\">\n",
       "  <thead>\n",
       "    <tr style=\"text-align: right;\">\n",
       "      <th></th>\n",
       "      <th>CAMPAIGN</th>\n",
       "      <th>total_coupon_redeem</th>\n",
       "      <th>Total_products</th>\n",
       "      <th>Total_coupon_given</th>\n",
       "      <th>DESCRIPTION</th>\n",
       "      <th>START_DAY</th>\n",
       "      <th>END_DAY</th>\n",
       "      <th>start_date</th>\n",
       "      <th>end_date</th>\n",
       "      <th>campaign_duration</th>\n",
       "      <th>start_month</th>\n",
       "      <th>end_month</th>\n",
       "      <th>start_year</th>\n",
       "      <th>end_year</th>\n",
       "      <th>coupon_redeem_rate</th>\n",
       "    </tr>\n",
       "  </thead>\n",
       "  <tbody>\n",
       "    <tr>\n",
       "      <th>23</th>\n",
       "      <td>24</td>\n",
       "      <td>2</td>\n",
       "      <td>1887</td>\n",
       "      <td>2</td>\n",
       "      <td>TypeB</td>\n",
       "      <td>659</td>\n",
       "      <td>719</td>\n",
       "      <td>2021-10-21</td>\n",
       "      <td>2021-12-20</td>\n",
       "      <td>60</td>\n",
       "      <td>10</td>\n",
       "      <td>12</td>\n",
       "      <td>2021</td>\n",
       "      <td>2021</td>\n",
       "      <td>100.000000</td>\n",
       "    </tr>\n",
       "    <tr>\n",
       "      <th>5</th>\n",
       "      <td>6</td>\n",
       "      <td>1</td>\n",
       "      <td>18</td>\n",
       "      <td>1</td>\n",
       "      <td>TypeC</td>\n",
       "      <td>393</td>\n",
       "      <td>425</td>\n",
       "      <td>2021-01-28</td>\n",
       "      <td>2021-03-01</td>\n",
       "      <td>32</td>\n",
       "      <td>01</td>\n",
       "      <td>03</td>\n",
       "      <td>2021</td>\n",
       "      <td>2021</td>\n",
       "      <td>100.000000</td>\n",
       "    </tr>\n",
       "    <tr>\n",
       "      <th>14</th>\n",
       "      <td>15</td>\n",
       "      <td>2</td>\n",
       "      <td>55</td>\n",
       "      <td>2</td>\n",
       "      <td>TypeC</td>\n",
       "      <td>547</td>\n",
       "      <td>708</td>\n",
       "      <td>2021-07-01</td>\n",
       "      <td>2021-12-09</td>\n",
       "      <td>161</td>\n",
       "      <td>07</td>\n",
       "      <td>12</td>\n",
       "      <td>2021</td>\n",
       "      <td>2021</td>\n",
       "      <td>100.000000</td>\n",
       "    </tr>\n",
       "    <tr>\n",
       "      <th>22</th>\n",
       "      <td>23</td>\n",
       "      <td>16</td>\n",
       "      <td>767</td>\n",
       "      <td>18</td>\n",
       "      <td>TypeB</td>\n",
       "      <td>646</td>\n",
       "      <td>684</td>\n",
       "      <td>2021-10-08</td>\n",
       "      <td>2021-11-15</td>\n",
       "      <td>38</td>\n",
       "      <td>10</td>\n",
       "      <td>11</td>\n",
       "      <td>2021</td>\n",
       "      <td>2021</td>\n",
       "      <td>88.888889</td>\n",
       "    </tr>\n",
       "    <tr>\n",
       "      <th>24</th>\n",
       "      <td>25</td>\n",
       "      <td>15</td>\n",
       "      <td>826</td>\n",
       "      <td>17</td>\n",
       "      <td>TypeB</td>\n",
       "      <td>659</td>\n",
       "      <td>691</td>\n",
       "      <td>2021-10-21</td>\n",
       "      <td>2021-11-22</td>\n",
       "      <td>32</td>\n",
       "      <td>10</td>\n",
       "      <td>11</td>\n",
       "      <td>2021</td>\n",
       "      <td>2021</td>\n",
       "      <td>88.235294</td>\n",
       "    </tr>\n",
       "  </tbody>\n",
       "</table>\n",
       "</div>"
      ],
      "text/plain": [
       "    CAMPAIGN  total_coupon_redeem  Total_products  Total_coupon_given  \\\n",
       "23        24                    2            1887                   2   \n",
       "5          6                    1              18                   1   \n",
       "14        15                    2              55                   2   \n",
       "22        23                   16             767                  18   \n",
       "24        25                   15             826                  17   \n",
       "\n",
       "   DESCRIPTION  START_DAY  END_DAY start_date   end_date  campaign_duration  \\\n",
       "23       TypeB        659      719 2021-10-21 2021-12-20                 60   \n",
       "5        TypeC        393      425 2021-01-28 2021-03-01                 32   \n",
       "14       TypeC        547      708 2021-07-01 2021-12-09                161   \n",
       "22       TypeB        646      684 2021-10-08 2021-11-15                 38   \n",
       "24       TypeB        659      691 2021-10-21 2021-11-22                 32   \n",
       "\n",
       "   start_month end_month start_year end_year  coupon_redeem_rate  \n",
       "23          10        12       2021     2021          100.000000  \n",
       "5           01        03       2021     2021          100.000000  \n",
       "14          07        12       2021     2021          100.000000  \n",
       "22          10        11       2021     2021           88.888889  \n",
       "24          10        11       2021     2021           88.235294  "
      ]
     },
     "execution_count": 123,
     "metadata": {},
     "output_type": "execute_result"
    }
   ],
   "source": [
    "coupon_redeem.sort_values(by = 'coupon_redeem_rate', ascending = False).head()"
   ]
  },
  {
   "cell_type": "markdown",
   "id": "c683afd2-42fa-4a6b-ad8f-0faf3f776c95",
   "metadata": {},
   "source": [
    "**Showcasing coupon redeem rate of each campaign through bar graph**"
   ]
  },
  {
   "cell_type": "code",
   "execution_count": 36,
   "id": "8676a3c6",
   "metadata": {},
   "outputs": [
    {
     "data": {
      "text/plain": [
       "<Axes: xlabel='CAMPAIGN', ylabel='coupon_redeem_rate'>"
      ]
     },
     "execution_count": 36,
     "metadata": {},
     "output_type": "execute_result"
    },
    {
     "data": {
      "image/png": "[encoded data removed]",
      "text/plain": [
       "<Figure size 1500x500 with 1 Axes>"
      ]
     },
     "metadata": {},
     "output_type": "display_data"
    }
   ],
   "source": [
    "plt.figure(figsize=(15,5))\n",
    "sns.barplot(x='CAMPAIGN', y = 'coupon_redeem_rate', data = coupon_redeem )"
   ]
  },
  {
   "cell_type": "markdown",
   "id": "92097b24-f060-4eb1-9357-5195c9507434",
   "metadata": {},
   "source": [
    "**Checking for null values in TRANSACTION_RAW.**"
   ]
  },
  {
   "cell_type": "code",
   "execution_count": 37,
   "id": "d4992b84",
   "metadata": {},
   "outputs": [
    {
     "data": {
      "text/plain": [
       "HOUSEHOLD_KEY        0\n",
       "BASKET_ID            0\n",
       "DAY                  0\n",
       "PRODUCT_ID           0\n",
       "QUANTITY             0\n",
       "SALES_VALUE          0\n",
       "STORE_ID             0\n",
       "RETAIL_DISC          0\n",
       "TRANS_TIME           0\n",
       "WEEK_NO              0\n",
       "COUPON_DISC          0\n",
       "COUPON_MATCH_DISC    0\n",
       "Date                 0\n",
       "dtype: int64"
      ]
     },
     "execution_count": 37,
     "metadata": {},
     "output_type": "execute_result"
    }
   ],
   "source": [
    "TRANSACTION_RAW.isnull().sum()"
   ]
  },
  {
   "cell_type": "markdown",
   "id": "6c45f2af-6d2c-4aad-b0c7-ec4754b0d801",
   "metadata": {},
   "source": [
    "**Finding total number of BASKET_ID.**"
   ]
  },
  {
   "cell_type": "code",
   "execution_count": 39,
   "id": "60a4cd35",
   "metadata": {},
   "outputs": [
    {
     "data": {
      "text/plain": [
       "450416"
      ]
     },
     "execution_count": 39,
     "metadata": {},
     "output_type": "execute_result"
    }
   ],
   "source": [
    "TRANSACTION_RAW['BASKET_ID'].count()"
   ]
  },
  {
   "cell_type": "markdown",
   "id": "4fbcc814-3c70-4450-bb60-41cf3fdf22f9",
   "metadata": {},
   "source": [
    "**Finding total number of unique BASKET_ID.**"
   ]
  },
  {
   "cell_type": "code",
   "execution_count": 40,
   "id": "873d9cbe",
   "metadata": {},
   "outputs": [
    {
     "data": {
      "text/plain": [
       "50479"
      ]
     },
     "execution_count": 40,
     "metadata": {},
     "output_type": "execute_result"
    }
   ],
   "source": [
    "TRANSACTION_RAW['BASKET_ID'].nunique()"
   ]
  },
  {
   "cell_type": "code",
   "execution_count": 46,
   "id": "8a3f6024",
   "metadata": {},
   "outputs": [
    {
     "data": {
      "text/plain": [
       "HOUSEHOLD_KEY                 int16\n",
       "BASKET_ID                     int64\n",
       "DAY                           int16\n",
       "PRODUCT_ID                    int32\n",
       "QUANTITY                      int32\n",
       "SALES_VALUE                 float64\n",
       "STORE_ID                      int16\n",
       "RETAIL_DISC                 float64\n",
       "TRANS_TIME                    int16\n",
       "WEEK_NO                        int8\n",
       "COUPON_DISC                    int8\n",
       "COUPON_MATCH_DISC              int8\n",
       "Date                 datetime64[ns]\n",
       "dtype: object"
      ]
     },
     "execution_count": 46,
     "metadata": {},
     "output_type": "execute_result"
    }
   ],
   "source": [
    "TRANSACTION_RAW.dtypes"
   ]
  },
  {
   "cell_type": "markdown",
   "id": "8751edff-b2b1-4f68-9dd7-3eb35d69ef9c",
   "metadata": {},
   "source": [
    "**Finding overall sales amount,coupon discount and coupon match discount of each basket_id and storing it in table trnx_bucket**"
   ]
  },
  {
   "cell_type": "code",
   "execution_count": 31,
   "id": "41847be9",
   "metadata": {},
   "outputs": [],
   "source": [
    "trnx_bucket = TRANSACTION_RAW.groupby('BASKET_ID').agg({'SALES_VALUE':'sum','COUPON_DISC':'sum','COUPON_MATCH_DISC':'sum' })"
   ]
  },
  {
   "cell_type": "code",
   "execution_count": 54,
   "id": "79681231",
   "metadata": {},
   "outputs": [
    {
     "data": {
      "text/html": [
       "<div>\n",
       "<style scoped>\n",
       "    .dataframe tbody tr th:only-of-type {\n",
       "        vertical-align: middle;\n",
       "    }\n",
       "\n",
       "    .dataframe tbody tr th {\n",
       "        vertical-align: top;\n",
       "    }\n",
       "\n",
       "    .dataframe thead th {\n",
       "        text-align: right;\n",
       "    }\n",
       "</style>\n",
       "<table border=\"1\" class=\"dataframe\">\n",
       "  <thead>\n",
       "    <tr style=\"text-align: right;\">\n",
       "      <th></th>\n",
       "      <th>SALES_VALUE</th>\n",
       "      <th>COUPON_DISC</th>\n",
       "      <th>COUPON_MATCH_DISC</th>\n",
       "    </tr>\n",
       "    <tr>\n",
       "      <th>BASKET_ID</th>\n",
       "      <th></th>\n",
       "      <th></th>\n",
       "      <th></th>\n",
       "    </tr>\n",
       "  </thead>\n",
       "  <tbody>\n",
       "    <tr>\n",
       "      <th>26984851472</th>\n",
       "      <td>5.91</td>\n",
       "      <td>0</td>\n",
       "      <td>0</td>\n",
       "    </tr>\n",
       "    <tr>\n",
       "      <th>26984851516</th>\n",
       "      <td>12.43</td>\n",
       "      <td>0</td>\n",
       "      <td>0</td>\n",
       "    </tr>\n",
       "    <tr>\n",
       "      <th>26984896261</th>\n",
       "      <td>11.37</td>\n",
       "      <td>0</td>\n",
       "      <td>0</td>\n",
       "    </tr>\n",
       "    <tr>\n",
       "      <th>26984905972</th>\n",
       "      <td>2.55</td>\n",
       "      <td>0</td>\n",
       "      <td>0</td>\n",
       "    </tr>\n",
       "    <tr>\n",
       "      <th>26984945254</th>\n",
       "      <td>3.53</td>\n",
       "      <td>0</td>\n",
       "      <td>0</td>\n",
       "    </tr>\n",
       "  </tbody>\n",
       "</table>\n",
       "</div>"
      ],
      "text/plain": [
       "             SALES_VALUE  COUPON_DISC  COUPON_MATCH_DISC\n",
       "BASKET_ID                                               \n",
       "26984851472         5.91            0                  0\n",
       "26984851516        12.43            0                  0\n",
       "26984896261        11.37            0                  0\n",
       "26984905972         2.55            0                  0\n",
       "26984945254         3.53            0                  0"
      ]
     },
     "execution_count": 54,
     "metadata": {},
     "output_type": "execute_result"
    }
   ],
   "source": [
    "trnx_bucket.head()"
   ]
  },
  {
   "cell_type": "markdown",
   "id": "423a4381-a7ba-4603-a67c-65bd3bbdf71a",
   "metadata": {},
   "source": [
    "**Creating a column 'use_coupon' in table trnx_bucket. If COUPON_DISC is no equal to 0\n",
    "it will store true otherwise store false.  The next statement gives total count of true and false.**"
   ]
  },
  {
   "cell_type": "code",
   "execution_count": 32,
   "id": "66ff8022",
   "metadata": {},
   "outputs": [
    {
     "data": {
      "text/plain": [
       "False    47892\n",
       "True      2587\n",
       "Name: use_coupon, dtype: int64"
      ]
     },
     "execution_count": 32,
     "metadata": {},
     "output_type": "execute_result"
    }
   ],
   "source": [
    "trnx_bucket['use_coupon'] = (trnx_bucket['COUPON_DISC'] != 0)\n",
    "trnx_bucket['use_coupon'].value_counts()"
   ]
  },
  {
   "cell_type": "markdown",
   "id": "de6bc294",
   "metadata": {},
   "source": [
    "#There is 2587 transactions that have used coupons"
   ]
  },
  {
   "cell_type": "markdown",
   "id": "b9ed79aa-252f-4735-94ea-4ced5cb6e369",
   "metadata": {},
   "source": [
    "**Giving first 5 rows of trnx_bucket table sorted by SALES_VALUE in descending order**"
   ]
  },
  {
   "cell_type": "code",
   "execution_count": 58,
   "id": "a67a8d32",
   "metadata": {},
   "outputs": [
    {
     "data": {
      "text/html": [
       "<div>\n",
       "<style scoped>\n",
       "    .dataframe tbody tr th:only-of-type {\n",
       "        vertical-align: middle;\n",
       "    }\n",
       "\n",
       "    .dataframe tbody tr th {\n",
       "        vertical-align: top;\n",
       "    }\n",
       "\n",
       "    .dataframe thead th {\n",
       "        text-align: right;\n",
       "    }\n",
       "</style>\n",
       "<table border=\"1\" class=\"dataframe\">\n",
       "  <thead>\n",
       "    <tr style=\"text-align: right;\">\n",
       "      <th></th>\n",
       "      <th>SALES_VALUE</th>\n",
       "      <th>COUPON_DISC</th>\n",
       "      <th>COUPON_MATCH_DISC</th>\n",
       "      <th>use_coupon</th>\n",
       "    </tr>\n",
       "    <tr>\n",
       "      <th>BASKET_ID</th>\n",
       "      <th></th>\n",
       "      <th></th>\n",
       "      <th></th>\n",
       "      <th></th>\n",
       "    </tr>\n",
       "  </thead>\n",
       "  <tbody>\n",
       "    <tr>\n",
       "      <th>27534431747</th>\n",
       "      <td>465.70</td>\n",
       "      <td>-3</td>\n",
       "      <td>-1</td>\n",
       "      <td>True</td>\n",
       "    </tr>\n",
       "    <tr>\n",
       "      <th>27798435271</th>\n",
       "      <td>463.17</td>\n",
       "      <td>-2</td>\n",
       "      <td>-2</td>\n",
       "      <td>True</td>\n",
       "    </tr>\n",
       "    <tr>\n",
       "      <th>27093315740</th>\n",
       "      <td>400.79</td>\n",
       "      <td>0</td>\n",
       "      <td>0</td>\n",
       "      <td>False</td>\n",
       "    </tr>\n",
       "    <tr>\n",
       "      <th>28941937397</th>\n",
       "      <td>400.56</td>\n",
       "      <td>-1</td>\n",
       "      <td>0</td>\n",
       "      <td>True</td>\n",
       "    </tr>\n",
       "    <tr>\n",
       "      <th>28210676830</th>\n",
       "      <td>391.05</td>\n",
       "      <td>0</td>\n",
       "      <td>0</td>\n",
       "      <td>False</td>\n",
       "    </tr>\n",
       "  </tbody>\n",
       "</table>\n",
       "</div>"
      ],
      "text/plain": [
       "             SALES_VALUE  COUPON_DISC  COUPON_MATCH_DISC  use_coupon\n",
       "BASKET_ID                                                           \n",
       "27534431747       465.70           -3                 -1        True\n",
       "27798435271       463.17           -2                 -2        True\n",
       "27093315740       400.79            0                  0       False\n",
       "28941937397       400.56           -1                  0        True\n",
       "28210676830       391.05            0                  0       False"
      ]
     },
     "execution_count": 58,
     "metadata": {},
     "output_type": "execute_result"
    }
   ],
   "source": [
    "trnx_bucket.sort_values('SALES_VALUE',ascending = False).head()"
   ]
  },
  {
   "cell_type": "markdown",
   "id": "3ee3d8d2-3f16-4c46-88ac-07a470b0120f",
   "metadata": {},
   "source": [
    "**Finding mean of SALES_VALUE rounded to two decimal digits**"
   ]
  },
  {
   "cell_type": "code",
   "execution_count": 61,
   "id": "12c610ce",
   "metadata": {},
   "outputs": [
    {
     "data": {
      "text/plain": [
       "26.93"
      ]
     },
     "execution_count": 61,
     "metadata": {},
     "output_type": "execute_result"
    }
   ],
   "source": [
    "round(trnx_bucket['SALES_VALUE'].mean(),2)"
   ]
  },
  {
   "cell_type": "markdown",
   "id": "3fda3d96-7e6f-4508-9847-aeacee9556e5",
   "metadata": {},
   "source": [
    "**Finding outliers in sales value by drawing boxplot.**"
   ]
  },
  {
   "cell_type": "code",
   "execution_count": 63,
   "id": "55955b82",
   "metadata": {},
   "outputs": [
    {
     "data": {
      "text/plain": [
       "Text(0.5, 1.0, 'Bascket Value BoxPlot')"
      ]
     },
     "execution_count": 63,
     "metadata": {},
     "output_type": "execute_result"
    },
    {
     "data": {
      "image/png": "[encoded data removed]",
      "text/plain": [
       "<Figure size 1500x500 with 1 Axes>"
      ]
     },
     "metadata": {},
     "output_type": "display_data"
    }
   ],
   "source": [
    "plt.figure(figsize=(15,5))\n",
    "sns.boxplot(x= trnx_bucket['SALES_VALUE'])\n",
    "plt.title('Bascket Value BoxPlot', fontsize = 20)"
   ]
  },
  {
   "cell_type": "markdown",
   "id": "05025aa1-e1f6-4fee-87ae-9b16e6410206",
   "metadata": {
    "tags": []
   },
   "source": [
    "**Finding mean of SALES_VALUE, COUPON_DISC, COUPON_MATCH_DISC & count of COUPON_DISC**"
   ]
  },
  {
   "cell_type": "code",
   "execution_count": 65,
   "id": "586d6a34",
   "metadata": {},
   "outputs": [
    {
     "data": {
      "text/html": [
       "<div>\n",
       "<style scoped>\n",
       "    .dataframe tbody tr th:only-of-type {\n",
       "        vertical-align: middle;\n",
       "    }\n",
       "\n",
       "    .dataframe tbody tr th {\n",
       "        vertical-align: top;\n",
       "    }\n",
       "\n",
       "    .dataframe thead th {\n",
       "        text-align: right;\n",
       "    }\n",
       "</style>\n",
       "<table border=\"1\" class=\"dataframe\">\n",
       "  <thead>\n",
       "    <tr style=\"text-align: right;\">\n",
       "      <th></th>\n",
       "      <th>Sales_mean</th>\n",
       "      <th>coupon_disc_mean</th>\n",
       "      <th>coupon_match_mean</th>\n",
       "      <th>no_coupon</th>\n",
       "    </tr>\n",
       "    <tr>\n",
       "      <th>use_coupon</th>\n",
       "      <th></th>\n",
       "      <th></th>\n",
       "      <th></th>\n",
       "      <th></th>\n",
       "    </tr>\n",
       "  </thead>\n",
       "  <tbody>\n",
       "    <tr>\n",
       "      <th>False</th>\n",
       "      <td>25.009980</td>\n",
       "      <td>0.000000</td>\n",
       "      <td>0.000000</td>\n",
       "      <td>47892</td>\n",
       "    </tr>\n",
       "    <tr>\n",
       "      <th>True</th>\n",
       "      <td>62.533348</td>\n",
       "      <td>-2.587167</td>\n",
       "      <td>-0.334364</td>\n",
       "      <td>2587</td>\n",
       "    </tr>\n",
       "  </tbody>\n",
       "</table>\n",
       "</div>"
      ],
      "text/plain": [
       "            Sales_mean  coupon_disc_mean  coupon_match_mean  no_coupon\n",
       "use_coupon                                                            \n",
       "False        25.009980          0.000000           0.000000      47892\n",
       "True         62.533348         -2.587167          -0.334364       2587"
      ]
     },
     "execution_count": 65,
     "metadata": {},
     "output_type": "execute_result"
    }
   ],
   "source": [
    "trnx_bucket.groupby('use_coupon').agg(Sales_mean=('SALES_VALUE','mean'),\n",
    "                   coupon_disc_mean=('COUPON_DISC','mean'),\n",
    "                    coupon_match_mean=('COUPON_MATCH_DISC','mean'),\n",
    "                    no_coupon =('COUPON_DISC','count'))"
   ]
  },
  {
   "cell_type": "markdown",
   "id": "3f70e3e9",
   "metadata": {},
   "source": [
    "** Average sale of Bucket when the coupon is used is $62.53"
   ]
  },
  {
   "cell_type": "markdown",
   "id": "2f6cdb52",
   "metadata": {},
   "source": [
    "** It shows that customeer purchase more product when coupon is given to them"
   ]
  },
  {
   "cell_type": "markdown",
   "id": "884c52a2-056d-4c92-b9c6-e6e0cd50cc2a",
   "metadata": {},
   "source": [
    "**Creating a new table by joinig TRANSACTION_RAW & trnx_bucket. Now we can better analyse sales in respect of use_coupons**"
   ]
  },
  {
   "cell_type": "code",
   "execution_count": 33,
   "id": "3c5a2942",
   "metadata": {},
   "outputs": [],
   "source": [
    "trxn_desc = TRANSACTION_RAW.merge( right = trnx_bucket, on = 'BASKET_ID' , how = 'left')"
   ]
  },
  {
   "cell_type": "code",
   "execution_count": 34,
   "id": "5ff41d8e",
   "metadata": {},
   "outputs": [
    {
     "data": {
      "text/html": [
       "<div>\n",
       "<style scoped>\n",
       "    .dataframe tbody tr th:only-of-type {\n",
       "        vertical-align: middle;\n",
       "    }\n",
       "\n",
       "    .dataframe tbody tr th {\n",
       "        vertical-align: top;\n",
       "    }\n",
       "\n",
       "    .dataframe thead th {\n",
       "        text-align: right;\n",
       "    }\n",
       "</style>\n",
       "<table border=\"1\" class=\"dataframe\">\n",
       "  <thead>\n",
       "    <tr style=\"text-align: right;\">\n",
       "      <th></th>\n",
       "      <th>HOUSEHOLD_KEY</th>\n",
       "      <th>BASKET_ID</th>\n",
       "      <th>DAY</th>\n",
       "      <th>PRODUCT_ID</th>\n",
       "      <th>QUANTITY</th>\n",
       "      <th>SALES_VALUE_x</th>\n",
       "      <th>STORE_ID</th>\n",
       "      <th>RETAIL_DISC</th>\n",
       "      <th>TRANS_TIME</th>\n",
       "      <th>WEEK_NO</th>\n",
       "      <th>COUPON_DISC_x</th>\n",
       "      <th>COUPON_MATCH_DISC_x</th>\n",
       "      <th>Date</th>\n",
       "      <th>SALES_VALUE_y</th>\n",
       "      <th>COUPON_DISC_y</th>\n",
       "      <th>COUPON_MATCH_DISC_y</th>\n",
       "      <th>use_coupon</th>\n",
       "    </tr>\n",
       "  </thead>\n",
       "  <tbody>\n",
       "    <tr>\n",
       "      <th>0</th>\n",
       "      <td>2375</td>\n",
       "      <td>26984851472</td>\n",
       "      <td>1</td>\n",
       "      <td>1004906</td>\n",
       "      <td>1</td>\n",
       "      <td>1.39</td>\n",
       "      <td>364</td>\n",
       "      <td>-0.60</td>\n",
       "      <td>1631</td>\n",
       "      <td>1</td>\n",
       "      <td>0</td>\n",
       "      <td>0</td>\n",
       "      <td>2020-01-02</td>\n",
       "      <td>5.91</td>\n",
       "      <td>0</td>\n",
       "      <td>0</td>\n",
       "      <td>False</td>\n",
       "    </tr>\n",
       "    <tr>\n",
       "      <th>1</th>\n",
       "      <td>2375</td>\n",
       "      <td>26984851472</td>\n",
       "      <td>1</td>\n",
       "      <td>1033142</td>\n",
       "      <td>1</td>\n",
       "      <td>0.82</td>\n",
       "      <td>364</td>\n",
       "      <td>0.00</td>\n",
       "      <td>1631</td>\n",
       "      <td>1</td>\n",
       "      <td>0</td>\n",
       "      <td>0</td>\n",
       "      <td>2020-01-02</td>\n",
       "      <td>5.91</td>\n",
       "      <td>0</td>\n",
       "      <td>0</td>\n",
       "      <td>False</td>\n",
       "    </tr>\n",
       "    <tr>\n",
       "      <th>2</th>\n",
       "      <td>2375</td>\n",
       "      <td>26984851472</td>\n",
       "      <td>1</td>\n",
       "      <td>1036325</td>\n",
       "      <td>1</td>\n",
       "      <td>0.99</td>\n",
       "      <td>364</td>\n",
       "      <td>-0.30</td>\n",
       "      <td>1631</td>\n",
       "      <td>1</td>\n",
       "      <td>0</td>\n",
       "      <td>0</td>\n",
       "      <td>2020-01-02</td>\n",
       "      <td>5.91</td>\n",
       "      <td>0</td>\n",
       "      <td>0</td>\n",
       "      <td>False</td>\n",
       "    </tr>\n",
       "    <tr>\n",
       "      <th>3</th>\n",
       "      <td>2375</td>\n",
       "      <td>26984851472</td>\n",
       "      <td>1</td>\n",
       "      <td>1082185</td>\n",
       "      <td>1</td>\n",
       "      <td>1.21</td>\n",
       "      <td>364</td>\n",
       "      <td>0.00</td>\n",
       "      <td>1631</td>\n",
       "      <td>1</td>\n",
       "      <td>0</td>\n",
       "      <td>0</td>\n",
       "      <td>2020-01-02</td>\n",
       "      <td>5.91</td>\n",
       "      <td>0</td>\n",
       "      <td>0</td>\n",
       "      <td>False</td>\n",
       "    </tr>\n",
       "    <tr>\n",
       "      <th>4</th>\n",
       "      <td>2375</td>\n",
       "      <td>26984851472</td>\n",
       "      <td>1</td>\n",
       "      <td>8160430</td>\n",
       "      <td>1</td>\n",
       "      <td>1.50</td>\n",
       "      <td>364</td>\n",
       "      <td>-0.39</td>\n",
       "      <td>1631</td>\n",
       "      <td>1</td>\n",
       "      <td>0</td>\n",
       "      <td>0</td>\n",
       "      <td>2020-01-02</td>\n",
       "      <td>5.91</td>\n",
       "      <td>0</td>\n",
       "      <td>0</td>\n",
       "      <td>False</td>\n",
       "    </tr>\n",
       "  </tbody>\n",
       "</table>\n",
       "</div>"
      ],
      "text/plain": [
       "   HOUSEHOLD_KEY    BASKET_ID  DAY  PRODUCT_ID  QUANTITY  SALES_VALUE_x  \\\n",
       "0           2375  26984851472    1     1004906         1           1.39   \n",
       "1           2375  26984851472    1     1033142         1           0.82   \n",
       "2           2375  26984851472    1     1036325         1           0.99   \n",
       "3           2375  26984851472    1     1082185         1           1.21   \n",
       "4           2375  26984851472    1     8160430         1           1.50   \n",
       "\n",
       "   STORE_ID  RETAIL_DISC  TRANS_TIME  WEEK_NO  COUPON_DISC_x  \\\n",
       "0       364        -0.60        1631        1              0   \n",
       "1       364         0.00        1631        1              0   \n",
       "2       364        -0.30        1631        1              0   \n",
       "3       364         0.00        1631        1              0   \n",
       "4       364        -0.39        1631        1              0   \n",
       "\n",
       "   COUPON_MATCH_DISC_x       Date  SALES_VALUE_y  COUPON_DISC_y  \\\n",
       "0                    0 2020-01-02           5.91              0   \n",
       "1                    0 2020-01-02           5.91              0   \n",
       "2                    0 2020-01-02           5.91              0   \n",
       "3                    0 2020-01-02           5.91              0   \n",
       "4                    0 2020-01-02           5.91              0   \n",
       "\n",
       "   COUPON_MATCH_DISC_y  use_coupon  \n",
       "0                    0       False  \n",
       "1                    0       False  \n",
       "2                    0       False  \n",
       "3                    0       False  \n",
       "4                    0       False  "
      ]
     },
     "execution_count": 34,
     "metadata": {},
     "output_type": "execute_result"
    }
   ],
   "source": [
    "trxn_desc.head()"
   ]
  },
  {
   "cell_type": "markdown",
   "id": "f1d00ffe-1691-4f14-85c9-54b36a9704c9",
   "metadata": {},
   "source": [
    "**droping duplicate columns**"
   ]
  },
  {
   "cell_type": "code",
   "execution_count": 34,
   "id": "73e8e199",
   "metadata": {},
   "outputs": [],
   "source": [
    "trxn_desc.drop(['SALES_VALUE_y','COUPON_DISC_y','COUPON_MATCH_DISC_y'],axis =1,inplace = True)"
   ]
  },
  {
   "cell_type": "code",
   "execution_count": 36,
   "id": "4608c438",
   "metadata": {},
   "outputs": [
    {
     "data": {
      "text/html": [
       "<div>\n",
       "<style scoped>\n",
       "    .dataframe tbody tr th:only-of-type {\n",
       "        vertical-align: middle;\n",
       "    }\n",
       "\n",
       "    .dataframe tbody tr th {\n",
       "        vertical-align: top;\n",
       "    }\n",
       "\n",
       "    .dataframe thead th {\n",
       "        text-align: right;\n",
       "    }\n",
       "</style>\n",
       "<table border=\"1\" class=\"dataframe\">\n",
       "  <thead>\n",
       "    <tr style=\"text-align: right;\">\n",
       "      <th></th>\n",
       "      <th>HOUSEHOLD_KEY</th>\n",
       "      <th>BASKET_ID</th>\n",
       "      <th>DAY</th>\n",
       "      <th>PRODUCT_ID</th>\n",
       "      <th>QUANTITY</th>\n",
       "      <th>SALES_VALUE_x</th>\n",
       "      <th>STORE_ID</th>\n",
       "      <th>RETAIL_DISC</th>\n",
       "      <th>TRANS_TIME</th>\n",
       "      <th>WEEK_NO</th>\n",
       "      <th>COUPON_DISC_x</th>\n",
       "      <th>COUPON_MATCH_DISC_x</th>\n",
       "      <th>Date</th>\n",
       "      <th>use_coupon</th>\n",
       "    </tr>\n",
       "  </thead>\n",
       "  <tbody>\n",
       "    <tr>\n",
       "      <th>0</th>\n",
       "      <td>2375</td>\n",
       "      <td>26984851472</td>\n",
       "      <td>1</td>\n",
       "      <td>1004906</td>\n",
       "      <td>1</td>\n",
       "      <td>1.39</td>\n",
       "      <td>364</td>\n",
       "      <td>-0.60</td>\n",
       "      <td>1631</td>\n",
       "      <td>1</td>\n",
       "      <td>0</td>\n",
       "      <td>0</td>\n",
       "      <td>2020-01-02</td>\n",
       "      <td>False</td>\n",
       "    </tr>\n",
       "    <tr>\n",
       "      <th>1</th>\n",
       "      <td>2375</td>\n",
       "      <td>26984851472</td>\n",
       "      <td>1</td>\n",
       "      <td>1033142</td>\n",
       "      <td>1</td>\n",
       "      <td>0.82</td>\n",
       "      <td>364</td>\n",
       "      <td>0.00</td>\n",
       "      <td>1631</td>\n",
       "      <td>1</td>\n",
       "      <td>0</td>\n",
       "      <td>0</td>\n",
       "      <td>2020-01-02</td>\n",
       "      <td>False</td>\n",
       "    </tr>\n",
       "    <tr>\n",
       "      <th>2</th>\n",
       "      <td>2375</td>\n",
       "      <td>26984851472</td>\n",
       "      <td>1</td>\n",
       "      <td>1036325</td>\n",
       "      <td>1</td>\n",
       "      <td>0.99</td>\n",
       "      <td>364</td>\n",
       "      <td>-0.30</td>\n",
       "      <td>1631</td>\n",
       "      <td>1</td>\n",
       "      <td>0</td>\n",
       "      <td>0</td>\n",
       "      <td>2020-01-02</td>\n",
       "      <td>False</td>\n",
       "    </tr>\n",
       "    <tr>\n",
       "      <th>3</th>\n",
       "      <td>2375</td>\n",
       "      <td>26984851472</td>\n",
       "      <td>1</td>\n",
       "      <td>1082185</td>\n",
       "      <td>1</td>\n",
       "      <td>1.21</td>\n",
       "      <td>364</td>\n",
       "      <td>0.00</td>\n",
       "      <td>1631</td>\n",
       "      <td>1</td>\n",
       "      <td>0</td>\n",
       "      <td>0</td>\n",
       "      <td>2020-01-02</td>\n",
       "      <td>False</td>\n",
       "    </tr>\n",
       "    <tr>\n",
       "      <th>4</th>\n",
       "      <td>2375</td>\n",
       "      <td>26984851472</td>\n",
       "      <td>1</td>\n",
       "      <td>8160430</td>\n",
       "      <td>1</td>\n",
       "      <td>1.50</td>\n",
       "      <td>364</td>\n",
       "      <td>-0.39</td>\n",
       "      <td>1631</td>\n",
       "      <td>1</td>\n",
       "      <td>0</td>\n",
       "      <td>0</td>\n",
       "      <td>2020-01-02</td>\n",
       "      <td>False</td>\n",
       "    </tr>\n",
       "  </tbody>\n",
       "</table>\n",
       "</div>"
      ],
      "text/plain": [
       "   HOUSEHOLD_KEY    BASKET_ID  DAY  PRODUCT_ID  QUANTITY  SALES_VALUE_x  \\\n",
       "0           2375  26984851472    1     1004906         1           1.39   \n",
       "1           2375  26984851472    1     1033142         1           0.82   \n",
       "2           2375  26984851472    1     1036325         1           0.99   \n",
       "3           2375  26984851472    1     1082185         1           1.21   \n",
       "4           2375  26984851472    1     8160430         1           1.50   \n",
       "\n",
       "   STORE_ID  RETAIL_DISC  TRANS_TIME  WEEK_NO  COUPON_DISC_x  \\\n",
       "0       364        -0.60        1631        1              0   \n",
       "1       364         0.00        1631        1              0   \n",
       "2       364        -0.30        1631        1              0   \n",
       "3       364         0.00        1631        1              0   \n",
       "4       364        -0.39        1631        1              0   \n",
       "\n",
       "   COUPON_MATCH_DISC_x       Date  use_coupon  \n",
       "0                    0 2020-01-02       False  \n",
       "1                    0 2020-01-02       False  \n",
       "2                    0 2020-01-02       False  \n",
       "3                    0 2020-01-02       False  \n",
       "4                    0 2020-01-02       False  "
      ]
     },
     "execution_count": 36,
     "metadata": {},
     "output_type": "execute_result"
    }
   ],
   "source": [
    "trxn_desc.head()"
   ]
  },
  {
   "cell_type": "markdown",
   "id": "a4921459-9b2c-42ce-9668-03aa479d4185",
   "metadata": {},
   "source": [
    "**Joining trxn_desc & PRODUCT_RAW so that we can better analyse sales with respect to products.**"
   ]
  },
  {
   "cell_type": "code",
   "execution_count": 35,
   "id": "677a2366",
   "metadata": {},
   "outputs": [],
   "source": [
    "trxn_desc = trxn_desc.merge(right =PRODUCT_RAW, on = 'PRODUCT_ID',how = 'left')"
   ]
  },
  {
   "cell_type": "code",
   "execution_count": 77,
   "id": "fffe02ba",
   "metadata": {},
   "outputs": [
    {
     "data": {
      "text/html": [
       "<div>\n",
       "<style scoped>\n",
       "    .dataframe tbody tr th:only-of-type {\n",
       "        vertical-align: middle;\n",
       "    }\n",
       "\n",
       "    .dataframe tbody tr th {\n",
       "        vertical-align: top;\n",
       "    }\n",
       "\n",
       "    .dataframe thead th {\n",
       "        text-align: right;\n",
       "    }\n",
       "</style>\n",
       "<table border=\"1\" class=\"dataframe\">\n",
       "  <thead>\n",
       "    <tr style=\"text-align: right;\">\n",
       "      <th></th>\n",
       "      <th>HOUSEHOLD_KEY</th>\n",
       "      <th>BASKET_ID</th>\n",
       "      <th>DAY</th>\n",
       "      <th>PRODUCT_ID</th>\n",
       "      <th>QUANTITY</th>\n",
       "      <th>SALES_VALUE_x</th>\n",
       "      <th>STORE_ID</th>\n",
       "      <th>RETAIL_DISC</th>\n",
       "      <th>TRANS_TIME</th>\n",
       "      <th>WEEK_NO</th>\n",
       "      <th>COUPON_DISC_x</th>\n",
       "      <th>COUPON_MATCH_DISC_x</th>\n",
       "      <th>Date</th>\n",
       "      <th>use_coupon</th>\n",
       "      <th>MANUFACTURER</th>\n",
       "      <th>DEPARTMENT</th>\n",
       "      <th>BRAND</th>\n",
       "      <th>COMMODITY_DESC</th>\n",
       "      <th>SUB_COMMODITY_DESC</th>\n",
       "      <th>CURR_SIZE_OF_PRODUCT</th>\n",
       "    </tr>\n",
       "  </thead>\n",
       "  <tbody>\n",
       "    <tr>\n",
       "      <th>0</th>\n",
       "      <td>2375</td>\n",
       "      <td>26984851472</td>\n",
       "      <td>1</td>\n",
       "      <td>1004906</td>\n",
       "      <td>1</td>\n",
       "      <td>1.39</td>\n",
       "      <td>364</td>\n",
       "      <td>-0.60</td>\n",
       "      <td>1631</td>\n",
       "      <td>1</td>\n",
       "      <td>0</td>\n",
       "      <td>0</td>\n",
       "      <td>2020-01-02</td>\n",
       "      <td>False</td>\n",
       "      <td>69</td>\n",
       "      <td>PRODUCE</td>\n",
       "      <td>Private</td>\n",
       "      <td>POTATOES</td>\n",
       "      <td>POTATOES RUSSET (BULK&amp;BAG)</td>\n",
       "      <td>5 LB</td>\n",
       "    </tr>\n",
       "    <tr>\n",
       "      <th>1</th>\n",
       "      <td>2375</td>\n",
       "      <td>26984851472</td>\n",
       "      <td>1</td>\n",
       "      <td>1033142</td>\n",
       "      <td>1</td>\n",
       "      <td>0.82</td>\n",
       "      <td>364</td>\n",
       "      <td>0.00</td>\n",
       "      <td>1631</td>\n",
       "      <td>1</td>\n",
       "      <td>0</td>\n",
       "      <td>0</td>\n",
       "      <td>2020-01-02</td>\n",
       "      <td>False</td>\n",
       "      <td>2</td>\n",
       "      <td>PRODUCE</td>\n",
       "      <td>National</td>\n",
       "      <td>ONIONS</td>\n",
       "      <td>ONIONS SWEET (BULK&amp;BAG)</td>\n",
       "      <td>40 LB</td>\n",
       "    </tr>\n",
       "    <tr>\n",
       "      <th>2</th>\n",
       "      <td>2375</td>\n",
       "      <td>26984851472</td>\n",
       "      <td>1</td>\n",
       "      <td>1036325</td>\n",
       "      <td>1</td>\n",
       "      <td>0.99</td>\n",
       "      <td>364</td>\n",
       "      <td>-0.30</td>\n",
       "      <td>1631</td>\n",
       "      <td>1</td>\n",
       "      <td>0</td>\n",
       "      <td>0</td>\n",
       "      <td>2020-01-02</td>\n",
       "      <td>False</td>\n",
       "      <td>69</td>\n",
       "      <td>PRODUCE</td>\n",
       "      <td>Private</td>\n",
       "      <td>VEGETABLES - ALL OTHERS</td>\n",
       "      <td>CELERY</td>\n",
       "      <td></td>\n",
       "    </tr>\n",
       "    <tr>\n",
       "      <th>3</th>\n",
       "      <td>2375</td>\n",
       "      <td>26984851472</td>\n",
       "      <td>1</td>\n",
       "      <td>1082185</td>\n",
       "      <td>1</td>\n",
       "      <td>1.21</td>\n",
       "      <td>364</td>\n",
       "      <td>0.00</td>\n",
       "      <td>1631</td>\n",
       "      <td>1</td>\n",
       "      <td>0</td>\n",
       "      <td>0</td>\n",
       "      <td>2020-01-02</td>\n",
       "      <td>False</td>\n",
       "      <td>2</td>\n",
       "      <td>PRODUCE</td>\n",
       "      <td>National</td>\n",
       "      <td>TROPICAL FRUIT</td>\n",
       "      <td>BANANAS</td>\n",
       "      <td>40 LB</td>\n",
       "    </tr>\n",
       "    <tr>\n",
       "      <th>4</th>\n",
       "      <td>2375</td>\n",
       "      <td>26984851472</td>\n",
       "      <td>1</td>\n",
       "      <td>8160430</td>\n",
       "      <td>1</td>\n",
       "      <td>1.50</td>\n",
       "      <td>364</td>\n",
       "      <td>-0.39</td>\n",
       "      <td>1631</td>\n",
       "      <td>1</td>\n",
       "      <td>0</td>\n",
       "      <td>0</td>\n",
       "      <td>2020-01-02</td>\n",
       "      <td>False</td>\n",
       "      <td>69</td>\n",
       "      <td>PRODUCE</td>\n",
       "      <td>Private</td>\n",
       "      <td>ORGANICS FRUIT &amp; VEGETABLES</td>\n",
       "      <td>ORGANIC CARROTS</td>\n",
       "      <td>1 LB</td>\n",
       "    </tr>\n",
       "  </tbody>\n",
       "</table>\n",
       "</div>"
      ],
      "text/plain": [
       "   HOUSEHOLD_KEY    BASKET_ID  DAY  PRODUCT_ID  QUANTITY  SALES_VALUE_x  \\\n",
       "0           2375  26984851472    1     1004906         1           1.39   \n",
       "1           2375  26984851472    1     1033142         1           0.82   \n",
       "2           2375  26984851472    1     1036325         1           0.99   \n",
       "3           2375  26984851472    1     1082185         1           1.21   \n",
       "4           2375  26984851472    1     8160430         1           1.50   \n",
       "\n",
       "   STORE_ID  RETAIL_DISC  TRANS_TIME  WEEK_NO  COUPON_DISC_x  \\\n",
       "0       364        -0.60        1631        1              0   \n",
       "1       364         0.00        1631        1              0   \n",
       "2       364        -0.30        1631        1              0   \n",
       "3       364         0.00        1631        1              0   \n",
       "4       364        -0.39        1631        1              0   \n",
       "\n",
       "   COUPON_MATCH_DISC_x       Date  use_coupon  MANUFACTURER DEPARTMENT  \\\n",
       "0                    0 2020-01-02       False            69    PRODUCE   \n",
       "1                    0 2020-01-02       False             2    PRODUCE   \n",
       "2                    0 2020-01-02       False            69    PRODUCE   \n",
       "3                    0 2020-01-02       False             2    PRODUCE   \n",
       "4                    0 2020-01-02       False            69    PRODUCE   \n",
       "\n",
       "      BRAND               COMMODITY_DESC          SUB_COMMODITY_DESC  \\\n",
       "0   Private                     POTATOES  POTATOES RUSSET (BULK&BAG)   \n",
       "1  National                       ONIONS     ONIONS SWEET (BULK&BAG)   \n",
       "2   Private      VEGETABLES - ALL OTHERS                      CELERY   \n",
       "3  National               TROPICAL FRUIT                     BANANAS   \n",
       "4   Private  ORGANICS FRUIT & VEGETABLES             ORGANIC CARROTS   \n",
       "\n",
       "  CURR_SIZE_OF_PRODUCT  \n",
       "0                 5 LB  \n",
       "1                40 LB  \n",
       "2                       \n",
       "3                40 LB  \n",
       "4                 1 LB  "
      ]
     },
     "execution_count": 77,
     "metadata": {},
     "output_type": "execute_result"
    }
   ],
   "source": [
    "trxn_desc.head()"
   ]
  },
  {
   "cell_type": "markdown",
   "id": "db5fcb3b-5e09-4fac-ba01-19e9e5cc915c",
   "metadata": {},
   "source": [
    "**Extracting from trxn_desc, quantity sold,total discount given & total coupons used\n",
    "for each commodity using group by and aggregate function and  storing the information in\n",
    "variable COMMODITY_Coupon** "
   ]
  },
  {
   "cell_type": "code",
   "execution_count": 36,
   "id": "613d8e63",
   "metadata": {},
   "outputs": [],
   "source": [
    "COMMODITY_Coupon = trxn_desc.groupby('COMMODITY_DESC').agg(Total_Quantity = ('QUANTITY','count'),\n",
    "                                                           use_coupon = ('use_coupon', 'sum'),\n",
    "                                                           coupon_desc = ('COUPON_DISC_x','sum'))"
   ]
  },
  {
   "cell_type": "code",
   "execution_count": 61,
   "id": "abcab9e0",
   "metadata": {},
   "outputs": [
    {
     "data": {
      "text/html": [
       "<div>\n",
       "<style scoped>\n",
       "    .dataframe tbody tr th:only-of-type {\n",
       "        vertical-align: middle;\n",
       "    }\n",
       "\n",
       "    .dataframe tbody tr th {\n",
       "        vertical-align: top;\n",
       "    }\n",
       "\n",
       "    .dataframe thead th {\n",
       "        text-align: right;\n",
       "    }\n",
       "</style>\n",
       "<table border=\"1\" class=\"dataframe\">\n",
       "  <thead>\n",
       "    <tr style=\"text-align: right;\">\n",
       "      <th></th>\n",
       "      <th>Total_Quantity</th>\n",
       "      <th>use_coupon</th>\n",
       "      <th>coupon_desc</th>\n",
       "    </tr>\n",
       "    <tr>\n",
       "      <th>COMMODITY_DESC</th>\n",
       "      <th></th>\n",
       "      <th></th>\n",
       "      <th></th>\n",
       "    </tr>\n",
       "  </thead>\n",
       "  <tbody>\n",
       "    <tr>\n",
       "      <th></th>\n",
       "      <td>1303</td>\n",
       "      <td>872</td>\n",
       "      <td>-1396</td>\n",
       "    </tr>\n",
       "    <tr>\n",
       "      <th>(CORP USE ONLY)</th>\n",
       "      <td>12</td>\n",
       "      <td>0</td>\n",
       "      <td>0</td>\n",
       "    </tr>\n",
       "    <tr>\n",
       "      <th>ADULT INCONTINENCE</th>\n",
       "      <td>74</td>\n",
       "      <td>3</td>\n",
       "      <td>-1</td>\n",
       "    </tr>\n",
       "    <tr>\n",
       "      <th>AIR CARE</th>\n",
       "      <td>928</td>\n",
       "      <td>193</td>\n",
       "      <td>-124</td>\n",
       "    </tr>\n",
       "    <tr>\n",
       "      <th>ANALGESICS</th>\n",
       "      <td>681</td>\n",
       "      <td>89</td>\n",
       "      <td>-3</td>\n",
       "    </tr>\n",
       "    <tr>\n",
       "      <th>...</th>\n",
       "      <td>...</td>\n",
       "      <td>...</td>\n",
       "      <td>...</td>\n",
       "    </tr>\n",
       "    <tr>\n",
       "      <th>WAREHOUSE SNACKS</th>\n",
       "      <td>1846</td>\n",
       "      <td>213</td>\n",
       "      <td>-18</td>\n",
       "    </tr>\n",
       "    <tr>\n",
       "      <th>WATCHES/CALCULATORS/LOBBY</th>\n",
       "      <td>12</td>\n",
       "      <td>0</td>\n",
       "      <td>0</td>\n",
       "    </tr>\n",
       "    <tr>\n",
       "      <th>WATER</th>\n",
       "      <td>363</td>\n",
       "      <td>36</td>\n",
       "      <td>0</td>\n",
       "    </tr>\n",
       "    <tr>\n",
       "      <th>WATER - CARBONATED/FLVRD DRINK</th>\n",
       "      <td>4188</td>\n",
       "      <td>371</td>\n",
       "      <td>-13</td>\n",
       "    </tr>\n",
       "    <tr>\n",
       "      <th>YOGURT</th>\n",
       "      <td>7897</td>\n",
       "      <td>1174</td>\n",
       "      <td>-104</td>\n",
       "    </tr>\n",
       "  </tbody>\n",
       "</table>\n",
       "<p>298 rows × 3 columns</p>\n",
       "</div>"
      ],
      "text/plain": [
       "                                Total_Quantity  use_coupon  coupon_desc\n",
       "COMMODITY_DESC                                                         \n",
       "                                          1303         872        -1396\n",
       "(CORP USE ONLY)                             12           0            0\n",
       "ADULT INCONTINENCE                          74           3           -1\n",
       "AIR CARE                                   928         193         -124\n",
       "ANALGESICS                                 681          89           -3\n",
       "...                                        ...         ...          ...\n",
       "WAREHOUSE SNACKS                          1846         213          -18\n",
       "WATCHES/CALCULATORS/LOBBY                   12           0            0\n",
       "WATER                                      363          36            0\n",
       "WATER - CARBONATED/FLVRD DRINK            4188         371          -13\n",
       "YOGURT                                    7897        1174         -104\n",
       "\n",
       "[298 rows x 3 columns]"
      ]
     },
     "execution_count": 61,
     "metadata": {},
     "output_type": "execute_result"
    }
   ],
   "source": [
    "COMMODITY_Coupon"
   ]
  },
  {
   "cell_type": "markdown",
   "id": "5ea2f0f9-9490-4ca9-bf4e-2498c1f9d7af",
   "metadata": {},
   "source": [
    "**Finding the percentage of coupon used & storing the result in a new column 'coupon%' in COMMODITY_Coupon table** "
   ]
  },
  {
   "cell_type": "code",
   "execution_count": 37,
   "id": "3682216a",
   "metadata": {},
   "outputs": [],
   "source": [
    "COMMODITY_Coupon['coupon%'] = round((COMMODITY_Coupon['use_coupon']/COMMODITY_Coupon['Total_Quantity'])*100,2)"
   ]
  },
  {
   "cell_type": "markdown",
   "id": "fca9693a-cac0-4a72-8aac-5b95ebf84d47",
   "metadata": {},
   "source": [
    "**Sorting the table by coupon%  in descending order and showing only the first 10 rows.**"
   ]
  },
  {
   "cell_type": "code",
   "execution_count": 64,
   "id": "785ec0fd",
   "metadata": {},
   "outputs": [
    {
     "data": {
      "text/html": [
       "<div>\n",
       "<style scoped>\n",
       "    .dataframe tbody tr th:only-of-type {\n",
       "        vertical-align: middle;\n",
       "    }\n",
       "\n",
       "    .dataframe tbody tr th {\n",
       "        vertical-align: top;\n",
       "    }\n",
       "\n",
       "    .dataframe thead th {\n",
       "        text-align: right;\n",
       "    }\n",
       "</style>\n",
       "<table border=\"1\" class=\"dataframe\">\n",
       "  <thead>\n",
       "    <tr style=\"text-align: right;\">\n",
       "      <th></th>\n",
       "      <th>Total_Quantity</th>\n",
       "      <th>use_coupon</th>\n",
       "      <th>coupon_desc</th>\n",
       "      <th>coupon%</th>\n",
       "    </tr>\n",
       "    <tr>\n",
       "      <th>COMMODITY_DESC</th>\n",
       "      <th></th>\n",
       "      <th></th>\n",
       "      <th></th>\n",
       "      <th></th>\n",
       "    </tr>\n",
       "  </thead>\n",
       "  <tbody>\n",
       "    <tr>\n",
       "      <th>NATURAL VITAMINS</th>\n",
       "      <td>1</td>\n",
       "      <td>1</td>\n",
       "      <td>-5</td>\n",
       "      <td>100.00</td>\n",
       "    </tr>\n",
       "    <tr>\n",
       "      <th></th>\n",
       "      <td>1303</td>\n",
       "      <td>872</td>\n",
       "      <td>-1396</td>\n",
       "      <td>66.92</td>\n",
       "    </tr>\n",
       "    <tr>\n",
       "      <th>VALENTINE</th>\n",
       "      <td>5</td>\n",
       "      <td>2</td>\n",
       "      <td>0</td>\n",
       "      <td>40.00</td>\n",
       "    </tr>\n",
       "    <tr>\n",
       "      <th>BABY FOODS</th>\n",
       "      <td>3664</td>\n",
       "      <td>1114</td>\n",
       "      <td>-38</td>\n",
       "      <td>30.40</td>\n",
       "    </tr>\n",
       "    <tr>\n",
       "      <th>RW FRESH PROCESSED MEAT</th>\n",
       "      <td>7</td>\n",
       "      <td>2</td>\n",
       "      <td>0</td>\n",
       "      <td>28.57</td>\n",
       "    </tr>\n",
       "    <tr>\n",
       "      <th>DIAPERS &amp; DISPOSABLES</th>\n",
       "      <td>864</td>\n",
       "      <td>231</td>\n",
       "      <td>-215</td>\n",
       "      <td>26.74</td>\n",
       "    </tr>\n",
       "    <tr>\n",
       "      <th>BABY HBC</th>\n",
       "      <td>817</td>\n",
       "      <td>181</td>\n",
       "      <td>-82</td>\n",
       "      <td>22.15</td>\n",
       "    </tr>\n",
       "    <tr>\n",
       "      <th>AIR CARE</th>\n",
       "      <td>928</td>\n",
       "      <td>193</td>\n",
       "      <td>-124</td>\n",
       "      <td>20.80</td>\n",
       "    </tr>\n",
       "    <tr>\n",
       "      <th>FRZN BREAKFAST FOODS</th>\n",
       "      <td>1743</td>\n",
       "      <td>347</td>\n",
       "      <td>-61</td>\n",
       "      <td>19.91</td>\n",
       "    </tr>\n",
       "    <tr>\n",
       "      <th>CAT LITTER</th>\n",
       "      <td>531</td>\n",
       "      <td>104</td>\n",
       "      <td>-11</td>\n",
       "      <td>19.59</td>\n",
       "    </tr>\n",
       "  </tbody>\n",
       "</table>\n",
       "</div>"
      ],
      "text/plain": [
       "                         Total_Quantity  use_coupon  coupon_desc  coupon%\n",
       "COMMODITY_DESC                                                           \n",
       "NATURAL VITAMINS                      1           1           -5   100.00\n",
       "                                   1303         872        -1396    66.92\n",
       "VALENTINE                             5           2            0    40.00\n",
       "BABY FOODS                         3664        1114          -38    30.40\n",
       "RW FRESH PROCESSED MEAT               7           2            0    28.57\n",
       "DIAPERS & DISPOSABLES               864         231         -215    26.74\n",
       "BABY HBC                            817         181          -82    22.15\n",
       "AIR CARE                            928         193         -124    20.80\n",
       "FRZN BREAKFAST FOODS               1743         347          -61    19.91\n",
       "CAT LITTER                          531         104          -11    19.59"
      ]
     },
     "execution_count": 64,
     "metadata": {},
     "output_type": "execute_result"
    }
   ],
   "source": [
    "COMMODITY_Coupon.sort_values('coupon%', ascending = False).head(10)"
   ]
  },
  {
   "cell_type": "markdown",
   "id": "db70de22-89ee-4a32-a7a0-53cd5b1dc58a",
   "metadata": {},
   "source": [
    "**Finding the sum of sales_value, sum of retail_discount, sum of coupon_discount,\n",
    "sum of coupon_match_discount of each household for each week_no. & day**"
   ]
  },
  {
   "cell_type": "code",
   "execution_count": 65,
   "id": "92c72304",
   "metadata": {},
   "outputs": [
    {
     "data": {
      "text/html": [
       "<div>\n",
       "<style scoped>\n",
       "    .dataframe tbody tr th:only-of-type {\n",
       "        vertical-align: middle;\n",
       "    }\n",
       "\n",
       "    .dataframe tbody tr th {\n",
       "        vertical-align: top;\n",
       "    }\n",
       "\n",
       "    .dataframe thead th {\n",
       "        text-align: right;\n",
       "    }\n",
       "</style>\n",
       "<table border=\"1\" class=\"dataframe\">\n",
       "  <thead>\n",
       "    <tr style=\"text-align: right;\">\n",
       "      <th></th>\n",
       "      <th></th>\n",
       "      <th></th>\n",
       "      <th>SALES_VALUE</th>\n",
       "      <th>RETAIL_DISC</th>\n",
       "      <th>COUPON_DISC</th>\n",
       "      <th>COUPON_MATCH_DISC</th>\n",
       "    </tr>\n",
       "    <tr>\n",
       "      <th>HOUSEHOLD_KEY</th>\n",
       "      <th>WEEK_NO</th>\n",
       "      <th>DAY</th>\n",
       "      <th></th>\n",
       "      <th></th>\n",
       "      <th></th>\n",
       "      <th></th>\n",
       "    </tr>\n",
       "  </thead>\n",
       "  <tbody>\n",
       "    <tr>\n",
       "      <th rowspan=\"5\" valign=\"top\">1</th>\n",
       "      <th>8</th>\n",
       "      <th>51</th>\n",
       "      <td>78.66</td>\n",
       "      <td>-16.54</td>\n",
       "      <td>-1</td>\n",
       "      <td>0</td>\n",
       "    </tr>\n",
       "    <tr>\n",
       "      <th>10</th>\n",
       "      <th>67</th>\n",
       "      <td>41.10</td>\n",
       "      <td>-8.59</td>\n",
       "      <td>0</td>\n",
       "      <td>0</td>\n",
       "    </tr>\n",
       "    <tr>\n",
       "      <th>13</th>\n",
       "      <th>88</th>\n",
       "      <td>26.90</td>\n",
       "      <td>-6.72</td>\n",
       "      <td>0</td>\n",
       "      <td>0</td>\n",
       "    </tr>\n",
       "    <tr>\n",
       "      <th>14</th>\n",
       "      <th>94</th>\n",
       "      <td>63.43</td>\n",
       "      <td>-11.08</td>\n",
       "      <td>-2</td>\n",
       "      <td>-1</td>\n",
       "    </tr>\n",
       "    <tr>\n",
       "      <th>15</th>\n",
       "      <th>101</th>\n",
       "      <td>53.45</td>\n",
       "      <td>-16.42</td>\n",
       "      <td>0</td>\n",
       "      <td>0</td>\n",
       "    </tr>\n",
       "    <tr>\n",
       "      <th>...</th>\n",
       "      <th>...</th>\n",
       "      <th>...</th>\n",
       "      <td>...</td>\n",
       "      <td>...</td>\n",
       "      <td>...</td>\n",
       "      <td>...</td>\n",
       "    </tr>\n",
       "    <tr>\n",
       "      <th rowspan=\"5\" valign=\"top\">2500</th>\n",
       "      <th>21</th>\n",
       "      <th>145</th>\n",
       "      <td>50.23</td>\n",
       "      <td>-2.02</td>\n",
       "      <td>-3</td>\n",
       "      <td>0</td>\n",
       "    </tr>\n",
       "    <tr>\n",
       "      <th>22</th>\n",
       "      <th>150</th>\n",
       "      <td>55.03</td>\n",
       "      <td>-2.17</td>\n",
       "      <td>0</td>\n",
       "      <td>0</td>\n",
       "    </tr>\n",
       "    <tr>\n",
       "      <th rowspan=\"3\" valign=\"top\">26</th>\n",
       "      <th>174</th>\n",
       "      <td>110.30</td>\n",
       "      <td>-49.05</td>\n",
       "      <td>-1</td>\n",
       "      <td>0</td>\n",
       "    </tr>\n",
       "    <tr>\n",
       "      <th>175</th>\n",
       "      <td>10.59</td>\n",
       "      <td>0.00</td>\n",
       "      <td>-2</td>\n",
       "      <td>0</td>\n",
       "    </tr>\n",
       "    <tr>\n",
       "      <th>176</th>\n",
       "      <td>20.26</td>\n",
       "      <td>-2.51</td>\n",
       "      <td>0</td>\n",
       "      <td>0</td>\n",
       "    </tr>\n",
       "  </tbody>\n",
       "</table>\n",
       "<p>40506 rows × 4 columns</p>\n",
       "</div>"
      ],
      "text/plain": [
       "                           SALES_VALUE  RETAIL_DISC  COUPON_DISC  \\\n",
       "HOUSEHOLD_KEY WEEK_NO DAY                                          \n",
       "1             8       51         78.66       -16.54           -1   \n",
       "              10      67         41.10        -8.59            0   \n",
       "              13      88         26.90        -6.72            0   \n",
       "              14      94         63.43       -11.08           -2   \n",
       "              15      101        53.45       -16.42            0   \n",
       "...                                ...          ...          ...   \n",
       "2500          21      145        50.23        -2.02           -3   \n",
       "              22      150        55.03        -2.17            0   \n",
       "              26      174       110.30       -49.05           -1   \n",
       "                      175        10.59         0.00           -2   \n",
       "                      176        20.26        -2.51            0   \n",
       "\n",
       "                           COUPON_MATCH_DISC  \n",
       "HOUSEHOLD_KEY WEEK_NO DAY                     \n",
       "1             8       51                   0  \n",
       "              10      67                   0  \n",
       "              13      88                   0  \n",
       "              14      94                  -1  \n",
       "              15      101                  0  \n",
       "...                                      ...  \n",
       "2500          21      145                  0  \n",
       "              22      150                  0  \n",
       "              26      174                  0  \n",
       "                      175                  0  \n",
       "                      176                  0  \n",
       "\n",
       "[40506 rows x 4 columns]"
      ]
     },
     "execution_count": 65,
     "metadata": {},
     "output_type": "execute_result"
    }
   ],
   "source": [
    "TRANSACTION_RAW.groupby(['HOUSEHOLD_KEY','WEEK_NO','DAY']).agg({'SALES_VALUE':'sum','RETAIL_DISC':'sum','COUPON_DISC':'sum','COUPON_MATCH_DISC':'sum'})"
   ]
  },
  {
   "cell_type": "markdown",
   "id": "8fc6f119-2133-488f-9da3-83da67828342",
   "metadata": {},
   "source": [
    "**Finding the sum of sales_value, sum of retail_discount, sum of coupon_discount, \n",
    "sum of coupon_match_discount for each month to find corelation between sale & discounts.**"
   ]
  },
  {
   "cell_type": "code",
   "execution_count": 68,
   "id": "51001074",
   "metadata": {},
   "outputs": [
    {
     "data": {
      "text/html": [
       "<div>\n",
       "<style scoped>\n",
       "    .dataframe tbody tr th:only-of-type {\n",
       "        vertical-align: middle;\n",
       "    }\n",
       "\n",
       "    .dataframe tbody tr th {\n",
       "        vertical-align: top;\n",
       "    }\n",
       "\n",
       "    .dataframe thead th {\n",
       "        text-align: right;\n",
       "    }\n",
       "</style>\n",
       "<table border=\"1\" class=\"dataframe\">\n",
       "  <thead>\n",
       "    <tr style=\"text-align: right;\">\n",
       "      <th></th>\n",
       "      <th>SALES_VALUE</th>\n",
       "      <th>RETAIL_DISC</th>\n",
       "      <th>COUPON_DISC</th>\n",
       "      <th>COUPON_MATCH_DISC</th>\n",
       "    </tr>\n",
       "    <tr>\n",
       "      <th>Date</th>\n",
       "      <th></th>\n",
       "      <th></th>\n",
       "      <th></th>\n",
       "      <th></th>\n",
       "    </tr>\n",
       "  </thead>\n",
       "  <tbody>\n",
       "    <tr>\n",
       "      <th>1</th>\n",
       "      <td>55507.48</td>\n",
       "      <td>-10690.45</td>\n",
       "      <td>-271</td>\n",
       "      <td>-37</td>\n",
       "    </tr>\n",
       "    <tr>\n",
       "      <th>2</th>\n",
       "      <td>114855.91</td>\n",
       "      <td>-21125.82</td>\n",
       "      <td>-497</td>\n",
       "      <td>-58</td>\n",
       "    </tr>\n",
       "    <tr>\n",
       "      <th>3</th>\n",
       "      <td>221019.50</td>\n",
       "      <td>-42163.76</td>\n",
       "      <td>-853</td>\n",
       "      <td>-124</td>\n",
       "    </tr>\n",
       "    <tr>\n",
       "      <th>4</th>\n",
       "      <td>317907.86</td>\n",
       "      <td>-61581.70</td>\n",
       "      <td>-1843</td>\n",
       "      <td>-199</td>\n",
       "    </tr>\n",
       "    <tr>\n",
       "      <th>5</th>\n",
       "      <td>353811.70</td>\n",
       "      <td>-62508.80</td>\n",
       "      <td>-1401</td>\n",
       "      <td>-234</td>\n",
       "    </tr>\n",
       "    <tr>\n",
       "      <th>6</th>\n",
       "      <td>296449.28</td>\n",
       "      <td>-50907.58</td>\n",
       "      <td>-1828</td>\n",
       "      <td>-213</td>\n",
       "    </tr>\n",
       "  </tbody>\n",
       "</table>\n",
       "</div>"
      ],
      "text/plain": [
       "      SALES_VALUE  RETAIL_DISC  COUPON_DISC  COUPON_MATCH_DISC\n",
       "Date                                                          \n",
       "1        55507.48    -10690.45         -271                -37\n",
       "2       114855.91    -21125.82         -497                -58\n",
       "3       221019.50    -42163.76         -853               -124\n",
       "4       317907.86    -61581.70        -1843               -199\n",
       "5       353811.70    -62508.80        -1401               -234\n",
       "6       296449.28    -50907.58        -1828               -213"
      ]
     },
     "execution_count": 68,
     "metadata": {},
     "output_type": "execute_result"
    }
   ],
   "source": [
    "TRANSACTION_RAW.groupby(TRANSACTION_RAW['Date'].dt.month).agg({'SALES_VALUE':'sum','RETAIL_DISC':'sum','COUPON_DISC':'sum','COUPON_MATCH_DISC':'sum'})"
   ]
  },
  {
   "cell_type": "markdown",
   "id": "cd461dde",
   "metadata": {},
   "source": [
    "** sale value increases as retail discount and coupon discount increases."
   ]
  },
  {
   "cell_type": "markdown",
   "id": "d7ef8f88-659b-43a3-b4d9-a80b97a3d52b",
   "metadata": {},
   "source": [
    "**Droping the columns which are not required for analysis**"
   ]
  },
  {
   "cell_type": "markdown",
   "id": "1008c7ec-f1da-45d7-9a25-d3727d9d92e3",
   "metadata": {},
   "source": [
    "**Importing datetime function from datetime module** "
   ]
  },
  {
   "cell_type": "code",
   "execution_count": 38,
   "id": "73cb74e6",
   "metadata": {},
   "outputs": [],
   "source": [
    "from datetime import datetime"
   ]
  },
  {
   "cell_type": "markdown",
   "id": "83def79e-772c-463e-8c65-c5d152661904",
   "metadata": {},
   "source": [
    "**droping columns 'START_DAY','END_DAY' as  we have created date columns against them**"
   ]
  },
  {
   "cell_type": "code",
   "execution_count": 39,
   "id": "04386d45",
   "metadata": {},
   "outputs": [],
   "source": [
    "CAMPAIGN_DESC_RAW.drop(['START_DAY','END_DAY'],axis = 1,inplace = True)"
   ]
  },
  {
   "cell_type": "code",
   "execution_count": 71,
   "id": "e1df7d90",
   "metadata": {},
   "outputs": [
    {
     "data": {
      "text/html": [
       "<div>\n",
       "<style scoped>\n",
       "    .dataframe tbody tr th:only-of-type {\n",
       "        vertical-align: middle;\n",
       "    }\n",
       "\n",
       "    .dataframe tbody tr th {\n",
       "        vertical-align: top;\n",
       "    }\n",
       "\n",
       "    .dataframe thead th {\n",
       "        text-align: right;\n",
       "    }\n",
       "</style>\n",
       "<table border=\"1\" class=\"dataframe\">\n",
       "  <thead>\n",
       "    <tr style=\"text-align: right;\">\n",
       "      <th></th>\n",
       "      <th>DESCRIPTION</th>\n",
       "      <th>CAMPAIGN</th>\n",
       "      <th>start_date</th>\n",
       "      <th>end_date</th>\n",
       "      <th>campaign_duration</th>\n",
       "      <th>start_month</th>\n",
       "      <th>end_month</th>\n",
       "      <th>start_year</th>\n",
       "      <th>end_year</th>\n",
       "    </tr>\n",
       "  </thead>\n",
       "  <tbody>\n",
       "    <tr>\n",
       "      <th>0</th>\n",
       "      <td>TypeB</td>\n",
       "      <td>24</td>\n",
       "      <td>2021-10-21</td>\n",
       "      <td>2021-12-20</td>\n",
       "      <td>60</td>\n",
       "      <td>10</td>\n",
       "      <td>12</td>\n",
       "      <td>2021</td>\n",
       "      <td>2021</td>\n",
       "    </tr>\n",
       "    <tr>\n",
       "      <th>1</th>\n",
       "      <td>TypeC</td>\n",
       "      <td>15</td>\n",
       "      <td>2021-07-01</td>\n",
       "      <td>2021-12-09</td>\n",
       "      <td>161</td>\n",
       "      <td>07</td>\n",
       "      <td>12</td>\n",
       "      <td>2021</td>\n",
       "      <td>2021</td>\n",
       "    </tr>\n",
       "    <tr>\n",
       "      <th>2</th>\n",
       "      <td>TypeB</td>\n",
       "      <td>25</td>\n",
       "      <td>2021-10-21</td>\n",
       "      <td>2021-11-22</td>\n",
       "      <td>32</td>\n",
       "      <td>10</td>\n",
       "      <td>11</td>\n",
       "      <td>2021</td>\n",
       "      <td>2021</td>\n",
       "    </tr>\n",
       "    <tr>\n",
       "      <th>3</th>\n",
       "      <td>TypeC</td>\n",
       "      <td>20</td>\n",
       "      <td>2021-09-07</td>\n",
       "      <td>2021-11-16</td>\n",
       "      <td>70</td>\n",
       "      <td>09</td>\n",
       "      <td>11</td>\n",
       "      <td>2021</td>\n",
       "      <td>2021</td>\n",
       "    </tr>\n",
       "    <tr>\n",
       "      <th>4</th>\n",
       "      <td>TypeB</td>\n",
       "      <td>23</td>\n",
       "      <td>2021-10-08</td>\n",
       "      <td>2021-11-15</td>\n",
       "      <td>38</td>\n",
       "      <td>10</td>\n",
       "      <td>11</td>\n",
       "      <td>2021</td>\n",
       "      <td>2021</td>\n",
       "    </tr>\n",
       "  </tbody>\n",
       "</table>\n",
       "</div>"
      ],
      "text/plain": [
       "  DESCRIPTION  CAMPAIGN start_date   end_date  campaign_duration start_month  \\\n",
       "0       TypeB        24 2021-10-21 2021-12-20                 60          10   \n",
       "1       TypeC        15 2021-07-01 2021-12-09                161          07   \n",
       "2       TypeB        25 2021-10-21 2021-11-22                 32          10   \n",
       "3       TypeC        20 2021-09-07 2021-11-16                 70          09   \n",
       "4       TypeB        23 2021-10-08 2021-11-15                 38          10   \n",
       "\n",
       "  end_month start_year end_year  \n",
       "0        12       2021     2021  \n",
       "1        12       2021     2021  \n",
       "2        11       2021     2021  \n",
       "3        11       2021     2021  \n",
       "4        11       2021     2021  "
      ]
     },
     "execution_count": 71,
     "metadata": {},
     "output_type": "execute_result"
    }
   ],
   "source": [
    "CAMPAIGN_DESC_RAW.head()"
   ]
  },
  {
   "cell_type": "code",
   "execution_count": 75,
   "id": "47c36fcf",
   "metadata": {},
   "outputs": [
    {
     "data": {
      "text/plain": [
       "DESCRIPTION                  object\n",
       "CAMPAIGN                       int8\n",
       "start_date           datetime64[ns]\n",
       "end_date             datetime64[ns]\n",
       "campaign_duration             int16\n",
       "start_month                  object\n",
       "end_month                    object\n",
       "start_year                   object\n",
       "end_year                     object\n",
       "dtype: object"
      ]
     },
     "execution_count": 75,
     "metadata": {},
     "output_type": "execute_result"
    }
   ],
   "source": [
    "CAMPAIGN_DESC_RAW.dtypes  "
   ]
  },
  {
   "cell_type": "markdown",
   "id": "afe57716-2912-4b46-aa87-989971ef504a",
   "metadata": {},
   "source": [
    "**Changing datatype of column 'start_date' from datetime64[ns] to object as it create problem \n",
    "when sending the tables back to snowflake**"
   ]
  },
  {
   "cell_type": "code",
   "execution_count": 40,
   "id": "f241f9c2",
   "metadata": {},
   "outputs": [],
   "source": [
    "CAMPAIGN_DESC_RAW['start_date'] = pd.to_datetime(CAMPAIGN_DESC_RAW['start_date']).apply(lambda x : x.date())"
   ]
  },
  {
   "cell_type": "code",
   "execution_count": 83,
   "id": "05e27bf2",
   "metadata": {},
   "outputs": [
    {
     "data": {
      "text/plain": [
       "pandas.core.series.Series"
      ]
     },
     "execution_count": 83,
     "metadata": {},
     "output_type": "execute_result"
    }
   ],
   "source": [
    "type(CAMPAIGN_DESC_RAW['start_date'])"
   ]
  },
  {
   "cell_type": "code",
   "execution_count": 84,
   "id": "ea6fba63",
   "metadata": {},
   "outputs": [
    {
     "data": {
      "text/plain": [
       "0     2021-10-21\n",
       "1     2021-07-01\n",
       "2     2021-10-21\n",
       "3     2021-09-07\n",
       "4     2021-10-08\n",
       "5     2021-09-16\n",
       "6     2021-09-16\n",
       "7     2021-08-10\n",
       "8     2021-08-26\n",
       "9     2021-07-29\n",
       "10    2021-06-15\n",
       "11    2021-07-15\n",
       "12    2021-05-19\n",
       "13    2021-04-22\n",
       "14    2021-04-22\n",
       "15    2021-04-08\n",
       "16    2021-03-11\n",
       "17    2021-02-16\n",
       "18    2021-02-02\n",
       "19    2021-01-28\n",
       "20    2020-12-22\n",
       "21    2021-01-12\n",
       "22    2021-01-07\n",
       "23    2020-12-12\n",
       "24    2020-12-17\n",
       "25    2020-11-19\n",
       "26    2020-10-08\n",
       "27    2020-09-16\n",
       "28    2020-08-25\n",
       "29    2020-08-12\n",
       "Name: start_date, dtype: object"
      ]
     },
     "execution_count": 84,
     "metadata": {},
     "output_type": "execute_result"
    }
   ],
   "source": [
    "CAMPAIGN_DESC_RAW['start_date']"
   ]
  },
  {
   "cell_type": "code",
   "execution_count": 41,
   "id": "ac3188a6",
   "metadata": {},
   "outputs": [],
   "source": [
    "CAMPAIGN_DESC_RAW['end_date'] = pd.to_datetime(CAMPAIGN_DESC_RAW['end_date']).apply(lambda x : x.date())"
   ]
  },
  {
   "cell_type": "markdown",
   "id": "b1998372-4b4f-4214-a11a-a6589718ffd0",
   "metadata": {},
   "source": [
    "**Checking datatypes of columns**"
   ]
  },
  {
   "cell_type": "code",
   "execution_count": 90,
   "id": "d836c890",
   "metadata": {},
   "outputs": [
    {
     "data": {
      "text/plain": [
       "DESCRIPTION          object\n",
       "CAMPAIGN               int8\n",
       "start_date           object\n",
       "end_date             object\n",
       "campaign_duration     int16\n",
       "start_month          object\n",
       "end_month            object\n",
       "start_year           object\n",
       "end_year             object\n",
       "dtype: object"
      ]
     },
     "execution_count": 90,
     "metadata": {},
     "output_type": "execute_result"
    }
   ],
   "source": [
    "CAMPAIGN_DESC_RAW.dtypes"
   ]
  },
  {
   "cell_type": "markdown",
   "id": "4d99ecdd-6d2b-4f19-8e54-c1e61aa364e2",
   "metadata": {},
   "source": [
    "**Droping column 'DAY'**"
   ]
  },
  {
   "cell_type": "code",
   "execution_count": 42,
   "id": "a035dd32",
   "metadata": {},
   "outputs": [],
   "source": [
    "COUPON_REDEMPT_RAW.drop(['DAY'],axis = 1, inplace = True)"
   ]
  },
  {
   "cell_type": "code",
   "execution_count": 96,
   "id": "59bde812",
   "metadata": {},
   "outputs": [
    {
     "data": {
      "text/plain": [
       "HOUSEHOLD_KEY             int16\n",
       "COUPON_UPC                int64\n",
       "CAMPAIGN                   int8\n",
       "Date             datetime64[ns]\n",
       "dtype: object"
      ]
     },
     "execution_count": 96,
     "metadata": {},
     "output_type": "execute_result"
    }
   ],
   "source": [
    "COUPON_REDEMPT_RAW.dtypes"
   ]
  },
  {
   "cell_type": "code",
   "execution_count": 43,
   "id": "bf7e0c3d",
   "metadata": {},
   "outputs": [],
   "source": [
    "COUPON_REDEMPT_RAW['Date'] = pd.to_datetime(COUPON_REDEMPT_RAW['Date']).apply(lambda x: x.date())"
   ]
  },
  {
   "cell_type": "code",
   "execution_count": 98,
   "id": "719d2381",
   "metadata": {},
   "outputs": [
    {
     "data": {
      "text/plain": [
       "HOUSEHOLD_KEY     int16\n",
       "COUPON_UPC        int64\n",
       "CAMPAIGN           int8\n",
       "Date             object\n",
       "dtype: object"
      ]
     },
     "execution_count": 98,
     "metadata": {},
     "output_type": "execute_result"
    }
   ],
   "source": [
    "COUPON_REDEMPT_RAW.dtypes"
   ]
  },
  {
   "cell_type": "code",
   "execution_count": 44,
   "id": "16260497",
   "metadata": {},
   "outputs": [],
   "source": [
    "TRANSACTION_RAW.drop(['DAY','WEEK_NO'],axis=1,inplace = True)"
   ]
  },
  {
   "cell_type": "code",
   "execution_count": 101,
   "id": "39a04592",
   "metadata": {},
   "outputs": [
    {
     "data": {
      "text/plain": [
       "HOUSEHOLD_KEY                 int16\n",
       "BASKET_ID                     int64\n",
       "PRODUCT_ID                    int32\n",
       "QUANTITY                      int32\n",
       "SALES_VALUE                 float64\n",
       "STORE_ID                      int16\n",
       "RETAIL_DISC                 float64\n",
       "TRANS_TIME                    int16\n",
       "COUPON_DISC                    int8\n",
       "COUPON_MATCH_DISC              int8\n",
       "Date                 datetime64[ns]\n",
       "dtype: object"
      ]
     },
     "execution_count": 101,
     "metadata": {},
     "output_type": "execute_result"
    }
   ],
   "source": [
    "TRANSACTION_RAW.dtypes"
   ]
  },
  {
   "cell_type": "code",
   "execution_count": 45,
   "id": "74de755f",
   "metadata": {},
   "outputs": [],
   "source": [
    "TRANSACTION_RAW['Date'] = pd.to_datetime(TRANSACTION_RAW['Date']).apply(lambda x : x.date())"
   ]
  },
  {
   "cell_type": "code",
   "execution_count": 103,
   "id": "3eab5a96",
   "metadata": {},
   "outputs": [
    {
     "data": {
      "text/plain": [
       "HOUSEHOLD_KEY          int16\n",
       "BASKET_ID              int64\n",
       "PRODUCT_ID             int32\n",
       "QUANTITY               int32\n",
       "SALES_VALUE          float64\n",
       "STORE_ID               int16\n",
       "RETAIL_DISC          float64\n",
       "TRANS_TIME             int16\n",
       "COUPON_DISC             int8\n",
       "COUPON_MATCH_DISC       int8\n",
       "Date                  object\n",
       "dtype: object"
      ]
     },
     "execution_count": 103,
     "metadata": {},
     "output_type": "execute_result"
    }
   ],
   "source": [
    "TRANSACTION_RAW.dtypes"
   ]
  },
  {
   "cell_type": "markdown",
   "id": "57a549ca",
   "metadata": {},
   "source": [
    "**Now Loading Data to DataBase**"
   ]
  },
  {
   "cell_type": "code",
   "execution_count": 48,
   "id": "78fd7678",
   "metadata": {},
   "outputs": [],
   "source": [
    "from sqlalchemy import create_engine\n",
    "from sqlalchemy.engine import url\n",
    "import snowflake.connector as snowctx\n",
    "from snowflake.connector.pandas_tools import write_pandas\n",
    "import pandas as pd\n",
    "import getpass"
   ]
  },
  {
   "cell_type": "code",
   "execution_count": 50,
   "id": "b89359e8",
   "metadata": {},
   "outputs": [
    {
     "name": "stdout",
     "output_type": "stream",
     "text": [
      "your snowflake password is: ········\n"
     ]
    }
   ],
   "source": [
    "conn= snowflake.connector.connect(\n",
    "user = 'savita',\n",
    "##password = getpass.getpass('your snowflake password is: '),  \n",
    "password = 'S15#kumar',\n",
    "account = 'nmemvzg-rl71029',           ##https://nmemvzg-rl71029.snowflakecomputing.com\n",
    "database = 'RETAILS',\n",
    "schema = 'PUBLIC',\n",
    "warehouse = 'COMPUTE_WH'    \n",
    ")"
   ]
  },
  {
   "cell_type": "code",
   "execution_count": 51,
   "id": "08d40fc5",
   "metadata": {},
   "outputs": [],
   "source": [
    "cur = conn.cursor()"
   ]
  },
  {
   "cell_type": "code",
   "execution_count": 55,
   "id": "a6b24b85",
   "metadata": {},
   "outputs": [
    {
     "data": {
      "text/plain": [
       "HOUSEHOLD_KEY     int16\n",
       "COUPON_UPC        int64\n",
       "CAMPAIGN           int8\n",
       "Date             object\n",
       "dtype: object"
      ]
     },
     "execution_count": 55,
     "metadata": {},
     "output_type": "execute_result"
    }
   ],
   "source": [
    "COUPON_REDEMPT_RAW.dtypes"
   ]
  },
  {
   "cell_type": "markdown",
   "id": "fe92cbf4-1bca-4373-a487-923abc9db8b8",
   "metadata": {},
   "source": [
    "**Creating schema of table to load data in it and then send to snowflake**"
   ]
  },
  {
   "cell_type": "code",
   "execution_count": 52,
   "id": "b3c3f30f",
   "metadata": {},
   "outputs": [
    {
     "data": {
      "text/plain": [
       "<snowflake.connector.cursor.SnowflakeCursor at 0x1a0ad9f36d0>"
      ]
     },
     "execution_count": 52,
     "metadata": {},
     "output_type": "execute_result"
    }
   ],
   "source": [
    "cur.execute(''' CREATE OR REPLACE TABLE COUPON_REDEMPT_NEW\n",
    "(HOUSEHOLD_KEY NUMBER(38,0),\n",
    "COUPON_UPC NUMBER(38,0),\n",
    "CAMPAIGN NUMBER(38,0),\n",
    "Date Date\n",
    ")''')"
   ]
  },
  {
   "cell_type": "code",
   "execution_count": 56,
   "id": "75145bb8",
   "metadata": {},
   "outputs": [
    {
     "data": {
      "text/plain": [
       "HOUSEHOLD_KEY          int16\n",
       "BASKET_ID              int64\n",
       "PRODUCT_ID             int32\n",
       "QUANTITY               int32\n",
       "SALES_VALUE          float64\n",
       "STORE_ID               int16\n",
       "RETAIL_DISC          float64\n",
       "TRANS_TIME             int16\n",
       "COUPON_DISC             int8\n",
       "COUPON_MATCH_DISC       int8\n",
       "Date                  object\n",
       "dtype: object"
      ]
     },
     "execution_count": 56,
     "metadata": {},
     "output_type": "execute_result"
    }
   ],
   "source": [
    "TRANSACTION_RAW.dtypes"
   ]
  },
  {
   "cell_type": "code",
   "execution_count": 53,
   "id": "325d5d3f",
   "metadata": {},
   "outputs": [
    {
     "data": {
      "text/plain": [
       "<snowflake.connector.cursor.SnowflakeCursor at 0x1a0ad9f36d0>"
      ]
     },
     "execution_count": 53,
     "metadata": {},
     "output_type": "execute_result"
    }
   ],
   "source": [
    "cur.execute('''CREATE OR REPLACE TABLE TRANSACTION_NEW\n",
    "(HOUSEHOLD_KEY NUMBER(38,0),\n",
    "BASKET_ID NUMBER(38,0),\n",
    "PRODUCT_ID NUMBER(38,0),\n",
    "QUANTITY NUMBER(38,0),\n",
    "SALES_VALUE FLOAT,\n",
    "STORE_ID NUMBER(38,0),\n",
    "RETAIL_DISC FLOAT,\n",
    "TRANS_TIME NUMBER(38,0),\n",
    "COUPON_DISC FLOAT,\n",
    "COUPON_MATCH_DISC FLOAT,\n",
    "Date Date\n",
    ")\n",
    "''')"
   ]
  },
  {
   "cell_type": "code",
   "execution_count": 57,
   "id": "e4505176",
   "metadata": {},
   "outputs": [
    {
     "data": {
      "text/plain": [
       "DESCRIPTION          object\n",
       "CAMPAIGN               int8\n",
       "start_date           object\n",
       "end_date             object\n",
       "campaign_duration     int16\n",
       "start_month          object\n",
       "end_month            object\n",
       "start_year           object\n",
       "end_year             object\n",
       "dtype: object"
      ]
     },
     "execution_count": 57,
     "metadata": {},
     "output_type": "execute_result"
    }
   ],
   "source": [
    "CAMPAIGN_DESC_RAW.dtypes"
   ]
  },
  {
   "cell_type": "code",
   "execution_count": 58,
   "id": "0f57ad73",
   "metadata": {},
   "outputs": [
    {
     "data": {
      "text/plain": [
       "<snowflake.connector.cursor.SnowflakeCursor at 0x1a0ad9f36d0>"
      ]
     },
     "execution_count": 58,
     "metadata": {},
     "output_type": "execute_result"
    }
   ],
   "source": [
    "cur.execute('''\n",
    "CREATE OR REPLACE TABLE CAMPAIGN_DESC_NEW\n",
    "(DESCRIPTION VARCHAR(10),\n",
    "CAMPAIGN NUMBER(38,0),\n",
    "start_date date,\n",
    "end_date  date,\n",
    "campaign_duration NUMBER(38,0),\n",
    "start_month VARCHAR(10),\n",
    "end_month VARCHAR(10),\n",
    "start_year INT,\n",
    "end_year INT)''')"
   ]
  },
  {
   "cell_type": "markdown",
   "id": "7ab4709a-7cf0-41b2-b4a4-e65f73b87855",
   "metadata": {},
   "source": [
    "**The write_pandas function writes a pandas dataframe to a database table.**"
   ]
  },
  {
   "cell_type": "code",
   "execution_count": 59,
   "id": "719dd57c",
   "metadata": {},
   "outputs": [
    {
     "name": "stdout",
     "output_type": "stream",
     "text": [
      "True,1,30\n"
     ]
    }
   ],
   "source": [
    "success, nchunks, nrows, _ = write_pandas(conn, CAMPAIGN_DESC_RAW, 'CAMPAIGN_DESC_NEW', quote_identifiers = False)\n",
    "print(str(success)+','+str(nchunks)+','+str(nrows))"
   ]
  },
  {
   "cell_type": "code",
   "execution_count": 60,
   "id": "d6ba6797",
   "metadata": {},
   "outputs": [
    {
     "name": "stdout",
     "output_type": "stream",
     "text": [
      "True,1,2318\n"
     ]
    }
   ],
   "source": [
    "success, nchunks, nrows, _ = write_pandas(conn, COUPON_REDEMPT_RAW, 'COUPON_REDEMPT_NEW', quote_identifiers = False)\n",
    "print(str(success)+','+str(nchunks)+','+str(nrows))"
   ]
  },
  {
   "cell_type": "code",
   "execution_count": 61,
   "id": "774006fc",
   "metadata": {},
   "outputs": [
    {
     "name": "stdout",
     "output_type": "stream",
     "text": [
      "True,1,450416\n"
     ]
    }
   ],
   "source": [
    "success, nchunks, nrows, _ = write_pandas(conn, TRANSACTION_RAW, 'TRANSACTION_NEW', quote_identifiers = False)\n",
    "print(str(success)+','+str(nchunks)+','+str(nrows))"
   ]
  },
  {
   "cell_type": "code",
   "execution_count": 62,
   "id": "6405bfd9",
   "metadata": {},
   "outputs": [],
   "source": [
    "cur.close()\n",
    "conn.close()"
   ]
  }
 ],
 "metadata": {
  "kernelspec": {
   "display_name": "Python 3 (ipykernel)",
   "language": "python",
   "name": "python3"
  },
  "language_info": {
   "codemirror_mode": {
    "name": "ipython",
    "version": 3
   },
   "file_extension": ".py",
   "mimetype": "text/x-python",
   "name": "python",
   "nbconvert_exporter": "python",
   "pygments_lexer": "ipython3",
   "version": "3.11.4"
  }
 },
 "nbformat": 4,
 "nbformat_minor": 5
}
